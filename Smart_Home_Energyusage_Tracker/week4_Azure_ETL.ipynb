{
 "cells": [
  {
   "cell_type": "markdown",
   "metadata": {
    "application/vnd.databricks.v1+cell": {
     "cellMetadata": {},
     "inputWidgets": {},
     "nuid": "e74f366e-be0b-4a19-936b-8e9a70699a59",
     "showTitle": false,
     "tableResultSettingsMap": {},
     "title": ""
    }
   },
   "source": [
    "#1. Upload cleaned logs to Databricks"
   ]
  },
  {
   "cell_type": "code",
   "execution_count": 0,
   "metadata": {
    "application/vnd.databricks.v1+cell": {
     "cellMetadata": {
      "byteLimit": 2048000,
      "rowLimit": 10000
     },
     "inputWidgets": {},
     "nuid": "b8a8fdbf-d8cb-4265-910f-0e9236a94ca0",
     "showTitle": false,
     "tableResultSettingsMap": {},
     "title": ""
    }
   },
   "outputs": [
    {
     "output_type": "stream",
     "name": "stdout",
     "output_type": "stream",
     "text": [
      "cleaned energy logs:\n+------+---------+---------------+-------------------+\n|log_id|device_id|energy_used_kwh|           log_time|\n+------+---------+---------------+-------------------+\n|     1|      101|            2.5|2025-07-20 09:00:00|\n|     2|      101|            3.0|2025-07-20 18:00:00|\n|     3|      102|            1.2|2025-07-20 12:00:00|\n|     4|      103|            0.0|2025-07-20 13:00:00|\n|     5|      104|            4.5|2025-07-20 07:00:00|\n|     6|      104|            5.0|2025-07-20 20:00:00|\n|     7|      105|            1.8|2025-07-20 10:00:00|\n+------+---------+---------------+-------------------+\n\ndevices:\n+---------+---------------+-------+-----------+------+------------+\n|device_id|    device_name|room_id|  room_name|status|power_rating|\n+---------+---------------+-------+-----------+------+------------+\n|      101|Air Conditioner|      1|Living Room|    ON|        1500|\n|      102|   Refrigerator|      2|    Kitchen|    ON|         200|\n|      103|             TV|      1|Living Room|   OFF|         120|\n|      104|         Heater|      3|    Bedroom|    ON|        1800|\n|      105|Washing Machine|      2|    Kitchen|   OFF|         500|\n+---------+---------------+-------+-----------+------+------------+\n\n"
     ]
    }
   ],
   "source": [
    "from pyspark.sql import functions as F\n",
    "\n",
    "df = spark.read.csv(\"dbfs:/FileStore/tables/cleaned_energy_logs.csv\", header=True, inferSchema=True)\n",
    "devices_df = spark.read.csv(\"dbfs:/FileStore/tables/devices.csv\", header=True, inferSchema=True)\n",
    "\n",
    "print(\"cleaned energy logs:\")\n",
    "df.show()\n",
    "\n",
    "print(\"devices:\")\n",
    "devices_df.show()\n"
   ]
  },
  {
   "cell_type": "markdown",
   "metadata": {
    "application/vnd.databricks.v1+cell": {
     "cellMetadata": {},
     "inputWidgets": {},
     "nuid": "8d5036b8-925a-49bc-9a8f-032310a077b0",
     "showTitle": false,
     "tableResultSettingsMap": {},
     "title": ""
    }
   },
   "source": [
    "#2. Build an ETL pipeline to calculate daily/weekly summaries"
   ]
  },
  {
   "cell_type": "code",
   "execution_count": 0,
   "metadata": {
    "application/vnd.databricks.v1+cell": {
     "cellMetadata": {
      "byteLimit": 2048000,
      "rowLimit": 10000
     },
     "inputWidgets": {},
     "nuid": "4cfc809d-e974-454b-979c-da3df5305728",
     "showTitle": false,
     "tableResultSettingsMap": {},
     "title": ""
    }
   },
   "outputs": [
    {
     "output_type": "stream",
     "name": "stdout",
     "output_type": "stream",
     "text": [
      "daily summary of each room and device:\n+----------+-----------+---------+----------------+\n|      date|  room_name|device_id|daily_energy_kwh|\n+----------+-----------+---------+----------------+\n|2025-07-20|    Kitchen|      105|             1.8|\n|2025-07-20|    Bedroom|      104|             9.5|\n|2025-07-20|    Kitchen|      102|             1.2|\n|2025-07-20|Living Room|      103|             0.0|\n|2025-07-20|Living Room|      101|             5.5|\n+----------+-----------+---------+----------------+\n\nweekly summary of each room and device:\n+----+-----------+---------+-----------------+\n|week|  room_name|device_id|weekly_energy_kwh|\n+----+-----------+---------+-----------------+\n|  29|    Kitchen|      102|              1.2|\n|  29|Living Room|      103|              0.0|\n|  29|Living Room|      101|              5.5|\n|  29|    Bedroom|      104|              9.5|\n|  29|    Kitchen|      105|              1.8|\n+----+-----------+---------+-----------------+\n\n"
     ]
    }
   ],
   "source": [
    "df = df.withColumn(\"date\", F.to_date(\"log_time\")).withColumn(\"week\", F.weekofyear(\"log_time\"))\n",
    "df_joined = df.join(devices_df.select(\"device_id\", \"room_name\"), on=\"device_id\", how=\"left\")\n",
    "daily_summary = df_joined.groupBy(\"date\", \"room_name\", \"device_id\").agg(F.sum(\"energy_used_kwh\").alias(\"daily_energy_kwh\"))\n",
    "weekly_summary = df_joined.groupBy(\"week\", \"room_name\", \"device_id\").agg(F.sum(\"energy_used_kwh\").alias(\"weekly_energy_kwh\"))\n",
    "\n",
    "print(\"daily summary of each room and device:\")\n",
    "daily_summary.show()\n",
    "print(\"weekly summary of each room and device:\")\n",
    "weekly_summary.show()\n"
   ]
  },
  {
   "cell_type": "markdown",
   "metadata": {
    "application/vnd.databricks.v1+cell": {
     "cellMetadata": {},
     "inputWidgets": {},
     "nuid": "9f97bbdd-5162-4ab9-9de5-9efbac9b30fa",
     "showTitle": false,
     "tableResultSettingsMap": {},
     "title": ""
    }
   },
   "source": [
    "#3. Save final results in Delta format or CSV"
   ]
  },
  {
   "cell_type": "code",
   "execution_count": 0,
   "metadata": {
    "application/vnd.databricks.v1+cell": {
     "cellMetadata": {
      "byteLimit": 2048000,
      "rowLimit": 10000
     },
     "inputWidgets": {},
     "nuid": "e7045971-135e-49b7-bf3d-6ce2a3a6517f",
     "showTitle": false,
     "tableResultSettingsMap": {},
     "title": ""
    }
   },
   "outputs": [],
   "source": [
    "# Save results in Delta \n",
    "daily_summary.write.format(\"delta\").mode(\"overwrite\").save(\"dbfs:/FileStore/tables/daily_energy_summary\")\n",
    "weekly_summary.write.format(\"delta\").mode(\"overwrite\").save(\"dbfs:/FileStore/tables/weekly_energy_summary\")\n",
    "\n",
    "# Save as CSV \n",
    "daily_summary.write.csv(\"dbfs:/FileStore/tables/daily_energy_summary_csv\", header=True, mode=\"overwrite\")\n",
    "weekly_summary.write.csv(\"dbfs:/FileStore/tables/weekly_energy_summary_csv\", header=True, mode=\"overwrite\")"
   ]
  },
  {
   "cell_type": "markdown",
   "metadata": {
    "application/vnd.databricks.v1+cell": {
     "cellMetadata": {},
     "inputWidgets": {},
     "nuid": "5b262640-5ad2-4cbc-b1e6-bf89fbdef983",
     "showTitle": false,
     "tableResultSettingsMap": {},
     "title": ""
    }
   },
   "source": [
    "#4. Optional: use SQL to query "
   ]
  },
  {
   "cell_type": "code",
   "execution_count": 0,
   "metadata": {
    "application/vnd.databricks.v1+cell": {
     "cellMetadata": {
      "byteLimit": 2048000,
      "rowLimit": 10000
     },
     "inputWidgets": {},
     "nuid": "e05497f6-7c12-46ad-becf-3cc250748555",
     "showTitle": false,
     "tableResultSettingsMap": {},
     "title": ""
    }
   },
   "outputs": [],
   "source": [
    "daily_energy_summary = spark.read.format(\"delta\").load(\"dbfs:/FileStore/tables/daily_energy_summary\")\n",
    "weekly_energy_summary = spark.read.format(\"delta\").load(\"dbfs:/FileStore/tables/weekly_energy_summary\")"
   ]
  },
  {
   "cell_type": "code",
   "execution_count": 0,
   "metadata": {
    "application/vnd.databricks.v1+cell": {
     "cellMetadata": {
      "byteLimit": 2048000,
      "rowLimit": 10000
     },
     "inputWidgets": {},
     "nuid": "d7f09760-d06e-4335-a12b-d0a4a71c6300",
     "showTitle": false,
     "tableResultSettingsMap": {},
     "title": ""
    }
   },
   "outputs": [],
   "source": [
    "weekly_energy_summary.createOrReplaceTempView(\"weekly_summary\")\n",
    "daily_energy_summary.createOrReplaceTempView(\"daily_summary\")"
   ]
  },
  {
   "cell_type": "code",
   "execution_count": 0,
   "metadata": {
    "application/vnd.databricks.v1+cell": {
     "cellMetadata": {
      "byteLimit": 2048000,
      "rowLimit": 10000
     },
     "inputWidgets": {},
     "nuid": "ff3e14bc-6250-48aa-8738-7c6c82cd659a",
     "showTitle": false,
     "tableResultSettingsMap": {},
     "title": ""
    }
   },
   "outputs": [
    {
     "output_type": "stream",
     "name": "stdout",
     "output_type": "stream",
     "text": [
      "+----+-----------+---------+-----------------+\n|week|  room_name|device_id|weekly_energy_kwh|\n+----+-----------+---------+-----------------+\n|  29|Living Room|      101|              5.5|\n|  29|    Bedroom|      104|              9.5|\n+----+-----------+---------+-----------------+\n\n"
     ]
    }
   ],
   "source": [
    "spark.sql(\"select * from weekly_summary where weekly_energy_kwh > 3\").show()"
   ]
  },
  {
   "cell_type": "code",
   "execution_count": 0,
   "metadata": {
    "application/vnd.databricks.v1+cell": {
     "cellMetadata": {
      "byteLimit": 2048000,
      "rowLimit": 10000
     },
     "inputWidgets": {},
     "nuid": "1a434531-ecbb-407b-a0ff-fb496fcc5c41",
     "showTitle": false,
     "tableResultSettingsMap": {},
     "title": ""
    }
   },
   "outputs": [
    {
     "output_type": "stream",
     "name": "stdout",
     "output_type": "stream",
     "text": [
      "+----------+---------+---------+----------------+\n|      date|room_name|device_id|daily_energy_kwh|\n+----------+---------+---------+----------------+\n|2025-07-20|  Kitchen|      105|             1.8|\n|2025-07-20|  Kitchen|      102|             1.2|\n+----------+---------+---------+----------------+\n\n"
     ]
    }
   ],
   "source": [
    "spark.sql(\"select * from daily_summary where daily_energy_kwh < 5 and daily_energy_kwh != 0 \").show()"
   ]
  },
  {
   "cell_type": "code",
   "execution_count": 0,
   "metadata": {
    "application/vnd.databricks.v1+cell": {
     "cellMetadata": {},
     "inputWidgets": {},
     "nuid": "5b2bcd8d-2155-4201-b1fb-f7faefeeca92",
     "showTitle": false,
     "tableResultSettingsMap": {},
     "title": ""
    }
   },
   "outputs": [],
   "source": []
  },
  {
   "cell_type": "markdown",
   "metadata": {
    "application/vnd.databricks.v1+cell": {
     "cellMetadata": {},
     "inputWidgets": {},
     "nuid": "73317820-da83-4fff-97bd-09853a7ff619",
     "showTitle": false,
     "tableResultSettingsMap": {},
     "title": ""
    }
   },
   "source": []
  }
 ],
 "metadata": {
  "application/vnd.databricks.v1+notebook": {
   "computePreferences": null,
   "dashboards": [],
   "environmentMetadata": {
    "base_environment": "",
    "environment_version": "2"
   },
   "inputWidgetPreferences": null,
   "language": "python",
   "notebookMetadata": {
    "mostRecentlyExecutedCommandWithImplicitDF": {
     "commandId": 4570636123540456,
     "dataframes": [
      "_sqldf"
     ]
    },
    "pythonIndentUnit": 4
   },
   "notebookName": "azure d-bricks energy Tracker",
   "widgets": {}
  },
  "language_info": {
   "name": "python"
  }
 },
 "nbformat": 4,
 "nbformat_minor": 0
}