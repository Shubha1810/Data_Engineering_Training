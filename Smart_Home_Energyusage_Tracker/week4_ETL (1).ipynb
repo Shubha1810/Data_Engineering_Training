{
  "nbformat": 4,
  "nbformat_minor": 0,
  "metadata": {
    "colab": {
      "provenance": []
    },
    "kernelspec": {
      "name": "python3",
      "display_name": "Python 3"
    },
    "language_info": {
      "name": "python"
    }
  },
  "cells": [
    {
      "cell_type": "code",
      "execution_count": 1,
      "metadata": {
        "id": "5Th1EanDK6zb"
      },
      "outputs": [],
      "source": [
        "from pyspark.sql import SparkSession\n",
        "from pyspark.sql.functions import col, sum as _sum, weekofyear, to_date\n",
        "import pandas as pd\n",
        "\n",
        "# Create Spark session\n",
        "spark = SparkSession.builder.appName(\"SmartEnergyETL\").getOrCreate()"
      ]
    },
    {
      "cell_type": "markdown",
      "source": [
        "Create CSV in Colab python\n",
        "\n"
      ],
      "metadata": {
        "id": "X-VlviorLjP6"
      }
    },
    {
      "cell_type": "code",
      "source": [
        "%%writefile cleaned_energy_usage.csv\n",
        "timestamp,room_id,device_id,energy_kwh\n",
        "2025-08-01 08:00:00,LivingRoom,AC,2.5\n",
        "2025-08-01 09:00:00,LivingRoom,TV,0.3\n",
        "2025-08-01 10:00:00,Kitchen,Fridge,1.2\n",
        "2025-08-01 11:00:00,Bedroom,Heater,1.8\n",
        "2025-08-01 12:00:00,LivingRoom,Light,0.15\n",
        "2025-08-01 13:00:00,Kitchen,Oven,2.0\n",
        "2025-08-01 14:00:00,Bedroom,Fan,0.25\n",
        "2025-08-01 15:00:00,LivingRoom,AC,2.7\n",
        "2025-08-01 16:00:00,Kitchen,Fridge,1.1\n",
        "2025-08-01 17:00:00,Bedroom,Light,0.1\n"
      ],
      "metadata": {
        "colab": {
          "base_uri": "https://localhost:8080/"
        },
        "id": "iLdReohjLELz",
        "outputId": "d53348b5-6c05-46fc-d0bb-01ca7c36f75e"
      },
      "execution_count": 2,
      "outputs": [
        {
          "output_type": "stream",
          "name": "stdout",
          "text": [
            "Writing cleaned_energy_usage.csv\n"
          ]
        }
      ]
    },
    {
      "cell_type": "markdown",
      "source": [
        " Load Data into Spark"
      ],
      "metadata": {
        "id": "_sNzsZu0Lq9y"
      }
    },
    {
      "cell_type": "code",
      "source": [
        "df_spark = spark.read.csv(\"cleaned_energy_usage.csv\", header=True, inferSchema=True)\n",
        "\n",
        "# Convert timestamp to date\n",
        "df_spark = df_spark.withColumn(\"date\", to_date(col(\"timestamp\")))\n"
      ],
      "metadata": {
        "id": "WNaFt6pDLUKf"
      },
      "execution_count": 3,
      "outputs": []
    },
    {
      "cell_type": "markdown",
      "source": [
        "Daily Summary python\n",
        "\n"
      ],
      "metadata": {
        "id": "rmML-TXaLxAa"
      }
    },
    {
      "cell_type": "code",
      "source": [
        "daily_summary = df_spark.groupBy(\"date\", \"room_id\").agg(\n",
        "    _sum(\"energy_kwh\").alias(\"total_energy_kwh\")\n",
        ").orderBy(\"date\")\n",
        "\n",
        "# Convert to Pandas for display\n",
        "daily_summary_pd = daily_summary.toPandas()\n",
        "print(\"\\n=== Daily Summary ===\")\n",
        "print(daily_summary_pd)\n"
      ],
      "metadata": {
        "colab": {
          "base_uri": "https://localhost:8080/"
        },
        "id": "kJXL8qVHL2Y2",
        "outputId": "6233f7c5-fce7-4975-f833-94224818a55c"
      },
      "execution_count": 4,
      "outputs": [
        {
          "output_type": "stream",
          "name": "stdout",
          "text": [
            "\n",
            "=== Daily Summary ===\n",
            "         date     room_id  total_energy_kwh\n",
            "0  2025-08-01     Kitchen              4.30\n",
            "1  2025-08-01  LivingRoom              5.65\n",
            "2  2025-08-01     Bedroom              2.15\n"
          ]
        }
      ]
    },
    {
      "cell_type": "markdown",
      "source": [
        "Weekly Summary"
      ],
      "metadata": {
        "id": "njpmnn7IMMW9"
      }
    },
    {
      "cell_type": "code",
      "source": [
        "weekly_summary = df_spark.withColumn(\"week_number\", weekofyear(col(\"date\"))) \\\n",
        "    .groupBy(\"week_number\", \"room_id\").agg(\n",
        "        _sum(\"energy_kwh\").alias(\"total_energy_kwh\")\n",
        "    ).orderBy(\"week_number\")\n",
        "\n",
        "weekly_summary_pd = weekly_summary.toPandas()\n",
        "print(\"\\n=== Weekly Summary ===\")\n",
        "print(weekly_summary_pd)\n"
      ],
      "metadata": {
        "colab": {
          "base_uri": "https://localhost:8080/"
        },
        "id": "_grB7ZntMG55",
        "outputId": "3545363d-937f-4565-de29-acf9f3f526b3"
      },
      "execution_count": 5,
      "outputs": [
        {
          "output_type": "stream",
          "name": "stdout",
          "text": [
            "\n",
            "=== Weekly Summary ===\n",
            "   week_number     room_id  total_energy_kwh\n",
            "0           31  LivingRoom              5.65\n",
            "1           31     Kitchen              4.30\n",
            "2           31     Bedroom              2.15\n"
          ]
        }
      ]
    },
    {
      "cell_type": "markdown",
      "source": [
        "Save Outputs"
      ],
      "metadata": {
        "id": "bN_pbb1lMTFG"
      }
    },
    {
      "cell_type": "code",
      "source": [
        "daily_summary.write.csv(\"daily_summary\", header=True, mode=\"overwrite\")\n",
        "weekly_summary.write.csv(\"weekly_summary\", header=True, mode=\"overwrite\")\n"
      ],
      "metadata": {
        "id": "33yjkfRlMPlL"
      },
      "execution_count": 6,
      "outputs": []
    }
  ]
}