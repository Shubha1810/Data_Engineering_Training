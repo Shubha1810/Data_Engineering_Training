{
  "nbformat": 4,
  "nbformat_minor": 0,
  "metadata": {
    "colab": {
      "provenance": []
    },
    "kernelspec": {
      "name": "python3",
      "display_name": "Python 3"
    },
    "language_info": {
      "name": "python"
    }
  },
  "cells": [
    {
      "cell_type": "code",
      "execution_count": 2,
      "metadata": {
        "id": "OnMXfQ2F7JKl"
      },
      "outputs": [],
      "source": [
        "csv_data = \"\"\"timestamp,room_id,device_id,energy_kwh\n",
        "2025-08-01 08:00:00,LivingRoom,AC,2.5\n",
        "2025-08-01 09:00:00,LivingRoom,TV,0.3\n",
        "2025-08-01 10:00:00,Kitchen,Fridge,1.2\n",
        "2025-08-01 11:00:00,Bedroom,Heater,1.8\n",
        "2025-08-01 12:00:00,LivingRoom,Light,0.15\n",
        "2025-08-01 13:00:00,Kitchen,Oven,2.0\n",
        "2025-08-01 14:00:00,Bedroom,Fan,0.25\n",
        "2025-08-01 15:00:00,LivingRoom,AC,2.7\n",
        "2025-08-01 16:00:00,Kitchen,Fridge,1.1\n",
        "2025-08-01 17:00:00,Bedroom,Light,0.1\"\"\"\n",
        "\n",
        "\n",
        "with open(\"energy_usage.csv\", \"w\") as file:\n",
        "    file.write(csv_data)"
      ]
    },
    {
      "cell_type": "code",
      "source": [
        "!pip install pyspark\n",
        "from pyspark.sql import SparkSession\n",
        "from pyspark.sql.functions import col, sum as _sum, hour\n",
        "\n",
        "# Create Spark session\n",
        "spark = SparkSession.builder.appName(\"SmartHomeEnergy\").getOrCreate()\n"
      ],
      "metadata": {
        "colab": {
          "base_uri": "https://localhost:8080/"
        },
        "id": "Nelos_K-7O0X",
        "outputId": "607c7a6f-7c33-4ffc-f9b7-ae5f1663fd29"
      },
      "execution_count": 3,
      "outputs": [
        {
          "output_type": "stream",
          "name": "stdout",
          "text": [
            "Requirement already satisfied: pyspark in /usr/local/lib/python3.11/dist-packages (3.5.1)\n",
            "Requirement already satisfied: py4j==0.10.9.7 in /usr/local/lib/python3.11/dist-packages (from pyspark) (0.10.9.7)\n"
          ]
        }
      ]
    },
    {
      "cell_type": "markdown",
      "source": [
        "# Step 3: Load CSV into Spark"
      ],
      "metadata": {
        "id": "2LOxTyFh7e2I"
      }
    },
    {
      "cell_type": "code",
      "source": [
        "df_spark = spark.read.csv(\"energy_usage.csv\", header=True, inferSchema=True)\n",
        "\n",
        "# Show first few rows\n",
        "df_spark.show()\n"
      ],
      "metadata": {
        "colab": {
          "base_uri": "https://localhost:8080/"
        },
        "id": "K0bhHyY37hOP",
        "outputId": "d522c698-e685-4071-cdcc-3bf8cd9c7658"
      },
      "execution_count": 4,
      "outputs": [
        {
          "output_type": "stream",
          "name": "stdout",
          "text": [
            "+-------------------+----------+---------+----------+\n",
            "|          timestamp|   room_id|device_id|energy_kwh|\n",
            "+-------------------+----------+---------+----------+\n",
            "|2025-08-01 08:00:00|LivingRoom|       AC|       2.5|\n",
            "|2025-08-01 09:00:00|LivingRoom|       TV|       0.3|\n",
            "|2025-08-01 10:00:00|   Kitchen|   Fridge|       1.2|\n",
            "|2025-08-01 11:00:00|   Bedroom|   Heater|       1.8|\n",
            "|2025-08-01 12:00:00|LivingRoom|    Light|      0.15|\n",
            "|2025-08-01 13:00:00|   Kitchen|     Oven|       2.0|\n",
            "|2025-08-01 14:00:00|   Bedroom|      Fan|      0.25|\n",
            "|2025-08-01 15:00:00|LivingRoom|       AC|       2.7|\n",
            "|2025-08-01 16:00:00|   Kitchen|   Fridge|       1.1|\n",
            "|2025-08-01 17:00:00|   Bedroom|    Light|       0.1|\n",
            "+-------------------+----------+---------+----------+\n",
            "\n"
          ]
        }
      ]
    },
    {
      "cell_type": "markdown",
      "source": [
        "# Step 4: Device-Level Aggregation"
      ],
      "metadata": {
        "id": "zQ0m9c3B7lZY"
      }
    },
    {
      "cell_type": "code",
      "source": [
        "# Convert timestamp to hour for peak/off-peak\n",
        "df_spark = df_spark.withColumn(\"hour\", hour(col(\"timestamp\")))"
      ],
      "metadata": {
        "id": "UPEDj1107nfy"
      },
      "execution_count": 5,
      "outputs": []
    },
    {
      "cell_type": "code",
      "source": [
        "# Aggregate total usage per device\n",
        "device_usage = df_spark.groupBy(\"device_id\").agg(\n",
        "    _sum(\"energy_kwh\").alias(\"total_usage_kwh\")\n",
        ").orderBy(col(\"total_usage_kwh\").desc())\n",
        "\n",
        "print(\"=== Total Usage by Device ===\")\n",
        "device_usage.show()"
      ],
      "metadata": {
        "colab": {
          "base_uri": "https://localhost:8080/"
        },
        "id": "2tz7o9O_7rOO",
        "outputId": "36fb1151-bd82-4f3d-e3cf-e414b52def0d"
      },
      "execution_count": 6,
      "outputs": [
        {
          "output_type": "stream",
          "name": "stdout",
          "text": [
            "=== Total Usage by Device ===\n",
            "+---------+---------------+\n",
            "|device_id|total_usage_kwh|\n",
            "+---------+---------------+\n",
            "|       AC|            5.2|\n",
            "|   Fridge|            2.3|\n",
            "|     Oven|            2.0|\n",
            "|   Heater|            1.8|\n",
            "|       TV|            0.3|\n",
            "|    Light|           0.25|\n",
            "|      Fan|           0.25|\n",
            "+---------+---------------+\n",
            "\n"
          ]
        }
      ]
    },
    {
      "cell_type": "code",
      "source": [
        "\n",
        "# Peak vs Off-Peak usage (example: Peak = 8-20, Off-peak = rest)\n",
        "peak_usage = df_spark.filter((col(\"hour\") >= 8) & (col(\"hour\") <= 20)) \\\n",
        "    .groupBy(\"device_id\") \\\n",
        "    .agg(_sum(\"energy_kwh\").alias(\"peak_usage_kwh\"))\n",
        "\n",
        "offpeak_usage = df_spark.filter((col(\"hour\") < 8) | (col(\"hour\") > 20)) \\\n",
        "    .groupBy(\"device_id\") \\\n",
        "    .agg(_sum(\"energy_kwh\").alias(\"offpeak_usage_kwh\"))\n",
        "\n",
        "print(\"=== Peak Usage ===\")\n",
        "peak_usage.show()\n",
        "\n",
        "print(\"=== Off-Peak Usage ===\")\n",
        "offpeak_usage.show()\n"
      ],
      "metadata": {
        "colab": {
          "base_uri": "https://localhost:8080/"
        },
        "id": "1UJAR5oY7w9s",
        "outputId": "d997f249-8190-4745-c237-c7fa6ed472ea"
      },
      "execution_count": 7,
      "outputs": [
        {
          "output_type": "stream",
          "name": "stdout",
          "text": [
            "=== Peak Usage ===\n",
            "+---------+--------------+\n",
            "|device_id|peak_usage_kwh|\n",
            "+---------+--------------+\n",
            "|       TV|           0.3|\n",
            "|     Oven|           2.0|\n",
            "|    Light|          0.25|\n",
            "|      Fan|          0.25|\n",
            "|   Fridge|           2.3|\n",
            "|   Heater|           1.8|\n",
            "|       AC|           5.2|\n",
            "+---------+--------------+\n",
            "\n",
            "=== Off-Peak Usage ===\n",
            "+---------+-----------------+\n",
            "|device_id|offpeak_usage_kwh|\n",
            "+---------+-----------------+\n",
            "+---------+-----------------+\n",
            "\n"
          ]
        }
      ]
    },
    {
      "cell_type": "code",
      "source": [
        "# Save top devices usage to file\n",
        "device_usage.coalesce(1).write.csv(\"top_devices_usage\", header=True, mode=\"overwrite\")"
      ],
      "metadata": {
        "id": "8bu2Acx273o_"
      },
      "execution_count": 8,
      "outputs": []
    }
  ]
}