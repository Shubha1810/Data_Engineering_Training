{
  "nbformat": 4,
  "nbformat_minor": 0,
  "metadata": {
    "colab": {
      "provenance": []
    },
    "kernelspec": {
      "name": "python3",
      "display_name": "Python 3"
    },
    "language_info": {
      "name": "python"
    }
  },
  "cells": [
    {
      "cell_type": "markdown",
      "source": [
        "# My First Notebok\n",
        "This notebook prints a greeting using a variable."
      ],
      "metadata": {
        "id": "atT4-qK7_OIT"
      }
    },
    {
      "cell_type": "code",
      "execution_count": 55,
      "metadata": {
        "colab": {
          "base_uri": "https://localhost:8080/"
        },
        "id": "oMTm01za8-sV",
        "outputId": "29800b39-830e-45ef-86a7-b7c8dea679be"
      },
      "outputs": [
        {
          "output_type": "stream",
          "name": "stdout",
          "text": [
            "Hello Shubha\n"
          ]
        }
      ],
      "source": [
        "name = \"Shubha\"\n",
        "print(\"Hello\",name)"
      ]
    },
    {
      "cell_type": "code",
      "source": [
        "#Define the dimensions\n",
        "length = 10\n",
        "width=5\n",
        "\n",
        "#Calculate area\n",
        "area = length * width\n",
        "\n",
        "#Print the result\n",
        "print(\"The area of the rectangle is:\", area)"
      ],
      "metadata": {
        "colab": {
          "base_uri": "https://localhost:8080/"
        },
        "id": "4gwQfKkq_SK5",
        "outputId": "e734e9d6-2c7a-464d-a128-0b4ac0b335ba"
      },
      "execution_count": 56,
      "outputs": [
        {
          "output_type": "stream",
          "name": "stdout",
          "text": [
            "The area of the rectangle is: 50\n"
          ]
        }
      ]
    },
    {
      "cell_type": "code",
      "source": [
        "import pandas as pd\n",
        "\n",
        "# Create data using a dictionary\n",
        "data = {\n",
        "    'Name': ['Raj', 'Priya', 'Amit'],\n",
        "    'Age': [25, 30, 22],\n",
        "    'City': ['Delhi', 'Mumbai', 'Bangalore']\n",
        "}\n",
        "\n",
        "# Create DataFrame\n",
        "df = pd.DataFrame(data)\n",
        "\n",
        "# Show the DataFrame\n",
        "print(df)\n"
      ],
      "metadata": {
        "colab": {
          "base_uri": "https://localhost:8080/"
        },
        "id": "Cmts2N5yCTdV",
        "outputId": "766c578a-4007-4abd-a882-f55f75cd57e8"
      },
      "execution_count": 57,
      "outputs": [
        {
          "output_type": "stream",
          "name": "stdout",
          "text": [
            "    Name  Age       City\n",
            "0    Raj   25      Delhi\n",
            "1  Priya   30     Mumbai\n",
            "2   Amit   22  Bangalore\n"
          ]
        }
      ]
    },
    {
      "cell_type": "code",
      "source": [
        "print(df['Name'])"
      ],
      "metadata": {
        "colab": {
          "base_uri": "https://localhost:8080/"
        },
        "id": "iRnfoAjzZvHp",
        "outputId": "68461c64-3456-447b-823d-6f28860340f2"
      },
      "execution_count": 58,
      "outputs": [
        {
          "output_type": "stream",
          "name": "stdout",
          "text": [
            "0      Raj\n",
            "1    Priya\n",
            "2     Amit\n",
            "Name: Name, dtype: object\n"
          ]
        }
      ]
    },
    {
      "cell_type": "code",
      "source": [
        "print(df.shape) #size of df\n",
        "print(df.columns) # column names\n",
        "print(df.info()) #tells what type of data it is\n",
        "print(df.describe()) #executes all mathematical fun"
      ],
      "metadata": {
        "colab": {
          "base_uri": "https://localhost:8080/"
        },
        "id": "hjpgAvX8Z1LD",
        "outputId": "6649a957-157e-4f5e-cf3e-ac5b93e3dc20"
      },
      "execution_count": 59,
      "outputs": [
        {
          "output_type": "stream",
          "name": "stdout",
          "text": [
            "(3, 3)\n",
            "Index(['Name', 'Age', 'City'], dtype='object')\n",
            "<class 'pandas.core.frame.DataFrame'>\n",
            "RangeIndex: 3 entries, 0 to 2\n",
            "Data columns (total 3 columns):\n",
            " #   Column  Non-Null Count  Dtype \n",
            "---  ------  --------------  ----- \n",
            " 0   Name    3 non-null      object\n",
            " 1   Age     3 non-null      int64 \n",
            " 2   City    3 non-null      object\n",
            "dtypes: int64(1), object(2)\n",
            "memory usage: 204.0+ bytes\n",
            "None\n",
            "             Age\n",
            "count   3.000000\n",
            "mean   25.666667\n",
            "std     4.041452\n",
            "min    22.000000\n",
            "25%    23.500000\n",
            "50%    25.000000\n",
            "75%    27.500000\n",
            "max    30.000000\n"
          ]
        }
      ]
    },
    {
      "cell_type": "code",
      "source": [
        "#Create a CSV in Colab using file 1/0\n",
        "\n",
        "csv_data=\"\"\"Name,Age,Department,Salary\n",
        "Aarav, 28, Sales, 50000\n",
        "Sneha, 32, Engineering, 80000\n",
        "Kabir, Kab 25, HR, 45000\n",
        "Anaya, 29, Marketing, 60000\n",
        "Rohan, 35, Engineering, 85000\"\"\"\n",
        "\n",
        "#Save it to a file\n",
        "\n",
        "with open('employees.csv', 'w') as file:\n",
        "  file.write(csv_data)\n"
      ],
      "metadata": {
        "id": "I5Rtcyfqe-o1"
      },
      "execution_count": 60,
      "outputs": []
    },
    {
      "cell_type": "code",
      "source": [
        "import pandas as pd\n",
        "\n",
        "df = pd.read_csv('employees.csv')\n",
        "\n",
        "print(df)\n"
      ],
      "metadata": {
        "colab": {
          "base_uri": "https://localhost:8080/"
        },
        "id": "1Xp0k7XWfKby",
        "outputId": "95272b52-c48f-4338-b27f-cc884e91904f"
      },
      "execution_count": 61,
      "outputs": [
        {
          "output_type": "stream",
          "name": "stdout",
          "text": [
            "    Name      Age    Department  Salary\n",
            "0  Aarav       28         Sales   50000\n",
            "1  Sneha       32   Engineering   80000\n",
            "2  Kabir   Kab 25            HR   45000\n",
            "3  Anaya       29     Marketing   60000\n",
            "4  Rohan       35   Engineering   85000\n"
          ]
        }
      ]
    },
    {
      "cell_type": "code",
      "source": [
        "engg_employees = df[df['Department'] == 'Engineering']\n",
        "print(engg_employees)"
      ],
      "metadata": {
        "colab": {
          "base_uri": "https://localhost:8080/"
        },
        "id": "a2DxpurChfxg",
        "outputId": "db8a6435-0eb7-494c-e7d4-9c1219b69418"
      },
      "execution_count": 62,
      "outputs": [
        {
          "output_type": "stream",
          "name": "stdout",
          "text": [
            "Empty DataFrame\n",
            "Columns: [Name, Age, Department, Salary]\n",
            "Index: []\n"
          ]
        }
      ]
    },
    {
      "cell_type": "code",
      "source": [
        "average_salary = df['Salary'].mean()\n",
        "\n",
        "# Print the result\n",
        "print(\"Average Salary:\", average_salary)"
      ],
      "metadata": {
        "colab": {
          "base_uri": "https://localhost:8080/"
        },
        "id": "SIv-WTw2hwIG",
        "outputId": "f20b5c51-88ae-4d07-94c6-cdcaf3a8f733"
      },
      "execution_count": 63,
      "outputs": [
        {
          "output_type": "stream",
          "name": "stdout",
          "text": [
            "Average Salary: 64000.0\n"
          ]
        }
      ]
    },
    {
      "cell_type": "code",
      "source": [
        "highest_paid = df[df['Salary'] == df['Salary'].max()]\n",
        "print(\"Highest paid Employee:\\n\",highest_paid)"
      ],
      "metadata": {
        "colab": {
          "base_uri": "https://localhost:8080/"
        },
        "id": "vcGfrgnKiOBw",
        "outputId": "3fbae262-68c5-4352-8006-8c0a2492d159"
      },
      "execution_count": 64,
      "outputs": [
        {
          "output_type": "stream",
          "name": "stdout",
          "text": [
            "Highest paid Employee:\n",
            "     Name  Age    Department  Salary\n",
            "4  Rohan   35   Engineering   85000\n"
          ]
        }
      ]
    },
    {
      "cell_type": "code",
      "source": [
        "avg_salary_by_dept = df.groupby('Department')['Salary'].mean()\n",
        "print(\"Average Salary by Department:\\n\",avg_salary_by_dept)"
      ],
      "metadata": {
        "colab": {
          "base_uri": "https://localhost:8080/"
        },
        "id": "Hl9L4tJ2kJx2",
        "outputId": "1d4319ac-0be8-48b3-e302-95c8e483dd6e"
      },
      "execution_count": 65,
      "outputs": [
        {
          "output_type": "stream",
          "name": "stdout",
          "text": [
            "Average Salary by Department:\n",
            " Department\n",
            "Engineering    82500.0\n",
            "HR             45000.0\n",
            "Marketing      60000.0\n",
            "Sales          50000.0\n",
            "Name: Salary, dtype: float64\n"
          ]
        }
      ]
    },
    {
      "cell_type": "code",
      "source": [
        "Sorted_by_age = df.sort_values(by='Age')\n",
        "print(\"Sorted by Age:\\n\",Sorted_by_age)"
      ],
      "metadata": {
        "colab": {
          "base_uri": "https://localhost:8080/"
        },
        "id": "CBXzIOLkkgWW",
        "outputId": "02127194-b5c2-4441-d879-0f25b9ec6091"
      },
      "execution_count": 66,
      "outputs": [
        {
          "output_type": "stream",
          "name": "stdout",
          "text": [
            "Sorted by Age:\n",
            "     Name      Age    Department  Salary\n",
            "0  Aarav       28         Sales   50000\n",
            "3  Anaya       29     Marketing   60000\n",
            "1  Sneha       32   Engineering   80000\n",
            "4  Rohan       35   Engineering   85000\n",
            "2  Kabir   Kab 25            HR   45000\n"
          ]
        }
      ]
    },
    {
      "cell_type": "code",
      "source": [
        "import matplotlib.pyplot as plt\n",
        "\n",
        "plt.figure(figsize=(8,5))\n",
        "plt.bar(df['Name'], df['Salary'], color='skyblue')\n",
        "plt.title('Employee Salaries')\n",
        "plt.xlabel('Name')\n",
        "plt.ylabel('Salary')\n",
        "plt.xticks(rotation=45)\n",
        "plt.tight_layout()\n",
        "plt.show()\n"
      ],
      "metadata": {
        "colab": {
          "base_uri": "https://localhost:8080/",
          "height": 507
        },
        "id": "pOw2cWb1k5AO",
        "outputId": "a844e010-765c-4c85-ecc2-571c0f89e846"
      },
      "execution_count": 67,
      "outputs": [
        {
          "output_type": "display_data",
          "data": {
            "text/plain": [
              "<Figure size 800x500 with 1 Axes>"
            ],
            "image/png": "[encoded data removed]"
          },
          "metadata": {}
        }
      ]
    },
    {
      "cell_type": "code",
      "source": [
        "from google.colab import files\n",
        "uploaded = files.upload()\n",
        "\n"
      ],
      "metadata": {
        "colab": {
          "base_uri": "https://localhost:8080/",
          "height": 73
        },
        "id": "Go4yksHcp4yk",
        "outputId": "2658f080-6201-491e-e4d3-50dd2842f20f"
      },
      "execution_count": 68,
      "outputs": [
        {
          "output_type": "display_data",
          "data": {
            "text/plain": [
              "<IPython.core.display.HTML object>"
            ],
            "text/html": [
              "\n",
              "     <input type=\"file\" id=\"files-0f9fe2bd-1cf3-47b7-a8c4-ef45aa62e3b0\" name=\"files[]\" multiple disabled\n",
              "        style=\"border:none\" />\n",
              "     <output id=\"result-0f9fe2bd-1cf3-47b7-a8c4-ef45aa62e3b0\">\n",
              "      Upload widget is only available when the cell has been executed in the\n",
              "      current browser session. Please rerun this cell to enable.\n",
              "      </output>\n",
              "      <script>// Copyright 2017 Google LLC\n",
              "//\n",
              "// Licensed under the Apache License, Version 2.0 (the \"License\");\n",
              "// you may not use this file except in compliance with the License.\n",
              "// You may obtain a copy of the License at\n",
              "//\n",
              "//      http://www.apache.org/licenses/LICENSE-2.0\n",
              "//\n",
              "// Unless required by applicable law or agreed to in writing, software\n",
              "// distributed under the License is distributed on an \"AS IS\" BASIS,\n",
              "// WITHOUT WARRANTIES OR CONDITIONS OF ANY KIND, either express or implied.\n",
              "// See the License for the specific language governing permissions and\n",
              "// limitations under the License.\n",
              "\n",
              "/**\n",
              " * @fileoverview Helpers for google.colab Python module.\n",
              " */\n",
              "(function(scope) {\n",
              "function span(text, styleAttributes = {}) {\n",
              "  const element = document.createElement('span');\n",
              "  element.textContent = text;\n",
              "  for (const key of Object.keys(styleAttributes)) {\n",
              "    element.style[key] = styleAttributes[key];\n",
              "  }\n",
              "  return element;\n",
              "}\n",
              "\n",
              "// Max number of bytes which will be uploaded at a time.\n",
              "const MAX_PAYLOAD_SIZE = 100 * 1024;\n",
              "\n",
              "function _uploadFiles(inputId, outputId) {\n",
              "  const steps = uploadFilesStep(inputId, outputId);\n",
              "  const outputElement = document.getElementById(outputId);\n",
              "  // Cache steps on the outputElement to make it available for the next call\n",
              "  // to uploadFilesContinue from Python.\n",
              "  outputElement.steps = steps;\n",
              "\n",
              "  return _uploadFilesContinue(outputId);\n",
              "}\n",
              "\n",
              "// This is roughly an async generator (not supported in the browser yet),\n",
              "// where there are multiple asynchronous steps and the Python side is going\n",
              "// to poll for completion of each step.\n",
              "// This uses a Promise to block the python side on completion of each step,\n",
              "// then passes the result of the previous step as the input to the next step.\n",
              "function _uploadFilesContinue(outputId) {\n",
              "  const outputElement = document.getElementById(outputId);\n",
              "  const steps = outputElement.steps;\n",
              "\n",
              "  const next = steps.next(outputElement.lastPromiseValue);\n",
              "  return Promise.resolve(next.value.promise).then((value) => {\n",
              "    // Cache the last promise value to make it available to the next\n",
              "    // step of the generator.\n",
              "    outputElement.lastPromiseValue = value;\n",
              "    return next.value.response;\n",
              "  });\n",
              "}\n",
              "\n",
              "/**\n",
              " * Generator function which is called between each async step of the upload\n",
              " * process.\n",
              " * @param {string} inputId Element ID of the input file picker element.\n",
              " * @param {string} outputId Element ID of the output display.\n",
              " * @return {!Iterable<!Object>} Iterable of next steps.\n",
              " */\n",
              "function* uploadFilesStep(inputId, outputId) {\n",
              "  const inputElement = document.getElementById(inputId);\n",
              "  inputElement.disabled = false;\n",
              "\n",
              "  const outputElement = document.getElementById(outputId);\n",
              "  outputElement.innerHTML = '';\n",
              "\n",
              "  const pickedPromise = new Promise((resolve) => {\n",
              "    inputElement.addEventListener('change', (e) => {\n",
              "      resolve(e.target.files);\n",
              "    });\n",
              "  });\n",
              "\n",
              "  const cancel = document.createElement('button');\n",
              "  inputElement.parentElement.appendChild(cancel);\n",
              "  cancel.textContent = 'Cancel upload';\n",
              "  const cancelPromise = new Promise((resolve) => {\n",
              "    cancel.onclick = () => {\n",
              "      resolve(null);\n",
              "    };\n",
              "  });\n",
              "\n",
              "  // Wait for the user to pick the files.\n",
              "  const files = yield {\n",
              "    promise: Promise.race([pickedPromise, cancelPromise]),\n",
              "    response: {\n",
              "      action: 'starting',\n",
              "    }\n",
              "  };\n",
              "\n",
              "  cancel.remove();\n",
              "\n",
              "  // Disable the input element since further picks are not allowed.\n",
              "  inputElement.disabled = true;\n",
              "\n",
              "  if (!files) {\n",
              "    return {\n",
              "      response: {\n",
              "        action: 'complete',\n",
              "      }\n",
              "    };\n",
              "  }\n",
              "\n",
              "  for (const file of files) {\n",
              "    const li = document.createElement('li');\n",
              "    li.append(span(file.name, {fontWeight: 'bold'}));\n",
              "    li.append(span(\n",
              "        `(${file.type || 'n/a'}) - ${file.size} bytes, ` +\n",
              "        `last modified: ${\n",
              "            file.lastModifiedDate ? file.lastModifiedDate.toLocaleDateString() :\n",
              "                                    'n/a'} - `));\n",
              "    const percent = span('0% done');\n",
              "    li.appendChild(percent);\n",
              "\n",
              "    outputElement.appendChild(li);\n",
              "\n",
              "    const fileDataPromise = new Promise((resolve) => {\n",
              "      const reader = new FileReader();\n",
              "      reader.onload = (e) => {\n",
              "        resolve(e.target.result);\n",
              "      };\n",
              "      reader.readAsArrayBuffer(file);\n",
              "    });\n",
              "    // Wait for the data to be ready.\n",
              "    let fileData = yield {\n",
              "      promise: fileDataPromise,\n",
              "      response: {\n",
              "        action: 'continue',\n",
              "      }\n",
              "    };\n",
              "\n",
              "    // Use a chunked sending to avoid message size limits. See b/62115660.\n",
              "    let position = 0;\n",
              "    do {\n",
              "      const length = Math.min(fileData.byteLength - position, MAX_PAYLOAD_SIZE);\n",
              "      const chunk = new Uint8Array(fileData, position, length);\n",
              "      position += length;\n",
              "\n",
              "      const base64 = btoa(String.fromCharCode.apply(null, chunk));\n",
              "      yield {\n",
              "        response: {\n",
              "          action: 'append',\n",
              "          file: file.name,\n",
              "          data: base64,\n",
              "        },\n",
              "      };\n",
              "\n",
              "      let percentDone = fileData.byteLength === 0 ?\n",
              "          100 :\n",
              "          Math.round((position / fileData.byteLength) * 100);\n",
              "      percent.textContent = `${percentDone}% done`;\n",
              "\n",
              "    } while (position < fileData.byteLength);\n",
              "  }\n",
              "\n",
              "  // All done.\n",
              "  yield {\n",
              "    response: {\n",
              "      action: 'complete',\n",
              "    }\n",
              "  };\n",
              "}\n",
              "\n",
              "scope.google = scope.google || {};\n",
              "scope.google.colab = scope.google.colab || {};\n",
              "scope.google.colab._files = {\n",
              "  _uploadFiles,\n",
              "  _uploadFilesContinue,\n",
              "};\n",
              "})(self);\n",
              "</script> "
            ]
          },
          "metadata": {}
        },
        {
          "output_type": "stream",
          "name": "stdout",
          "text": [
            "Saving demo_employees.csv to demo_employees (2).csv\n"
          ]
        }
      ]
    },
    {
      "cell_type": "code",
      "source": [
        "import pandas as pd\n",
        "\n",
        "df = pd.read_csv('demo_employees.csv')\n",
        "print(df)\n"
      ],
      "metadata": {
        "id": "fkGUOD7tqm-r",
        "outputId": "91baf9fc-08e5-423e-9f8b-d5867d3f6064",
        "colab": {
          "base_uri": "https://localhost:8080/"
        }
      },
      "execution_count": 69,
      "outputs": [
        {
          "output_type": "stream",
          "name": "stdout",
          "text": [
            "      Name  Age   Department  Salary\n",
            "0    Aarav   28        Sales   50000\n",
            "1    Sneha   32  Engineering   80000\n",
            "2    Kabir   25           HR   45000\n",
            "3    Anaya   29    Marketing   60000\n",
            "4    Rohan   35  Engineering   85000\n",
            "5    Meera   27        Sales   52000\n",
            "6   Nikhil   30           HR   47000\n",
            "7    Tanya   31    Marketing   62000\n",
            "8   Ishaan   26  Engineering   78000\n",
            "9    Priya   34        Sales   51000\n",
            "10  Aditya   29           HR   46000\n",
            "11  Simran   33  Engineering   82000\n",
            "12   Rahul   28    Marketing   59000\n",
            "13    Neha   30        Sales   53000\n",
            "14     Dev   32  Engineering   87000\n"
          ]
        }
      ]
    }
  ]
}