{
 "cells": [
  {
   "cell_type": "code",
   "execution_count": 0,
   "metadata": {
    "application/vnd.databricks.v1+cell": {
     "cellMetadata": {
      "byteLimit": 2048000,
      "rowLimit": 10000
     },
     "inputWidgets": {},
     "nuid": "16e5800b-bed9-43e0-a05c-b0169b991af1",
     "showTitle": false,
     "tableResultSettingsMap": {},
     "title": ""
    }
   },
   "outputs": [
    {
     "output_type": "stream",
     "name": "stdout",
     "output_type": "stream",
     "text": [
      "+-----+------+----------+---------+---------+\n|EmpID|  Name|Department|UnitsSold|UnitPrice|\n+-----+------+----------+---------+---------+\n| E101|  Amit|     Sales|       10|     1200|\n| E102| Sneha| Marketing|        8|     1500|\n| E103|  Ravi|     Sales|       12|     1300|\n| E104|Anjali|        HR|        7|     1100|\n| E105|   Raj|     Sales|        5|     1000|\n+-----+------+----------+---------+---------+\n\n"
     ]
    }
   ],
   "source": [
    "data = [\n",
    "\n",
    "    (\"E101\", \"Amit\", \"Sales\", 10, 1200),\n",
    "    (\"E102\", \"Sneha\", \"Marketing\", 8, 1500),\n",
    "    (\"E103\", \"Ravi\", \"Sales\", 12, 1300),\n",
    "    (\"E104\", \"Anjali\", \"HR\", 7, 1100),\n",
    "    (\"E105\", \"Raj\", \"Sales\", 5, 1000)\n",
    "\n",
    "]\n",
    " \n",
    "columns = [\"EmpID\", \"Name\", \"Department\", \"UnitsSold\", \"UnitPrice\"]\n",
    " \n",
    "df = spark.createDataFrame(data, columns)\n",
    "\n",
    "df.show()\n",
    "\n",
    " "
   ]
  },
  {
   "cell_type": "code",
   "execution_count": 0,
   "metadata": {
    "application/vnd.databricks.v1+cell": {
     "cellMetadata": {
      "byteLimit": 2048000,
      "rowLimit": 10000
     },
     "inputWidgets": {},
     "nuid": "4f9b22ca-9605-4500-b474-2e007bfc3dbb",
     "showTitle": false,
     "tableResultSettingsMap": {},
     "title": ""
    }
   },
   "outputs": [],
   "source": [
    "from pyspark.sql.functions import col"
   ]
  },
  {
   "cell_type": "code",
   "execution_count": 0,
   "metadata": {
    "application/vnd.databricks.v1+cell": {
     "cellMetadata": {
      "byteLimit": 2048000,
      "rowLimit": 10000
     },
     "inputWidgets": {},
     "nuid": "4101e0ee-1dc3-4968-8e4c-b9f31bf99fe4",
     "showTitle": false,
     "tableResultSettingsMap": {},
     "title": ""
    }
   },
   "outputs": [
    {
     "output_type": "stream",
     "name": "stdout",
     "output_type": "stream",
     "text": [
      "Total number of employees: 5\n+-----+------+----------+---------+---------+----------+\n|EmpID|  Name|Department|UnitsSold|UnitPrice|TotalSales|\n+-----+------+----------+---------+---------+----------+\n| E101|  Amit|     Sales|       10|     1200|     12000|\n| E102| Sneha| Marketing|        8|     1500|     12000|\n| E103|  Ravi|     Sales|       12|     1300|     15600|\n| E104|Anjali|        HR|        7|     1100|      7700|\n| E105|   Raj|     Sales|        5|     1000|      5000|\n+-----+------+----------+---------+---------+----------+\n\n+-----+----+----------+---------+---------+----------+\n|EmpID|Name|Department|UnitsSold|UnitPrice|TotalSales|\n+-----+----+----------+---------+---------+----------+\n| E103|Ravi|     Sales|       12|     1300|     15600|\n+-----+----+----------+---------+---------+----------+\n\n+-----+----+----------+---------+---------+----------+\n|EmpID|Name|Department|UnitsSold|UnitPrice|TotalSales|\n+-----+----+----------+---------+---------+----------+\n| E103|Ravi|     Sales|       12|     1300|     15600|\n+-----+----+----------+---------+---------+----------+\n\n+-----+------+----------+---------+---------+----------+\n|EmpID|  Name|Department|UnitsSold|UnitPrice|TotalSales|\n+-----+------+----------+---------+---------+----------+\n| E103|  Ravi|     Sales|       12|     1300|     15600|\n| E102| Sneha| Marketing|        8|     1500|     12000|\n| E101|  Amit|     Sales|       10|     1200|     12000|\n| E104|Anjali|        HR|        7|     1100|      7700|\n| E105|   Raj|     Sales|        5|     1000|      5000|\n+-----+------+----------+---------+---------+----------+\n\n"
     ]
    }
   ],
   "source": [
    "# 1. Show total number of employees\n",
    "print(\"Total number of employees:\", df.count())\n",
    "\n",
    "# 2. Add a new column TotalSales (UnitsSold × UnitPrice)\n",
    "df = df.withColumn(\"TotalSales\", col(\"UnitsSold\") * col(\"UnitPrice\"))\n",
    "df.show()\n",
    "\n",
    "# 3. Show only Sales department employees with TotalSales > 12,000\n",
    "df_sales_high = df.filter((col(\"Department\") == \"Sales\") & (col(\"TotalSales\") > 12000))\n",
    "df_sales_high.show()\n",
    "\n",
    "# 4. Find the employee with the highest total sales\n",
    "df_highest = df.orderBy(col(\"TotalSales\").desc()).limit(1)\n",
    "df_highest.show()\n",
    "\n",
    "# 5. Sort employees by TotalSales in descending order\n",
    "df_sorted = df.orderBy(col(\"TotalSales\").desc())\n",
    "df_sorted.show()"
   ]
  }
 ],
 "metadata": {
  "application/vnd.databricks.v1+notebook": {
   "computePreferences": null,
   "dashboards": [],
   "environmentMetadata": {
    "base_environment": "",
    "environment_version": "2"
   },
   "inputWidgetPreferences": null,
   "language": "python",
   "notebookMetadata": {
    "pythonIndentUnit": 4
   },
   "notebookName": "Analyze_sales_data",
   "widgets": {}
  },
  "language_info": {
   "name": "python"
  }
 },
 "nbformat": 4,
 "nbformat_minor": 0
}