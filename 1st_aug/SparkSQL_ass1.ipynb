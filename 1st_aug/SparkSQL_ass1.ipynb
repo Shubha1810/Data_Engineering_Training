{
  "nbformat": 4,
  "nbformat_minor": 0,
  "metadata": {
    "colab": {
      "provenance": []
    },
    "kernelspec": {
      "name": "python3",
      "display_name": "Python 3"
    },
    "language_info": {
      "name": "python"
    }
  },
  "cells": [
    {
      "cell_type": "code",
      "execution_count": 1,
      "metadata": {
        "colab": {
          "base_uri": "https://localhost:8080/"
        },
        "id": "sP4zWEEtNNha",
        "outputId": "d03d1628-db59-485d-b0e0-3b70b8c83ec6"
      },
      "outputs": [
        {
          "output_type": "stream",
          "name": "stdout",
          "text": [
            "+-----+-----+-----------+---------------+------+------------+\n",
            "|EmpID|Name |Department |Project        |Salary|HoursPerWeek|\n",
            "+-----+-----+-----------+---------------+------+------------+\n",
            "|101  |Ravi |Engineering|AI Engine      |95000 |42          |\n",
            "|102  |Sneha|Engineering|Data Platform  |87000 |45          |\n",
            "|103  |Kabir|Marketing  |Product Launch |65000 |40          |\n",
            "|104  |Anita|Sales      |Client Outreach|70000 |38          |\n",
            "|105  |Divya|Engineering|AI Engine      |99000 |48          |\n",
            "|106  |Amit |Marketing  |Social Media   |62000 |35          |\n",
            "|107  |Priya|HR         |Policy Revamp  |58000 |37          |\n",
            "|108  |Manav|Sales      |Lead Gen       |73000 |41          |\n",
            "|109  |Neha |Engineering|Security Suite |91000 |46          |\n",
            "|110  |Farah|HR         |Onboarding     |60000 |36          |\n",
            "+-----+-----+-----------+---------------+------+------------+\n",
            "\n"
          ]
        }
      ],
      "source": [
        "\n",
        "from pyspark.sql import SparkSession,Row\n",
        "# Start Spark session\n",
        "spark = SparkSession.builder.appName(\"EmployeeData\").getOrCreate()\n",
        "\n",
        "data = [\n",
        "Row(EmpID=101, Name=\"Ravi\", Department=\"Engineering\", Project=\"AI Engine\",\n",
        "Salary=95000, HoursPerWeek=42),\n",
        "Row(EmpID=102, Name=\"Sneha\", Department=\"Engineering\", Project=\"Data Platform\",\n",
        "Salary=87000, HoursPerWeek=45),\n",
        "Row(EmpID=103, Name=\"Kabir\", Department=\"Marketing\", Project=\"Product Launch\",\n",
        "Salary=65000, HoursPerWeek=40),\n",
        "Row(EmpID=104, Name=\"Anita\", Department=\"Sales\", Project=\"Client Outreach\",\n",
        "Salary=70000, HoursPerWeek=38),\n",
        "Row(EmpID=105, Name=\"Divya\", Department=\"Engineering\", Project=\"AI Engine\",\n",
        "Salary=99000, HoursPerWeek=48),\n",
        "Row(EmpID=106, Name=\"Amit\", Department=\"Marketing\", Project=\"Social Media\",\n",
        "Salary=62000, HoursPerWeek=35),\n",
        "Row(EmpID=107, Name=\"Priya\", Department=\"HR\", Project=\"Policy Revamp\",\n",
        "Salary=58000, HoursPerWeek=37),\n",
        "Row(EmpID=108, Name=\"Manav\", Department=\"Sales\", Project=\"Lead Gen\", Salary=73000,\n",
        "HoursPerWeek=41),\n",
        "Row(EmpID=109, Name=\"Neha\", Department=\"Engineering\", Project=\"Security Suite\",\n",
        "Salary=91000, HoursPerWeek=46),\n",
        "Row(EmpID=110, Name=\"Farah\", Department=\"HR\", Project=\"Onboarding\", Salary=60000,\n",
        "HoursPerWeek=36)\n",
        "]\n",
        "df = spark.createDataFrame(data)\n",
        "df.show(truncate=False)"
      ]
    },
    {
      "cell_type": "markdown",
      "source": [
        "# Create Views\n",
        "Create a Local Temp View"
      ],
      "metadata": {
        "id": "1mMxvxboOWil"
      }
    },
    {
      "cell_type": "code",
      "source": [
        "df.createOrReplaceTempView(\"employees_local\")"
      ],
      "metadata": {
        "id": "8XD58LQyOaZc"
      },
      "execution_count": 2,
      "outputs": []
    },
    {
      "cell_type": "markdown",
      "source": [
        "# Create a Global Temp View"
      ],
      "metadata": {
        "id": "3zZva7_KOh2I"
      }
    },
    {
      "cell_type": "code",
      "source": [
        "df.createOrReplaceGlobalTempView(\"employees_global\")"
      ],
      "metadata": {
        "id": "X3Jd3y0ZOjnE"
      },
      "execution_count": 3,
      "outputs": []
    },
    {
      "cell_type": "markdown",
      "source": [
        "# Part A: Exercises on Local View ( employees_local )\n",
        "1. List all employees working on the \"AI Engine\" project."
      ],
      "metadata": {
        "id": "vFIdV4VFOnfX"
      }
    },
    {
      "cell_type": "code",
      "source": [
        "\n",
        "spark.sql(\"SELECT * FROM employees_local WHERE Project = 'AI Engine'\").show()"
      ],
      "metadata": {
        "colab": {
          "base_uri": "https://localhost:8080/"
        },
        "id": "_bEIAEicOqsb",
        "outputId": "c80d1582-5105-41cc-ff59-c249add6d711"
      },
      "execution_count": 4,
      "outputs": [
        {
          "output_type": "stream",
          "name": "stdout",
          "text": [
            "+-----+-----+-----------+---------+------+------------+\n",
            "|EmpID| Name| Department|  Project|Salary|HoursPerWeek|\n",
            "+-----+-----+-----------+---------+------+------------+\n",
            "|  101| Ravi|Engineering|AI Engine| 95000|          42|\n",
            "|  105|Divya|Engineering|AI Engine| 99000|          48|\n",
            "+-----+-----+-----------+---------+------+------------+\n",
            "\n"
          ]
        }
      ]
    },
    {
      "cell_type": "markdown",
      "source": [
        "2. Show all employees from the \"Marketing\" department with salaries greater than\n",
        "60,000."
      ],
      "metadata": {
        "id": "itTedJqMPL0G"
      }
    },
    {
      "cell_type": "code",
      "source": [
        "\n",
        "spark.sql(\"SELECT * FROM employees_local WHERE Department = 'Marketing' AND Salary > 60000\").show()\n",
        ""
      ],
      "metadata": {
        "colab": {
          "base_uri": "https://localhost:8080/"
        },
        "id": "ZC1W2bjbPOT0",
        "outputId": "37376a52-0924-4fb3-dbaa-2ed273a9af10"
      },
      "execution_count": 5,
      "outputs": [
        {
          "output_type": "stream",
          "name": "stdout",
          "text": [
            "+-----+-----+----------+--------------+------+------------+\n",
            "|EmpID| Name|Department|       Project|Salary|HoursPerWeek|\n",
            "+-----+-----+----------+--------------+------+------------+\n",
            "|  103|Kabir| Marketing|Product Launch| 65000|          40|\n",
            "|  106| Amit| Marketing|  Social Media| 62000|          35|\n",
            "+-----+-----+----------+--------------+------+------------+\n",
            "\n"
          ]
        }
      ]
    },
    {
      "cell_type": "markdown",
      "source": [
        "3. Calculate the average salary for each department."
      ],
      "metadata": {
        "id": "bN3WeSU-PcQu"
      }
    },
    {
      "cell_type": "code",
      "source": [
        "\n",
        "spark.sql(\"SELECT Department, AVG(Salary) as AvgSalary FROM employees_local GROUP BY Department\").show()"
      ],
      "metadata": {
        "colab": {
          "base_uri": "https://localhost:8080/"
        },
        "id": "Dac-8eZSPdZZ",
        "outputId": "062ce361-aa37-45b4-dffc-e8c0f016b276"
      },
      "execution_count": 6,
      "outputs": [
        {
          "output_type": "stream",
          "name": "stdout",
          "text": [
            "+-----------+---------+\n",
            "| Department|AvgSalary|\n",
            "+-----------+---------+\n",
            "|      Sales|  71500.0|\n",
            "|Engineering|  93000.0|\n",
            "|  Marketing|  63500.0|\n",
            "|         HR|  59000.0|\n",
            "+-----------+---------+\n",
            "\n"
          ]
        }
      ]
    },
    {
      "cell_type": "markdown",
      "source": [
        "4. List the top 3 highest paid employees overall."
      ],
      "metadata": {
        "id": "8R3xYjvsPgi4"
      }
    },
    {
      "cell_type": "code",
      "source": [
        "spark.sql(\"SELECT * FROM employees_local ORDER BY Salary DESC LIMIT 3\").show()"
      ],
      "metadata": {
        "colab": {
          "base_uri": "https://localhost:8080/"
        },
        "id": "5zaltjATPjHj",
        "outputId": "ba67768c-35d0-41b3-afd8-deeeae45cf5f"
      },
      "execution_count": 7,
      "outputs": [
        {
          "output_type": "stream",
          "name": "stdout",
          "text": [
            "+-----+-----+-----------+--------------+------+------------+\n",
            "|EmpID| Name| Department|       Project|Salary|HoursPerWeek|\n",
            "+-----+-----+-----------+--------------+------+------------+\n",
            "|  105|Divya|Engineering|     AI Engine| 99000|          48|\n",
            "|  101| Ravi|Engineering|     AI Engine| 95000|          42|\n",
            "|  109| Neha|Engineering|Security Suite| 91000|          46|\n",
            "+-----+-----+-----------+--------------+------+------------+\n",
            "\n"
          ]
        }
      ]
    },
    {
      "cell_type": "markdown",
      "source": [
        "5. Find employees who work more than 40 hours per week."
      ],
      "metadata": {
        "id": "VjIXmBGSPsns"
      }
    },
    {
      "cell_type": "code",
      "source": [
        "spark.sql(\"SELECT * FROM employees_local WHERE HoursPerWeek > 40\").show()"
      ],
      "metadata": {
        "colab": {
          "base_uri": "https://localhost:8080/"
        },
        "id": "0EJAkbPPPtRJ",
        "outputId": "d713b516-0725-4ae8-8bd0-cf2fac08790c"
      },
      "execution_count": 8,
      "outputs": [
        {
          "output_type": "stream",
          "name": "stdout",
          "text": [
            "+-----+-----+-----------+--------------+------+------------+\n",
            "|EmpID| Name| Department|       Project|Salary|HoursPerWeek|\n",
            "+-----+-----+-----------+--------------+------+------------+\n",
            "|  101| Ravi|Engineering|     AI Engine| 95000|          42|\n",
            "|  102|Sneha|Engineering| Data Platform| 87000|          45|\n",
            "|  105|Divya|Engineering|     AI Engine| 99000|          48|\n",
            "|  108|Manav|      Sales|      Lead Gen| 73000|          41|\n",
            "|  109| Neha|Engineering|Security Suite| 91000|          46|\n",
            "+-----+-----+-----------+--------------+------+------------+\n",
            "\n"
          ]
        }
      ]
    },
    {
      "cell_type": "markdown",
      "source": [
        "6. Group by project and display the number of employees per project."
      ],
      "metadata": {
        "id": "Ka0YhXuzPxDR"
      }
    },
    {
      "cell_type": "code",
      "source": [
        "spark.sql(\"SELECT Project, COUNT(*) as EmployeeCount FROM employees_local GROUP BY Project\").show()"
      ],
      "metadata": {
        "colab": {
          "base_uri": "https://localhost:8080/"
        },
        "id": "8lfNQjoCPwo-",
        "outputId": "62a1667a-8225-4c53-9482-e82137ff7d6b"
      },
      "execution_count": 9,
      "outputs": [
        {
          "output_type": "stream",
          "name": "stdout",
          "text": [
            "+---------------+-------------+\n",
            "|        Project|EmployeeCount|\n",
            "+---------------+-------------+\n",
            "|  Data Platform|            1|\n",
            "|      AI Engine|            2|\n",
            "| Product Launch|            1|\n",
            "|Client Outreach|            1|\n",
            "| Security Suite|            1|\n",
            "|  Policy Revamp|            1|\n",
            "|       Lead Gen|            1|\n",
            "|   Social Media|            1|\n",
            "|     Onboarding|            1|\n",
            "+---------------+-------------+\n",
            "\n"
          ]
        }
      ]
    },
    {
      "cell_type": "markdown",
      "source": [
        "7. Drop the local view."
      ],
      "metadata": {
        "id": "eKNgbtudRFC3"
      }
    },
    {
      "cell_type": "code",
      "source": [
        "\n",
        "spark.catalog.dropTempView(\"employees_local\")"
      ],
      "metadata": {
        "colab": {
          "base_uri": "https://localhost:8080/"
        },
        "id": "cBb4yiCIREsn",
        "outputId": "b75c747b-5d50-461b-b2db-f51ccdda7596"
      },
      "execution_count": 10,
      "outputs": [
        {
          "output_type": "execute_result",
          "data": {
            "text/plain": [
              "True"
            ]
          },
          "metadata": {},
          "execution_count": 10
        }
      ]
    },
    {
      "cell_type": "markdown",
      "source": [
        "# Part B: Exercises on Global View ( employees_global )\n",
        "1. Retrieve all \"HR\" employees working fewer than 38 hours/week."
      ],
      "metadata": {
        "id": "yoX7mX59RK15"
      }
    },
    {
      "cell_type": "code",
      "source": [
        "spark.sql(\"SELECT * FROM global_temp.employees_global WHERE Department = 'HR' AND HoursPerWeek < 38\").show()"
      ],
      "metadata": {
        "colab": {
          "base_uri": "https://localhost:8080/"
        },
        "id": "5xflLHlvRNRW",
        "outputId": "160bcc66-e131-4bc9-f1a1-c8a188bc9378"
      },
      "execution_count": 11,
      "outputs": [
        {
          "output_type": "stream",
          "name": "stdout",
          "text": [
            "+-----+-----+----------+-------------+------+------------+\n",
            "|EmpID| Name|Department|      Project|Salary|HoursPerWeek|\n",
            "+-----+-----+----------+-------------+------+------------+\n",
            "|  107|Priya|        HR|Policy Revamp| 58000|          37|\n",
            "|  110|Farah|        HR|   Onboarding| 60000|          36|\n",
            "+-----+-----+----------+-------------+------+------------+\n",
            "\n"
          ]
        }
      ]
    },
    {
      "cell_type": "markdown",
      "source": [
        "2. Calculate the total salary payout for each department."
      ],
      "metadata": {
        "id": "c0TWzPjCRRy-"
      }
    },
    {
      "cell_type": "code",
      "source": [
        "\n",
        "spark.sql(\"SELECT Department, SUM(Salary) as TotalPayout FROM global_temp.employees_global GROUP BY Department;\").show()"
      ],
      "metadata": {
        "colab": {
          "base_uri": "https://localhost:8080/"
        },
        "id": "u1dtVUg-RUc5",
        "outputId": "a4301545-d20f-4511-e93d-d18722baa927"
      },
      "execution_count": 12,
      "outputs": [
        {
          "output_type": "stream",
          "name": "stdout",
          "text": [
            "+-----------+-----------+\n",
            "| Department|TotalPayout|\n",
            "+-----------+-----------+\n",
            "|      Sales|     143000|\n",
            "|Engineering|     372000|\n",
            "|  Marketing|     127000|\n",
            "|         HR|     118000|\n",
            "+-----------+-----------+\n",
            "\n"
          ]
        }
      ]
    },
    {
      "cell_type": "markdown",
      "source": [
        "3. For each employee, add a derived column Status :\n",
        "\n",
        "  If HoursPerWeek > 45 → 'Overworked' Otherwise → 'Normal'"
      ],
      "metadata": {
        "id": "7yAYxNpQRXxt"
      }
    },
    {
      "cell_type": "code",
      "source": [
        "spark.sql(\"SELECT *, CASE WHEN HoursPerWeek > 45 THEN 'Overworked' ELSE 'Normal' END AS Status FROM global_temp.employees_global\").show()\n",
        ""
      ],
      "metadata": {
        "colab": {
          "base_uri": "https://localhost:8080/"
        },
        "id": "qRFUzTSfRfgs",
        "outputId": "efb00b8f-41a2-413f-9b21-23945fdb4d91"
      },
      "execution_count": 13,
      "outputs": [
        {
          "output_type": "stream",
          "name": "stdout",
          "text": [
            "+-----+-----+-----------+---------------+------+------------+----------+\n",
            "|EmpID| Name| Department|        Project|Salary|HoursPerWeek|    Status|\n",
            "+-----+-----+-----------+---------------+------+------------+----------+\n",
            "|  101| Ravi|Engineering|      AI Engine| 95000|          42|    Normal|\n",
            "|  102|Sneha|Engineering|  Data Platform| 87000|          45|    Normal|\n",
            "|  103|Kabir|  Marketing| Product Launch| 65000|          40|    Normal|\n",
            "|  104|Anita|      Sales|Client Outreach| 70000|          38|    Normal|\n",
            "|  105|Divya|Engineering|      AI Engine| 99000|          48|Overworked|\n",
            "|  106| Amit|  Marketing|   Social Media| 62000|          35|    Normal|\n",
            "|  107|Priya|         HR|  Policy Revamp| 58000|          37|    Normal|\n",
            "|  108|Manav|      Sales|       Lead Gen| 73000|          41|    Normal|\n",
            "|  109| Neha|Engineering| Security Suite| 91000|          46|Overworked|\n",
            "|  110|Farah|         HR|     Onboarding| 60000|          36|    Normal|\n",
            "+-----+-----+-----------+---------------+------+------------+----------+\n",
            "\n"
          ]
        }
      ]
    },
    {
      "cell_type": "markdown",
      "source": [
        "4. Count the total number of employees working on each \"Project\" ."
      ],
      "metadata": {
        "id": "SQ8h6ARsRjUa"
      }
    },
    {
      "cell_type": "code",
      "source": [
        "spark.sql(\"select project, count(*) as employee_count from global_temp.employees_global group by project\").show()\n",
        ""
      ],
      "metadata": {
        "colab": {
          "base_uri": "https://localhost:8080/"
        },
        "id": "IkETxxlNRmHz",
        "outputId": "cb79bf69-34b8-466a-d51b-d75952baa700"
      },
      "execution_count": 14,
      "outputs": [
        {
          "output_type": "stream",
          "name": "stdout",
          "text": [
            "+---------------+--------------+\n",
            "|        project|employee_count|\n",
            "+---------------+--------------+\n",
            "|  Data Platform|             1|\n",
            "|      AI Engine|             2|\n",
            "| Product Launch|             1|\n",
            "|Client Outreach|             1|\n",
            "| Security Suite|             1|\n",
            "|  Policy Revamp|             1|\n",
            "|       Lead Gen|             1|\n",
            "|   Social Media|             1|\n",
            "|     Onboarding|             1|\n",
            "+---------------+--------------+\n",
            "\n"
          ]
        }
      ]
    },
    {
      "cell_type": "markdown",
      "source": [
        "5. List employees whose salary is above the average salary in their department.\n"
      ],
      "metadata": {
        "id": "aotAqK24Rpvx"
      }
    },
    {
      "cell_type": "code",
      "source": [
        "spark.sql(\"SELECT * FROM global_temp.employees_global WHERE Salary > (SELECT AVG(Salary) FROM global_temp.employees_global WHERE Department = global_temp.employees_global.Department)\").show()\n",
        ""
      ],
      "metadata": {
        "colab": {
          "base_uri": "https://localhost:8080/"
        },
        "id": "IMaMmCqVRtqU",
        "outputId": "71e71979-a599-46c8-f218-c3216e8c384a"
      },
      "execution_count": 15,
      "outputs": [
        {
          "output_type": "stream",
          "name": "stdout",
          "text": [
            "+-----+-----+-----------+--------------+------+------------+\n",
            "|EmpID| Name| Department|       Project|Salary|HoursPerWeek|\n",
            "+-----+-----+-----------+--------------+------+------------+\n",
            "|  101| Ravi|Engineering|     AI Engine| 95000|          42|\n",
            "|  102|Sneha|Engineering| Data Platform| 87000|          45|\n",
            "|  105|Divya|Engineering|     AI Engine| 99000|          48|\n",
            "|  109| Neha|Engineering|Security Suite| 91000|          46|\n",
            "+-----+-----+-----------+--------------+------+------------+\n",
            "\n"
          ]
        }
      ]
    },
    {
      "cell_type": "markdown",
      "source": [
        "6. Open a new Spark session and query \"global_temp.employees_global\" from there."
      ],
      "metadata": {
        "id": "Gr_1GZ-cR3ds"
      }
    },
    {
      "cell_type": "code",
      "source": [
        "new_spark = SparkSession.builder.appName(\"newsession\").getOrCreate()\n",
        "new_spark.sql(\"select * from global_temp.employees_global\").show()"
      ],
      "metadata": {
        "colab": {
          "base_uri": "https://localhost:8080/"
        },
        "id": "fD1bi9MtSNpe",
        "outputId": "093d44b0-8d62-4958-c8c1-1d01551dcfe3"
      },
      "execution_count": 16,
      "outputs": [
        {
          "output_type": "stream",
          "name": "stdout",
          "text": [
            "+-----+-----+-----------+---------------+------+------------+\n",
            "|EmpID| Name| Department|        Project|Salary|HoursPerWeek|\n",
            "+-----+-----+-----------+---------------+------+------------+\n",
            "|  101| Ravi|Engineering|      AI Engine| 95000|          42|\n",
            "|  102|Sneha|Engineering|  Data Platform| 87000|          45|\n",
            "|  103|Kabir|  Marketing| Product Launch| 65000|          40|\n",
            "|  104|Anita|      Sales|Client Outreach| 70000|          38|\n",
            "|  105|Divya|Engineering|      AI Engine| 99000|          48|\n",
            "|  106| Amit|  Marketing|   Social Media| 62000|          35|\n",
            "|  107|Priya|         HR|  Policy Revamp| 58000|          37|\n",
            "|  108|Manav|      Sales|       Lead Gen| 73000|          41|\n",
            "|  109| Neha|Engineering| Security Suite| 91000|          46|\n",
            "|  110|Farah|         HR|     Onboarding| 60000|          36|\n",
            "+-----+-----+-----------+---------------+------+------------+\n",
            "\n"
          ]
        }
      ]
    },
    {
      "cell_type": "markdown",
      "source": [
        "# Bonus Challenges\n",
        "1. Use a window function to assign rank to employees within each department based on salary."
      ],
      "metadata": {
        "id": "o7PzvnaRSRLC"
      }
    },
    {
      "cell_type": "code",
      "source": [
        "spark.sql(\"SELECT *, RANK() OVER (PARTITION BY Department ORDER BY Salary DESC) AS SalaryRank FROM global_temp.employees_global\").show()\n",
        ""
      ],
      "metadata": {
        "colab": {
          "base_uri": "https://localhost:8080/"
        },
        "id": "x6w-vM8pSXVQ",
        "outputId": "0a5f0803-44b0-4678-bad5-c1cf0dea147e"
      },
      "execution_count": 17,
      "outputs": [
        {
          "output_type": "stream",
          "name": "stdout",
          "text": [
            "+-----+-----+-----------+---------------+------+------------+----------+\n",
            "|EmpID| Name| Department|        Project|Salary|HoursPerWeek|SalaryRank|\n",
            "+-----+-----+-----------+---------------+------+------------+----------+\n",
            "|  105|Divya|Engineering|      AI Engine| 99000|          48|         1|\n",
            "|  101| Ravi|Engineering|      AI Engine| 95000|          42|         2|\n",
            "|  109| Neha|Engineering| Security Suite| 91000|          46|         3|\n",
            "|  102|Sneha|Engineering|  Data Platform| 87000|          45|         4|\n",
            "|  110|Farah|         HR|     Onboarding| 60000|          36|         1|\n",
            "|  107|Priya|         HR|  Policy Revamp| 58000|          37|         2|\n",
            "|  103|Kabir|  Marketing| Product Launch| 65000|          40|         1|\n",
            "|  106| Amit|  Marketing|   Social Media| 62000|          35|         2|\n",
            "|  108|Manav|      Sales|       Lead Gen| 73000|          41|         1|\n",
            "|  104|Anita|      Sales|Client Outreach| 70000|          38|         2|\n",
            "+-----+-----+-----------+---------------+------+------------+----------+\n",
            "\n"
          ]
        }
      ]
    },
    {
      "cell_type": "markdown",
      "source": [
        "2. Create another view (local or global) that only contains \"Engineering\"\n",
        "employees."
      ],
      "metadata": {
        "id": "AlW-SyFZScfC"
      }
    },
    {
      "cell_type": "code",
      "source": [
        "spark.sql(\"CREATE OR REPLACE GLOBAL TEMP VIEW engineering_employees AS SELECT * FROM global_temp.employees_global WHERE Department = 'Engineering'\").show()\n",
        ""
      ],
      "metadata": {
        "colab": {
          "base_uri": "https://localhost:8080/"
        },
        "id": "WVbKiphYSgPV",
        "outputId": "1719f32d-ceed-410c-9828-28c95e01bfc3"
      },
      "execution_count": 18,
      "outputs": [
        {
          "output_type": "stream",
          "name": "stdout",
          "text": [
            "++\n",
            "||\n",
            "++\n",
            "++\n",
            "\n"
          ]
        }
      ]
    },
    {
      "cell_type": "markdown",
      "source": [
        "3. Create a SQL view that filters out all employees working < 38 hours and saves it as \"active_employees\" ."
      ],
      "metadata": {
        "id": "q9OgEwbXSqAY"
      }
    },
    {
      "cell_type": "code",
      "source": [
        "spark.sql(\"create or replace temp view active_employees as select * from global_temp.employees_global where hoursperweek >= 38\").show()\n",
        "\n",
        ""
      ],
      "metadata": {
        "colab": {
          "base_uri": "https://localhost:8080/"
        },
        "id": "CPso-N-7SrAB",
        "outputId": "62cf3aad-489c-4a80-b5e8-21b1b004936e"
      },
      "execution_count": 19,
      "outputs": [
        {
          "output_type": "stream",
          "name": "stdout",
          "text": [
            "++\n",
            "||\n",
            "++\n",
            "++\n",
            "\n"
          ]
        }
      ]
    }
  ]
}