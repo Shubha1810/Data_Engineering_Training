{
 "cells": [
  {
   "cell_type": "code",
   "execution_count": 0,
   "metadata": {
    "application/vnd.databricks.v1+cell": {
     "cellMetadata": {
      "byteLimit": 2048000,
      "rowLimit": 10000
     },
     "inputWidgets": {},
     "nuid": "b7940fb5-4947-424d-8a32-2a279f4602bd",
     "showTitle": false,
     "tableResultSettingsMap": {},
     "title": ""
    }
   },
   "outputs": [],
   "source": [
    "import pandas as pd\n",
    "\n",
    "# Create the dataset\n",
    "data = [\n",
    "    (101, \"Laptop\", \"Electronics\", 55000, 10),\n",
    "    (102, \"Smartphone\", \"Electronics\", 30000, 25),\n",
    "    (103, \"Chair\", \"Furniture\", 2500, 50),\n",
    "    (104, \"Book\", \"Stationery\", 400, 200),\n",
    "    (105, \"Headphones\", \"Electronics\", 1500, 100),\n",
    "    (106, \"Table\", \"Furniture\", 3200, 40),\n",
    "    (107, \"Pen\", \"Stationery\", 20, 500),\n",
    "    (108, \"Monitor\", \"Electronics\", 12000, 15),\n",
    "    (109, \"Notebook\", \"Stationery\", 60, 300),\n",
    "    (110, \"Sofa\", \"Furniture\", 45000, 5),\n",
    "]\n",
    "\n",
    "columns = [\"product_id\", \"product_name\", \"category\", \"price\", \"quantity\"]\n",
    "\n",
    "# Save to CSV & JSON\n",
    "df = pd.DataFrame(data, columns=columns)\n",
    "df.to_csv(\"products.csv\", index=False)\n",
    "df.to_json(\"products.json\", orient=\"records\", lines=True)"
   ]
  },
  {
   "cell_type": "code",
   "execution_count": 0,
   "metadata": {
    "application/vnd.databricks.v1+cell": {
     "cellMetadata": {
      "byteLimit": 2048000,
      "rowLimit": 10000
     },
     "inputWidgets": {},
     "nuid": "88b99c6f-9777-432c-81e2-63a146a518ff",
     "showTitle": false,
     "tableResultSettingsMap": {},
     "title": ""
    }
   },
   "outputs": [],
   "source": [
    "\n",
    "from pyspark.sql import SparkSession\n",
    "from pyspark.sql.functions import col, when, expr, sum as Fsum, avg, count\n",
    "spark = SparkSession.builder.appName(\"ProductAnalysis\").getOrCreate()"
   ]
  },
  {
   "cell_type": "markdown",
   "metadata": {
    "application/vnd.databricks.v1+cell": {
     "cellMetadata": {},
     "inputWidgets": {},
     "nuid": "aa252265-cdca-41ce-bb32-3ac8d4c43489",
     "showTitle": false,
     "tableResultSettingsMap": {},
     "title": ""
    }
   },
   "source": [
    "**1. Read the above data from CSV and JSON into a DataFrame and print the schema.**"
   ]
  },
  {
   "cell_type": "code",
   "execution_count": 0,
   "metadata": {
    "application/vnd.databricks.v1+cell": {
     "cellMetadata": {
      "byteLimit": 2048000,
      "rowLimit": 10000
     },
     "inputWidgets": {},
     "nuid": "c9e01b89-5a34-4a4f-ac18-b088e2989be4",
     "showTitle": false,
     "tableResultSettingsMap": {},
     "title": ""
    }
   },
   "outputs": [
    {
     "output_type": "stream",
     "name": "stdout",
     "output_type": "stream",
     "text": [
      "root\n |-- product_id: integer (nullable = true)\n |-- product_name: string (nullable = true)\n |-- category: string (nullable = true)\n |-- price: integer (nullable = true)\n |-- quantity: integer (nullable = true)\n\nroot\n |-- category: string (nullable = true)\n |-- price: long (nullable = true)\n |-- product_id: long (nullable = true)\n |-- product_name: string (nullable = true)\n |-- quantity: long (nullable = true)\n\n"
     ]
    }
   ],
   "source": [
    "# Read the CSV\n",
    "df_csv = spark.read.option(\"header\", True).option(\"inferSchema\", True).csv(\"dbfs:/FileStore/tables/products-2.csv\")\n",
    "df_csv.printSchema()\n",
    "\n",
    "# Read the JSON\n",
    "df_json = spark.read.option(\"inferSchema\", True).json(\"dbfs:/FileStore/tables/products-1.json\")\n",
    "df_json.printSchema()"
   ]
  },
  {
   "cell_type": "markdown",
   "metadata": {
    "application/vnd.databricks.v1+cell": {
     "cellMetadata": {},
     "inputWidgets": {},
     "nuid": "ed4dfc28-589b-4743-b068-b8865bdd16e0",
     "showTitle": false,
     "tableResultSettingsMap": {},
     "title": ""
    }
   },
   "source": [
    "**3. Convert the CSV data into Parquet format and save to disk.**"
   ]
  },
  {
   "cell_type": "code",
   "execution_count": 0,
   "metadata": {
    "application/vnd.databricks.v1+cell": {
     "cellMetadata": {
      "byteLimit": 2048000,
      "rowLimit": 10000
     },
     "inputWidgets": {},
     "nuid": "421fb9d9-c00f-4201-b5d1-552e5f42388c",
     "showTitle": false,
     "tableResultSettingsMap": {},
     "title": ""
    }
   },
   "outputs": [],
   "source": [
    "\n",
    "# Read CSV\n",
    "df = spark.read.csv(\"dbfs:/FileStore/tables/products-2.csv\", header=True, inferSchema=True)\n",
    "\n",
    "# Write to Parquet\n",
    "df.write.mode(\"overwrite\").parquet(\"dbfs:/FileStore/tables/products_parquet\")"
   ]
  },
  {
   "cell_type": "code",
   "execution_count": 0,
   "metadata": {
    "application/vnd.databricks.v1+cell": {
     "cellMetadata": {
      "byteLimit": 2048000,
      "rowLimit": 10000
     },
     "inputWidgets": {},
     "nuid": "cabd0f4e-04d0-4f06-9a40-1e3f35bd266a",
     "showTitle": false,
     "tableResultSettingsMap": {},
     "title": ""
    }
   },
   "outputs": [
    {
     "output_type": "stream",
     "name": "stdout",
     "output_type": "stream",
     "text": [
      "+----------+------------+-----------+-----+--------+\n|product_id|product_name|   category|price|quantity|\n+----------+------------+-----------+-----+--------+\n|       101|      Laptop|Electronics|55000|      10|\n|       102|  Smartphone|Electronics|30000|      25|\n|       103|       Chair|  Furniture| 2500|      50|\n|       104|        Book| Stationery|  400|     200|\n|       105|  Headphones|Electronics| 1500|     100|\n|       106|       Table|  Furniture| 3200|      40|\n|       107|         Pen| Stationery|   20|     500|\n|       108|     Monitor|Electronics|12000|      15|\n|       109|    Notebook| Stationery|   60|     300|\n|       110|        Sofa|  Furniture|45000|       5|\n+----------+------------+-----------+-----+--------+\n\n"
     ]
    }
   ],
   "source": [
    "\n",
    "df_parquet = spark.read.parquet(\"dbfs:/FileStore/tables/products_parquet\")\n",
    "df_parquet.show()"
   ]
  },
  {
   "cell_type": "markdown",
   "metadata": {
    "application/vnd.databricks.v1+cell": {
     "cellMetadata": {},
     "inputWidgets": {},
     "nuid": "ee37a101-f200-4db2-aa21-5ee07562bf7b",
     "showTitle": false,
     "tableResultSettingsMap": {},
     "title": ""
    }
   },
   "source": [
    "**4.Measure the size of CSV vs JSON vs Parquet on disk.**"
   ]
  },
  {
   "cell_type": "code",
   "execution_count": 0,
   "metadata": {
    "application/vnd.databricks.v1+cell": {
     "cellMetadata": {
      "byteLimit": 2048000,
      "rowLimit": 10000
     },
     "inputWidgets": {},
     "nuid": "27511a85-5aab-49fc-864f-14ff32039d9f",
     "showTitle": false,
     "tableResultSettingsMap": {},
     "title": ""
    }
   },
   "outputs": [
    {
     "output_type": "stream",
     "name": "stdout",
     "output_type": "stream",
     "text": [
      "{'CSV': 3, 'JSON': 1, 'Parquet': 2}\n"
     ]
    }
   ],
   "source": [
    "files = dbutils.fs.ls(\"dbfs:/FileStore/tables/\")\n",
    "counts = {\"CSV\": 0, \"JSON\": 0, \"Parquet\":0 }\n",
    "\n",
    "for file in files:\n",
    "    path = file.path.lower()\n",
    "    if path.endswith(\".csv\"):\n",
    "        counts[\"CSV\"] += 1\n",
    "    elif path.endswith(\".json\"):\n",
    "        counts[\"JSON\"] += 1\n",
    "    elif path.endswith(\".parquet\") or \"parquet\" in path:\n",
    "        counts[\"Parquet\"] += 1\n",
    "\n",
    "print(counts)"
   ]
  },
  {
   "cell_type": "markdown",
   "metadata": {
    "application/vnd.databricks.v1+cell": {
     "cellMetadata": {},
     "inputWidgets": {},
     "nuid": "60f0bdd5-842f-49cf-96bd-ffbcace7058b",
     "showTitle": false,
     "tableResultSettingsMap": {},
     "title": ""
    }
   },
   "source": [
    "**5.Add a column total_revenue = price * quantity for each record.**"
   ]
  },
  {
   "cell_type": "code",
   "execution_count": 0,
   "metadata": {
    "application/vnd.databricks.v1+cell": {
     "cellMetadata": {
      "byteLimit": 2048000,
      "rowLimit": 10000
     },
     "inputWidgets": {},
     "nuid": "f9ef336a-c070-4047-af8c-018f59e56805",
     "showTitle": false,
     "tableResultSettingsMap": {},
     "title": ""
    }
   },
   "outputs": [
    {
     "output_type": "stream",
     "name": "stdout",
     "output_type": "stream",
     "text": [
      "+----------+------------+-----------+-----+--------+-------------+\n|product_id|product_name|   category|price|quantity|total_revenue|\n+----------+------------+-----------+-----+--------+-------------+\n|       101|      Laptop|Electronics|55000|      10|       550000|\n|       102|  Smartphone|Electronics|30000|      25|       750000|\n|       103|       Chair|  Furniture| 2500|      50|       125000|\n|       104|        Book| Stationery|  400|     200|        80000|\n|       105|  Headphones|Electronics| 1500|     100|       150000|\n|       106|       Table|  Furniture| 3200|      40|       128000|\n|       107|         Pen| Stationery|   20|     500|        10000|\n|       108|     Monitor|Electronics|12000|      15|       180000|\n|       109|    Notebook| Stationery|   60|     300|        18000|\n|       110|        Sofa|  Furniture|45000|       5|       225000|\n+----------+------------+-----------+-----+--------+-------------+\n\n"
     ]
    }
   ],
   "source": [
    "\n",
    "df = df_csv.withColumn(\"total_revenue\", col(\"price\") * col(\"quantity\"))\n",
    "df.show()"
   ]
  },
  {
   "cell_type": "markdown",
   "metadata": {
    "application/vnd.databricks.v1+cell": {
     "cellMetadata": {},
     "inputWidgets": {},
     "nuid": "0572a605-43eb-40c3-af20-383e02b68c75",
     "showTitle": false,
     "tableResultSettingsMap": {},
     "title": ""
    }
   },
   "source": [
    "**6.Find the top 3 products with the highest total revenue.**"
   ]
  },
  {
   "cell_type": "code",
   "execution_count": 0,
   "metadata": {
    "application/vnd.databricks.v1+cell": {
     "cellMetadata": {
      "byteLimit": 2048000,
      "rowLimit": 10000
     },
     "inputWidgets": {},
     "nuid": "aae914d6-633c-4db3-8c7b-a48351be6b99",
     "showTitle": false,
     "tableResultSettingsMap": {},
     "title": ""
    }
   },
   "outputs": [
    {
     "output_type": "stream",
     "name": "stdout",
     "output_type": "stream",
     "text": [
      "+------------+-------------+\n|product_name|total_revenue|\n+------------+-------------+\n|  Smartphone|       750000|\n|      Laptop|       550000|\n|        Sofa|       225000|\n+------------+-------------+\nonly showing top 3 rows\n"
     ]
    }
   ],
   "source": [
    "df.orderBy(col(\"total_revenue\").desc()).select(\"product_name\", \"total_revenue\").show(3)"
   ]
  },
  {
   "cell_type": "markdown",
   "metadata": {
    "application/vnd.databricks.v1+cell": {
     "cellMetadata": {},
     "inputWidgets": {},
     "nuid": "ff3a1b86-fdcc-4a1c-ab51-4f19f86e260e",
     "showTitle": false,
     "tableResultSettingsMap": {},
     "title": ""
    }
   },
   "source": [
    "**7.Filter and display only Furniture products with price > 3000.**"
   ]
  },
  {
   "cell_type": "code",
   "execution_count": 0,
   "metadata": {
    "application/vnd.databricks.v1+cell": {
     "cellMetadata": {
      "byteLimit": 2048000,
      "rowLimit": 10000
     },
     "inputWidgets": {},
     "nuid": "57958de4-944e-4f74-862f-8fde4e420f74",
     "showTitle": false,
     "tableResultSettingsMap": {},
     "title": ""
    }
   },
   "outputs": [
    {
     "output_type": "stream",
     "name": "stdout",
     "output_type": "stream",
     "text": [
      "+----------+------------+---------+-----+--------+-------------+\n|product_id|product_name| category|price|quantity|total_revenue|\n+----------+------------+---------+-----+--------+-------------+\n|       106|       Table|Furniture| 3200|      40|       128000|\n|       110|        Sofa|Furniture|45000|       5|       225000|\n+----------+------------+---------+-----+--------+-------------+\n\n"
     ]
    }
   ],
   "source": [
    "\n",
    "df.filter((col(\"category\") == \"Furniture\") & (col(\"price\") > 3000)).show()"
   ]
  },
  {
   "cell_type": "markdown",
   "metadata": {
    "application/vnd.databricks.v1+cell": {
     "cellMetadata": {},
     "inputWidgets": {},
     "nuid": "374594ed-e4d8-46c8-b4eb-d92abf986c94",
     "showTitle": false,
     "tableResultSettingsMap": {},
     "title": ""
    }
   },
   "source": [
    "**Create a new column price_band with values:**\n",
    "\n",
    "'High' if price > 10000 'Medium' if 3000 < price <= 10000 'Low' if price ≤ 3000"
   ]
  },
  {
   "cell_type": "code",
   "execution_count": 0,
   "metadata": {
    "application/vnd.databricks.v1+cell": {
     "cellMetadata": {
      "byteLimit": 2048000,
      "rowLimit": 10000
     },
     "inputWidgets": {},
     "nuid": "e5b5e388-3a6a-493d-b573-eab443a31d26",
     "showTitle": false,
     "tableResultSettingsMap": {},
     "title": ""
    }
   },
   "outputs": [
    {
     "output_type": "stream",
     "name": "stdout",
     "output_type": "stream",
     "text": [
      "+------------+-----+----------+\n|product_name|price|price_band|\n+------------+-----+----------+\n|      Laptop|55000|      High|\n|  Smartphone|30000|      High|\n|       Chair| 2500|       Low|\n|        Book|  400|       Low|\n|  Headphones| 1500|       Low|\n|       Table| 3200|    Medium|\n|         Pen|   20|       Low|\n|     Monitor|12000|      High|\n|    Notebook|   60|       Low|\n|        Sofa|45000|      High|\n+------------+-----+----------+\n\n"
     ]
    }
   ],
   "source": [
    "\n",
    "df = df.withColumn(\"price_band\", when(col(\"price\") > 10000, \"High\")\n",
    ".when((col(\"price\") > 3000) & (col(\"price\") <= 10000), \"Medium\")\n",
    ".otherwise(\"Low\"))\n",
    "df.select(\"product_name\", \"price\", \"price_band\").show()\n"
   ]
  },
  {
   "cell_type": "markdown",
   "metadata": {
    "application/vnd.databricks.v1+cell": {
     "cellMetadata": {},
     "inputWidgets": {},
     "nuid": "19441c83-74cf-413b-ad9d-bdb7c8c811a1",
     "showTitle": false,
     "tableResultSettingsMap": {},
     "title": ""
    }
   },
   "source": [
    "**9.Group by category and calculate total quantity sold.**"
   ]
  },
  {
   "cell_type": "code",
   "execution_count": 0,
   "metadata": {
    "application/vnd.databricks.v1+cell": {
     "cellMetadata": {
      "byteLimit": 2048000,
      "rowLimit": 10000
     },
     "inputWidgets": {},
     "nuid": "e6f0241d-109c-4c5a-96a8-4c143aac87b6",
     "showTitle": false,
     "tableResultSettingsMap": {},
     "title": ""
    }
   },
   "outputs": [
    {
     "output_type": "stream",
     "name": "stdout",
     "output_type": "stream",
     "text": [
      "+-----------+--------------+\n|   category|total_quantity|\n+-----------+--------------+\n|  Furniture|            95|\n| Stationery|          1000|\n|Electronics|           150|\n+-----------+--------------+\n\n"
     ]
    }
   ],
   "source": [
    "\n",
    "df.groupBy(\"category\").agg(Fsum(\"quantity\").alias(\"total_quantity\")).show()"
   ]
  },
  {
   "cell_type": "markdown",
   "metadata": {
    "application/vnd.databricks.v1+cell": {
     "cellMetadata": {},
     "inputWidgets": {},
     "nuid": "bb795454-b60b-49eb-96d1-6409cd9888b9",
     "showTitle": false,
     "tableResultSettingsMap": {},
     "title": ""
    }
   },
   "source": [
    "**10.Calculate average price of products for each category.**"
   ]
  },
  {
   "cell_type": "code",
   "execution_count": 0,
   "metadata": {
    "application/vnd.databricks.v1+cell": {
     "cellMetadata": {
      "byteLimit": 2048000,
      "rowLimit": 10000
     },
     "inputWidgets": {},
     "nuid": "a09d497b-4856-4f78-8feb-d3d15a9c5ee7",
     "showTitle": false,
     "tableResultSettingsMap": {},
     "title": ""
    }
   },
   "outputs": [
    {
     "output_type": "stream",
     "name": "stdout",
     "output_type": "stream",
     "text": [
      "+-----------+---------+\n|   category|avg_price|\n+-----------+---------+\n|  Furniture|  16900.0|\n| Stationery|    160.0|\n|Electronics|  24625.0|\n+-----------+---------+\n\n"
     ]
    }
   ],
   "source": [
    "\n",
    "df.groupBy(\"category\").agg(avg(\"price\").alias(\"avg_price\")).show()"
   ]
  },
  {
   "cell_type": "markdown",
   "metadata": {
    "application/vnd.databricks.v1+cell": {
     "cellMetadata": {},
     "inputWidgets": {},
     "nuid": "2b5ef56a-8ddb-4bb4-9786-242a56787214",
     "showTitle": false,
     "tableResultSettingsMap": {},
     "title": ""
    }
   },
   "source": [
    "**11.Count how many products fall in each price_band .**"
   ]
  },
  {
   "cell_type": "code",
   "execution_count": 0,
   "metadata": {
    "application/vnd.databricks.v1+cell": {
     "cellMetadata": {
      "byteLimit": 2048000,
      "rowLimit": 10000
     },
     "inputWidgets": {},
     "nuid": "90b5433f-44eb-4c16-be30-9238388479f9",
     "showTitle": false,
     "tableResultSettingsMap": {},
     "title": ""
    }
   },
   "outputs": [
    {
     "output_type": "stream",
     "name": "stdout",
     "output_type": "stream",
     "text": [
      "+----------+-------------+\n|price_band|product_count|\n+----------+-------------+\n|    Medium|            1|\n|      High|            4|\n|       Low|            5|\n+----------+-------------+\n\n"
     ]
    }
   ],
   "source": [
    "df.groupBy(\"price_band\").agg(count(\"*\").alias(\"product_count\")).show()"
   ]
  },
  {
   "cell_type": "markdown",
   "metadata": {
    "application/vnd.databricks.v1+cell": {
     "cellMetadata": {},
     "inputWidgets": {},
     "nuid": "864b303d-50e2-416b-83a2-3541628c7e48",
     "showTitle": false,
     "tableResultSettingsMap": {},
     "title": ""
    }
   },
   "source": [
    "**12.Write the filtered Electronics products (price > 5000) into a Parquet file.**"
   ]
  },
  {
   "cell_type": "code",
   "execution_count": 0,
   "metadata": {
    "application/vnd.databricks.v1+cell": {
     "cellMetadata": {
      "byteLimit": 2048000,
      "rowLimit": 10000
     },
     "inputWidgets": {},
     "nuid": "ad03952e-b934-43f6-94b5-65ebab266917",
     "showTitle": false,
     "tableResultSettingsMap": {},
     "title": ""
    }
   },
   "outputs": [],
   "source": [
    "\n",
    "df.filter((col(\"category\") == \"Electronics\") & (col(\"price\") > 5000))\\\n",
    ".write.mode(\"overwrite\").parquet(\"filtered_electronics.parquet\")"
   ]
  },
  {
   "cell_type": "markdown",
   "metadata": {
    "application/vnd.databricks.v1+cell": {
     "cellMetadata": {},
     "inputWidgets": {},
     "nuid": "d3818951-c941-4598-9aeb-aaaf10ed19f3",
     "showTitle": false,
     "tableResultSettingsMap": {},
     "title": ""
    }
   },
   "source": [
    "**13.Write the Stationery products into a JSON file.**"
   ]
  },
  {
   "cell_type": "code",
   "execution_count": 0,
   "metadata": {
    "application/vnd.databricks.v1+cell": {
     "cellMetadata": {
      "byteLimit": 2048000,
      "rowLimit": 10000
     },
     "inputWidgets": {},
     "nuid": "ca540eaa-325a-4153-a649-4d9cdf36e851",
     "showTitle": false,
     "tableResultSettingsMap": {},
     "title": ""
    }
   },
   "outputs": [],
   "source": [
    "\n",
    "\n",
    "df.filter(col(\"category\") == \"Stationery\")\\\n",
    ".write.mode(\"overwrite\").json(\"stationery_products.json\")"
   ]
  },
  {
   "cell_type": "markdown",
   "metadata": {
    "application/vnd.databricks.v1+cell": {
     "cellMetadata": {},
     "inputWidgets": {},
     "nuid": "7cc3ddfb-7c4f-46c5-914d-e5ca5347073a",
     "showTitle": false,
     "tableResultSettingsMap": {},
     "title": ""
    }
   },
   "source": [
    "**14Load Parquet back and run a query to find which category has highest total revenue.**"
   ]
  },
  {
   "cell_type": "code",
   "execution_count": 0,
   "metadata": {
    "application/vnd.databricks.v1+cell": {
     "cellMetadata": {
      "byteLimit": 2048000,
      "rowLimit": 10000
     },
     "inputWidgets": {},
     "nuid": "a25fc01c-0355-451b-8378-acf34ae6181a",
     "showTitle": false,
     "tableResultSettingsMap": {},
     "title": ""
    }
   },
   "outputs": [
    {
     "output_type": "stream",
     "name": "stdout",
     "output_type": "stream",
     "text": [
      "+-----------+----------------+\n|   category|category_revenue|\n+-----------+----------------+\n|Electronics|         1630000|\n+-----------+----------------+\nonly showing top 1 row\n"
     ]
    }
   ],
   "source": [
    "\n",
    "df_parquet = spark.read.parquet(\"dbfs:/FileStore/tables/products_parquet\")\n",
    "df_rev = df_parquet.withColumn(\"total_revenue\", col(\"price\") * col(\"quantity\"))\n",
    "df_rev.groupBy(\"category\").agg(Fsum(\"total_revenue\").alias(\"category_revenue\"))\\\n",
    ".orderBy(col(\"category_revenue\").desc()).show(1)\n",
    "from pyspark.sql.functions import col, sum as Fsum"
   ]
  },
  {
   "cell_type": "markdown",
   "metadata": {
    "application/vnd.databricks.v1+cell": {
     "cellMetadata": {},
     "inputWidgets": {},
     "nuid": "a66083ab-2bf7-4c7c-8a3b-dc5904fd1b23",
     "showTitle": false,
     "tableResultSettingsMap": {},
     "title": ""
    }
   },
   "source": [
    "**15.BONUS: Create a temporary view from the DataFrame and run Spark SQL to find all products with quantity > 100 and price < 1000.**"
   ]
  },
  {
   "cell_type": "code",
   "execution_count": 0,
   "metadata": {
    "application/vnd.databricks.v1+cell": {
     "cellMetadata": {
      "byteLimit": 2048000,
      "rowLimit": 10000
     },
     "inputWidgets": {},
     "nuid": "814ff0fc-dd1f-46e4-a5e4-05c38ec7ffe1",
     "showTitle": false,
     "tableResultSettingsMap": {},
     "title": ""
    }
   },
   "outputs": [
    {
     "output_type": "stream",
     "name": "stdout",
     "output_type": "stream",
     "text": [
      "+----------+------------+--------+-----+\n|product_id|product_name|quantity|price|\n+----------+------------+--------+-----+\n|       104|        Book|     200|  400|\n|       107|         Pen|     500|   20|\n|       109|    Notebook|     300|   60|\n+----------+------------+--------+-----+\n\n"
     ]
    }
   ],
   "source": [
    "\n",
    "df.createOrReplaceTempView(\"products\")\n",
    "\n",
    "spark.sql(\"\"\"SELECT product_id, product_name, quantity, price\n",
    "FROM products\n",
    "WHERE quantity > 100 AND price < 1000\"\"\").show()"
   ]
  }
 ],
 "metadata": {
  "application/vnd.databricks.v1+notebook": {
   "computePreferences": null,
   "dashboards": [],
   "environmentMetadata": {
    "base_environment": "",
    "environment_version": "2"
   },
   "inputWidgetPreferences": null,
   "language": "python",
   "notebookMetadata": {
    "pythonIndentUnit": 4
   },
   "notebookName": "Db_parquet_Ass",
   "widgets": {}
  },
  "language_info": {
   "name": "python"
  }
 },
 "nbformat": 4,
 "nbformat_minor": 0
}