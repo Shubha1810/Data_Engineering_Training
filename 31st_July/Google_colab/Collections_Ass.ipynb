{
  "nbformat": 4,
  "nbformat_minor": 0,
  "metadata": {
    "colab": {
      "provenance": []
    },
    "kernelspec": {
      "name": "python3",
      "display_name": "Python 3"
    },
    "language_info": {
      "name": "python"
    }
  },
  "cells": [
    {
      "cell_type": "markdown",
      "source": [
        "# Section 1: Nested Lists & Access\n",
        "Tasks:\n",
        "1. Print Ravi’s second mark.\n",
        "2. Calculate average mark for each student.\n",
        "3. Print the name of students who scored above 80 in all subjects.\n",
        "4. Create a new list of [name, average] ."
      ],
      "metadata": {
        "id": "0MmlDgB1Hi-7"
      }
    },
    {
      "cell_type": "code",
      "execution_count": 1,
      "metadata": {
        "colab": {
          "base_uri": "https://localhost:8080/"
        },
        "id": "e3DOyIJSHP1D",
        "outputId": "6413903d-c8a7-4f20-9ffd-abc0085633a6"
      },
      "outputs": [
        {
          "output_type": "stream",
          "name": "stdout",
          "text": [
            "Ravi's second mark: 72\n",
            "Ravi: 82.33\n",
            "Sneha: 91.67\n",
            "Kabir: 65.00\n",
            "Anita: 77.67\n",
            "Above 80 in all subjects:\n",
            "Sneha\n",
            "List of [name, average]: [['Ravi', 82.33333333333333], ['Sneha', 91.66666666666667], ['Kabir', 65.0], ['Anita', 77.66666666666667]]\n"
          ]
        }
      ],
      "source": [
        "# Given Data\n",
        "students = [\n",
        "    [\"Ravi\", [85, 72, 90]],\n",
        "    [\"Sneha\", [95, 88, 92]],\n",
        "    [\"Kabir\", [65, 70, 60]],\n",
        "    [\"Anita\", [75, 80, 78]]\n",
        "]\n",
        "\n",
        "# 1. Ravi’s second mark\n",
        "print(\"Ravi's second mark:\", students[0][1][1])\n",
        "\n",
        "# 2. Average mark for each student\n",
        "for name, marks in students:\n",
        "    avg = sum(marks) / len(marks)\n",
        "    print(f\"{name}: {avg:.2f}\")\n",
        "\n",
        "# 3. Students with >80 in all subjects\n",
        "print(\"Above 80 in all subjects:\")\n",
        "for name, marks in students:\n",
        "    if all(m > 80 for m in marks):\n",
        "        print(name)\n",
        "\n",
        "# 4. New list [name, average]\n",
        "avg_list = [[name, sum(marks) / len(marks)] for name, marks in students]\n",
        "print(\"List of [name, average]:\", avg_list)\n"
      ]
    },
    {
      "cell_type": "markdown",
      "source": [
        "# Section 2: Dictionary of Lists\n",
        "\n",
        "Tasks:\n",
        "1. Create a list of dictionaries for each product:\n",
        "\n",
        "  Example:\n",
        "  {'name': 'Mobile', 'price': 12000, 'rating': 4.5}\n",
        "2. Filter and print products with price > 20,000 and rating >= 4.5\n",
        "\n",
        "3. Sort the product list by rating (descending)"
      ],
      "metadata": {
        "id": "Uw2ZE9i3H59z"
      }
    },
    {
      "cell_type": "code",
      "source": [
        "# Given\n",
        "data = {\n",
        "    \"products\": [\"Mobile\", \"Laptop\", \"Tablet\", \"Camera\"],\n",
        "    \"prices\": [12000, 55000, 18000, 25000],\n",
        "    \"ratings\": [4.5, 4.7, 4.0, 4.2]\n",
        "}\n",
        "\n",
        "# 1. List of dictionaries\n",
        "product_list = [\n",
        "    {\"name\": n, \"price\": p, \"rating\": r}\n",
        "    for n, p, r in zip(data[\"products\"], data[\"prices\"], data[\"ratings\"])\n",
        "]\n",
        "print(\"Product list:\\n\", product_list)\n",
        "\n",
        "# 2. Filter: price > 20000 & rating >= 4.5\n",
        "filtered_products = [p for p in product_list if p[\"price\"] > 20000 and p[\"rating\"] >= 4.5]\n",
        "print(\"Filtered products:\\n\", filtered_products)\n",
        "\n",
        "# 3. Sort by rating (desc)\n",
        "sorted_products = sorted(product_list, key=lambda x: x[\"rating\"], reverse=True)\n",
        "print(\"Sorted by rating:\\n\", sorted_products)\n"
      ],
      "metadata": {
        "colab": {
          "base_uri": "https://localhost:8080/"
        },
        "id": "Ava8tWEHH74f",
        "outputId": "fb9002f4-b763-4947-bee8-e211658faaf5"
      },
      "execution_count": 3,
      "outputs": [
        {
          "output_type": "stream",
          "name": "stdout",
          "text": [
            "Product list:\n",
            " [{'name': 'Mobile', 'price': 12000, 'rating': 4.5}, {'name': 'Laptop', 'price': 55000, 'rating': 4.7}, {'name': 'Tablet', 'price': 18000, 'rating': 4.0}, {'name': 'Camera', 'price': 25000, 'rating': 4.2}]\n",
            "Filtered products:\n",
            " [{'name': 'Laptop', 'price': 55000, 'rating': 4.7}]\n",
            "Sorted by rating:\n",
            " [{'name': 'Laptop', 'price': 55000, 'rating': 4.7}, {'name': 'Mobile', 'price': 12000, 'rating': 4.5}, {'name': 'Camera', 'price': 25000, 'rating': 4.2}, {'name': 'Tablet', 'price': 18000, 'rating': 4.0}]\n"
          ]
        }
      ]
    },
    {
      "cell_type": "markdown",
      "source": [
        "# Section 3: Frequency Dictionary + Set Operations\n",
        "Tasks:\n",
        "1. Count frequency of each word using a dictionary\n",
        "\n",
        "2. Print only the words that appear more than once\n",
        "3. Convert words into a set and print sorted unique words\n",
        "4. Find common words between:\n",
        "set1 = set(text.split())\n",
        "set2 = {\"ai\", \"ml\", \"data\", \"future\"}"
      ],
      "metadata": {
        "id": "H7PvJVyfIRqe"
      }
    },
    {
      "cell_type": "code",
      "source": [
        "# Given\n",
        "text = \"ai is the future and ai will change everything in the ai world\"\n",
        "\n",
        "# 1. Frequency dictionary\n",
        "words = text.split()\n",
        "freq = {}\n",
        "for w in words:\n",
        "    freq[w] = freq.get(w, 0) + 1\n",
        "print(\"Word frequency:\", freq)\n",
        "\n",
        "# 2. Words with freq > 1\n",
        "repeated_words = [w for w, c in freq.items() if c > 1]\n",
        "print(\"Repeated words:\", repeated_words)\n",
        "\n",
        "# 3. Sorted unique words\n",
        "unique_words = sorted(set(words))\n",
        "print(\"Unique sorted words:\", unique_words)\n",
        "\n",
        "# 4. Common words between sets\n",
        "set1 = set(words)\n",
        "set2 = {\"ai\", \"ml\", \"data\", \"future\"}\n",
        "common = set1 & set2\n",
        "print(\"Common words:\", common)\n"
      ],
      "metadata": {
        "colab": {
          "base_uri": "https://localhost:8080/"
        },
        "id": "vnl54GhyIV2N",
        "outputId": "ae522160-25af-4aa7-d26a-9af6e3840c99"
      },
      "execution_count": 4,
      "outputs": [
        {
          "output_type": "stream",
          "name": "stdout",
          "text": [
            "Word frequency: {'ai': 3, 'is': 1, 'the': 2, 'future': 1, 'and': 1, 'will': 1, 'change': 1, 'everything': 1, 'in': 1, 'world': 1}\n",
            "Repeated words: ['ai', 'the']\n",
            "Unique sorted words: ['ai', 'and', 'change', 'everything', 'future', 'in', 'is', 'the', 'will', 'world']\n",
            "Common words: {'ai', 'future'}\n"
          ]
        }
      ]
    },
    {
      "cell_type": "markdown",
      "source": [
        "# Section 4: Dictionary Comprehension + Conditional Logic\n",
        "Tasks:\n",
        "1. Create a new dictionary with 10% bonus added to each sale\n",
        "2. Filter and return only those with sales >50,000\n",
        "3. Label each person as 'High' , 'Medium' , or 'Low' based on:\n",
        "  75,000: High\n",
        "  40,000: Medium\n",
        "  Else: Low"
      ],
      "metadata": {
        "id": "bgEUn1HRIg6f"
      }
    },
    {
      "cell_type": "code",
      "source": [
        "# Given\n",
        "sales = {\n",
        "    'Amit': 70000,\n",
        "    'Sneha': 45000,\n",
        "    'Ravi': 30000,\n",
        "    'Anita': 90000,\n",
        "    'Kabir': 20000\n",
        "}\n",
        "\n",
        "# 1. Add 10% bonus\n",
        "bonus_sales = {name: amt * 1.10 for name, amt in sales.items()}\n",
        "print(\"With bonus:\", bonus_sales)\n",
        "\n",
        "# 2. Filter sales > 50,000\n",
        "high_sales = {name: amt for name, amt in sales.items() if amt > 50000}\n",
        "print(\"Sales > 50K:\", high_sales)\n",
        "\n",
        "# 3. Label High / Medium / Low\n",
        "labels = {}\n",
        "for name, amt in sales.items():\n",
        "    if amt >= 75000:\n",
        "        labels[name] = \"High\"\n",
        "    elif amt >= 40000:\n",
        "        labels[name] = \"Medium\"\n",
        "    else:\n",
        "        labels[name] = \"Low\"\n",
        "print(\"Labels:\", labels)\n"
      ],
      "metadata": {
        "colab": {
          "base_uri": "https://localhost:8080/"
        },
        "id": "6Lt7-qniIvJC",
        "outputId": "20895638-60c8-4037-c234-064e479d4c39"
      },
      "execution_count": 5,
      "outputs": [
        {
          "output_type": "stream",
          "name": "stdout",
          "text": [
            "With bonus: {'Amit': 77000.0, 'Sneha': 49500.00000000001, 'Ravi': 33000.0, 'Anita': 99000.00000000001, 'Kabir': 22000.0}\n",
            "Sales > 50K: {'Amit': 70000, 'Anita': 90000}\n",
            "Labels: {'Amit': 'Medium', 'Sneha': 'Medium', 'Ravi': 'Low', 'Anita': 'High', 'Kabir': 'Low'}\n"
          ]
        }
      ]
    },
    {
      "cell_type": "markdown",
      "source": [
        "# Section 5: Tuples, Sets, and Zipping\n",
        "Tasks:\n",
        "1. Convert both tuples to a dictionary using zip()\n",
        "2. Find min and max marks\n",
        "3. Create a set from marks and add a new value\n",
        "4. Merge two sets and show only unique elements"
      ],
      "metadata": {
        "id": "WGWZRYU0I4Av"
      }
    },
    {
      "cell_type": "code",
      "source": [
        "# Given\n",
        "names = (\"Ravi\", \"Sneha\", \"Kabir\")\n",
        "marks = (88, 92, 76)\n",
        "\n",
        "# 1. Zip to dictionary\n",
        "marks_dict = dict(zip(names, marks))\n",
        "print(\"Marks dict:\", marks_dict)\n",
        "\n",
        "# 2. Min & Max marks\n",
        "print(\"Min mark:\", min(marks))\n",
        "print(\"Max mark:\", max(marks))\n",
        "\n",
        "# 3. Create set & add new value\n",
        "marks_set = set(marks)\n",
        "marks_set.add(95)\n",
        "print(\"Marks set:\", marks_set)\n",
        "\n",
        "# 4. Merge sets\n",
        "set_a = {88, 92, 76}\n",
        "set_b = {90, 76, 95}\n",
        "merged = set_a | set_b\n",
        "print(\"Merged unique elements:\", merged)\n"
      ],
      "metadata": {
        "colab": {
          "base_uri": "https://localhost:8080/"
        },
        "id": "idtmOcreI75W",
        "outputId": "cc4d024c-37f2-4b07-b023-090e99febb38"
      },
      "execution_count": 6,
      "outputs": [
        {
          "output_type": "stream",
          "name": "stdout",
          "text": [
            "Marks dict: {'Ravi': 88, 'Sneha': 92, 'Kabir': 76}\n",
            "Min mark: 76\n",
            "Max mark: 92\n",
            "Marks set: {88, 92, 95, 76}\n",
            "Merged unique elements: {88, 90, 92, 95, 76}\n"
          ]
        }
      ]
    },
    {
      "cell_type": "markdown",
      "source": [
        "# Bonus Challenge\n",
        "Tasks:\n",
        "1. Add a new employee \"E104\"\n",
        "2. Increase salary by 10% for Engineering department only\n",
        "3. Find the department with the highest average salary"
      ],
      "metadata": {
        "id": "aQqO4cANJGkt"
      }
    },
    {
      "cell_type": "code",
      "source": [
        "# Given\n",
        "employees = {\n",
        "    \"E101\": {\"name\": \"Ravi\", \"dept\": \"Sales\", \"salary\": 50000},\n",
        "    \"E102\": {\"name\": \"Sneha\", \"dept\": \"Engineering\", \"salary\": 80000},\n",
        "    \"E103\": {\"name\": \"Kabir\", \"dept\": \"HR\", \"salary\": 45000}\n",
        "}\n",
        "\n",
        "# 1. Add new employee\n",
        "employees[\"E104\"] = {\"name\": \"Anita\", \"dept\": \"Engineering\", \"salary\": 85000}\n",
        "\n",
        "# 2. Increase salary by 10% for Engineering\n",
        "for emp in employees.values():\n",
        "    if emp[\"dept\"] == \"Engineering\":\n",
        "        emp[\"salary\"] *= 1.10\n",
        "\n",
        "# 3. Find dept with highest avg salary\n",
        "dept_salaries = {}\n",
        "for emp in employees.values():\n",
        "    dept_salaries.setdefault(emp[\"dept\"], []).append(emp[\"salary\"])\n",
        "\n",
        "avg_dept_salary = {dept: sum(sals) / len(sals) for dept, sals in dept_salaries.items()}\n",
        "highest_dept = max(avg_dept_salary, key=avg_dept_salary.get)\n",
        "\n",
        "print(\"Updated Employees:\", employees)\n",
        "print(\"Average Salaries:\", avg_dept_salary)\n",
        "print(\"Department with highest average salary:\", highest_dept)\n"
      ],
      "metadata": {
        "colab": {
          "base_uri": "https://localhost:8080/"
        },
        "id": "mU1ACvJNJJ0g",
        "outputId": "6a845bae-932c-4564-d71d-ed733fa52ef3"
      },
      "execution_count": 7,
      "outputs": [
        {
          "output_type": "stream",
          "name": "stdout",
          "text": [
            "Updated Employees: {'E101': {'name': 'Ravi', 'dept': 'Sales', 'salary': 50000}, 'E102': {'name': 'Sneha', 'dept': 'Engineering', 'salary': 88000.0}, 'E103': {'name': 'Kabir', 'dept': 'HR', 'salary': 45000}, 'E104': {'name': 'Anita', 'dept': 'Engineering', 'salary': 93500.00000000001}}\n",
            "Average Salaries: {'Sales': 50000.0, 'Engineering': 90750.0, 'HR': 45000.0}\n",
            "Department with highest average salary: Engineering\n"
          ]
        }
      ]
    }
  ]
}