{
  "nbformat": 4,
  "nbformat_minor": 0,
  "metadata": {
    "colab": {
      "provenance": []
    },
    "kernelspec": {
      "name": "python3",
      "display_name": "Python 3"
    },
    "language_info": {
      "name": "python"
    }
  },
  "cells": [
    {
      "cell_type": "markdown",
      "source": [
        "# Step 1: Sample Dataset (create CSV)"
      ],
      "metadata": {
        "id": "W2TCIyBYuxoQ"
      }
    },
    {
      "cell_type": "code",
      "execution_count": 1,
      "metadata": {
        "id": "0UimR77Xui5g"
      },
      "outputs": [],
      "source": [
        "superstore_data = \"\"\"OrderID,OrderDate,Customer,Segment,Region,Product,Category,SubCategory,Quantity,UnitPrice,Discount,Profit\n",
        "CA-1001,2023-01-15,Ravi,Consumer,South,Laptop,Technology,Computers,1,55000,0.10,5000\n",
        "CA-1002,2023-02-20,Priya,Corporate,North,Printer,Technology,Peripherals,2,12000,0.15,1800\n",
        "CA-1003,2023-01-25,Amit,Consumer,East,Notebook,Office Supplies,Paper,3,200,0.05,150\n",
        "CA-1004,2023-03-01,Anita,Home Office,West,Table,Furniture,Tables,1,18000,0.20,-1500\n",
        "CA-1005,2023-02-05,Divya,Consumer,South,Phone,Technology,Phones,2,20000,0.00,3000\n",
        "\"\"\"\n",
        "\n",
        "with open(\"superstore.csv\", \"w\") as f:\n",
        "    f.write(superstore_data)\n"
      ]
    },
    {
      "cell_type": "markdown",
      "source": [
        "# PART 1: Pandas DataFrame Operations\n",
        "1. Load the CSV using pandas ."
      ],
      "metadata": {
        "id": "eSFscwtyu7bO"
      }
    },
    {
      "cell_type": "code",
      "source": [
        "import pandas as pd\n",
        "\n",
        "df = pd.read_csv(\"superstore.csv\")"
      ],
      "metadata": {
        "id": "8mLB_4iSu-Ii"
      },
      "execution_count": 2,
      "outputs": []
    },
    {
      "cell_type": "markdown",
      "source": [
        "2. Print schema, head, shape, dtypes."
      ],
      "metadata": {
        "id": "kwHECEGKvC7Y"
      }
    },
    {
      "cell_type": "code",
      "source": [
        "print(df.head())\n",
        "print(df.shape)\n",
        "print(df.dtypes)"
      ],
      "metadata": {
        "colab": {
          "base_uri": "https://localhost:8080/"
        },
        "id": "sPMDyk06vGRL",
        "outputId": "d45c0176-d55c-43b9-8572-647924b09f84"
      },
      "execution_count": 3,
      "outputs": [
        {
          "output_type": "stream",
          "name": "stdout",
          "text": [
            "   OrderID   OrderDate Customer      Segment Region   Product  \\\n",
            "0  CA-1001  2023-01-15     Ravi     Consumer  South    Laptop   \n",
            "1  CA-1002  2023-02-20    Priya    Corporate  North   Printer   \n",
            "2  CA-1003  2023-01-25     Amit     Consumer   East  Notebook   \n",
            "3  CA-1004  2023-03-01    Anita  Home Office   West     Table   \n",
            "4  CA-1005  2023-02-05    Divya     Consumer  South     Phone   \n",
            "\n",
            "          Category  SubCategory  Quantity  UnitPrice  Discount  Profit  \n",
            "0       Technology    Computers         1      55000      0.10    5000  \n",
            "1       Technology  Peripherals         2      12000      0.15    1800  \n",
            "2  Office Supplies        Paper         3        200      0.05     150  \n",
            "3        Furniture       Tables         1      18000      0.20   -1500  \n",
            "4       Technology       Phones         2      20000      0.00    3000  \n",
            "(5, 12)\n",
            "OrderID         object\n",
            "OrderDate       object\n",
            "Customer        object\n",
            "Segment         object\n",
            "Region          object\n",
            "Product         object\n",
            "Category        object\n",
            "SubCategory     object\n",
            "Quantity         int64\n",
            "UnitPrice        int64\n",
            "Discount       float64\n",
            "Profit           int64\n",
            "dtype: object\n"
          ]
        }
      ]
    },
    {
      "cell_type": "markdown",
      "source": [
        "3. Select Customer , Product , Profit columns."
      ],
      "metadata": {
        "id": "gkmptlBNvK6c"
      }
    },
    {
      "cell_type": "code",
      "source": [
        "print(df[['Customer', 'Product', 'Profit']])"
      ],
      "metadata": {
        "colab": {
          "base_uri": "https://localhost:8080/"
        },
        "id": "5cweJvjlvN7m",
        "outputId": "bd810d90-118c-41e7-c8c3-a9b22bfcc729"
      },
      "execution_count": 4,
      "outputs": [
        {
          "output_type": "stream",
          "name": "stdout",
          "text": [
            "  Customer   Product  Profit\n",
            "0     Ravi    Laptop    5000\n",
            "1    Priya   Printer    1800\n",
            "2     Amit  Notebook     150\n",
            "3    Anita     Table   -1500\n",
            "4    Divya     Phone    3000\n"
          ]
        }
      ]
    },
    {
      "cell_type": "markdown",
      "source": [
        "4. Filter orders where Profit > 2000 and Discount = 0 ."
      ],
      "metadata": {
        "id": "dkbqW9XxvSPO"
      }
    },
    {
      "cell_type": "code",
      "source": [
        "filtered = df[(df['Profit'] > 2000) & (df['Discount'] == 0.0)]\n",
        "print(filtered)"
      ],
      "metadata": {
        "colab": {
          "base_uri": "https://localhost:8080/"
        },
        "id": "v-rTt1PivU3M",
        "outputId": "2ea7f56d-f6dd-4c64-c9c1-6b947b5889b6"
      },
      "execution_count": 5,
      "outputs": [
        {
          "output_type": "stream",
          "name": "stdout",
          "text": [
            "   OrderID   OrderDate Customer   Segment Region Product    Category  \\\n",
            "4  CA-1005  2023-02-05    Divya  Consumer  South   Phone  Technology   \n",
            "\n",
            "  SubCategory  Quantity  UnitPrice  Discount  Profit  \n",
            "4      Phones         2      20000       0.0    3000  \n"
          ]
        }
      ]
    },
    {
      "cell_type": "markdown",
      "source": [
        "5. Sort by Profit descending."
      ],
      "metadata": {
        "id": "S43tsntQvaea"
      }
    },
    {
      "cell_type": "code",
      "source": [
        "print(df.sort_values(by='Profit', ascending=False))"
      ],
      "metadata": {
        "colab": {
          "base_uri": "https://localhost:8080/"
        },
        "id": "ilqyCMUCvdk2",
        "outputId": "d56ae289-f996-49b0-db16-d223886b9cd2"
      },
      "execution_count": 6,
      "outputs": [
        {
          "output_type": "stream",
          "name": "stdout",
          "text": [
            "   OrderID   OrderDate Customer      Segment Region   Product  \\\n",
            "0  CA-1001  2023-01-15     Ravi     Consumer  South    Laptop   \n",
            "4  CA-1005  2023-02-05    Divya     Consumer  South     Phone   \n",
            "1  CA-1002  2023-02-20    Priya    Corporate  North   Printer   \n",
            "2  CA-1003  2023-01-25     Amit     Consumer   East  Notebook   \n",
            "3  CA-1004  2023-03-01    Anita  Home Office   West     Table   \n",
            "\n",
            "          Category  SubCategory  Quantity  UnitPrice  Discount  Profit  \n",
            "0       Technology    Computers         1      55000      0.10    5000  \n",
            "4       Technology       Phones         2      20000      0.00    3000  \n",
            "1       Technology  Peripherals         2      12000      0.15    1800  \n",
            "2  Office Supplies        Paper         3        200      0.05     150  \n",
            "3        Furniture       Tables         1      18000      0.20   -1500  \n"
          ]
        }
      ]
    },
    {
      "cell_type": "markdown",
      "source": [
        "6. GroupBy Category → Total Profit, Avg Discount."
      ],
      "metadata": {
        "id": "tu4F8QOmvhSE"
      }
    },
    {
      "cell_type": "code",
      "source": [
        "print(df.groupby('Category')[['Profit', 'Discount']].agg({'Profit': 'sum', 'Discount': 'mean'}))"
      ],
      "metadata": {
        "colab": {
          "base_uri": "https://localhost:8080/"
        },
        "id": "SIylqJi2vlPH",
        "outputId": "790c7308-961f-40f5-91a9-45246a61d494"
      },
      "execution_count": 7,
      "outputs": [
        {
          "output_type": "stream",
          "name": "stdout",
          "text": [
            "                 Profit  Discount\n",
            "Category                         \n",
            "Furniture         -1500  0.200000\n",
            "Office Supplies     150  0.050000\n",
            "Technology         9800  0.083333\n"
          ]
        }
      ]
    },
    {
      "cell_type": "markdown",
      "source": [
        "7. Add a column TotalPrice = Quantity * UnitPrice ."
      ],
      "metadata": {
        "id": "EanGrfh5vqT1"
      }
    },
    {
      "cell_type": "code",
      "source": [
        "df['TotalPrice'] = df['Quantity'] * df['UnitPrice']\n",
        "print(df[['OrderID', 'TotalPrice']])"
      ],
      "metadata": {
        "colab": {
          "base_uri": "https://localhost:8080/"
        },
        "id": "WVhQhsklvtS1",
        "outputId": "43d4a86f-3c92-4075-b993-411e2c2bcb62"
      },
      "execution_count": 8,
      "outputs": [
        {
          "output_type": "stream",
          "name": "stdout",
          "text": [
            "   OrderID  TotalPrice\n",
            "0  CA-1001       55000\n",
            "1  CA-1002       24000\n",
            "2  CA-1003         600\n",
            "3  CA-1004       18000\n",
            "4  CA-1005       40000\n"
          ]
        }
      ]
    },
    {
      "cell_type": "markdown",
      "source": [
        "8. Drop the SubCategory column."
      ],
      "metadata": {
        "id": "OC-vMWhzvxUg"
      }
    },
    {
      "cell_type": "code",
      "source": [
        "df.drop('SubCategory', axis=1, inplace=True)"
      ],
      "metadata": {
        "id": "HDLTBLQpvz5T"
      },
      "execution_count": 9,
      "outputs": []
    },
    {
      "cell_type": "markdown",
      "source": [
        "9. Fill nulls in Discount with 0.10."
      ],
      "metadata": {
        "id": "P5fWXsxPv3md"
      }
    },
    {
      "cell_type": "code",
      "source": [
        "df['Discount'] = df['Discount'].fillna(0.10)\n"
      ],
      "metadata": {
        "id": "oiNQtj07v5zD"
      },
      "execution_count": 11,
      "outputs": []
    },
    {
      "cell_type": "markdown",
      "source": [
        "10. Apply a function to categorize orders:"
      ],
      "metadata": {
        "id": "GmCMQnxKwCSe"
      }
    },
    {
      "cell_type": "code",
      "source": [
        "def classify(row):\n",
        "    if row['Profit'] > 4000:\n",
        "        return 'High'\n",
        "    elif row['Profit'] > 0:\n",
        "        return 'Medium'\n",
        "    else:\n",
        "        return 'Low'\n",
        "\n",
        "df['ProfitCategory'] = df.apply(classify, axis=1)\n",
        "print(df[['OrderID', 'ProfitCategory']])"
      ],
      "metadata": {
        "colab": {
          "base_uri": "https://localhost:8080/"
        },
        "id": "TTBUjYtYwFsM",
        "outputId": "8064f767-f154-4b90-8470-c6aae52f42f0"
      },
      "execution_count": 12,
      "outputs": [
        {
          "output_type": "stream",
          "name": "stdout",
          "text": [
            "   OrderID ProfitCategory\n",
            "0  CA-1001           High\n",
            "1  CA-1002         Medium\n",
            "2  CA-1003         Medium\n",
            "3  CA-1004            Low\n",
            "4  CA-1005         Medium\n"
          ]
        }
      ]
    },
    {
      "cell_type": "markdown",
      "source": [
        "#PART 2: PySpark DataFrame Operations\n",
        "1. Load the same CSV using PySpark."
      ],
      "metadata": {
        "id": "TmZ2qljkwI8y"
      }
    },
    {
      "cell_type": "code",
      "source": [
        "from pyspark.sql import SparkSession\n",
        "# Create Spark session\n",
        "\n",
        "spark = SparkSession.builder \\\n",
        ".appName(\"PySparkBasics1\") \\\n",
        ".getOrCreate()\n",
        "\n",
        "# Confirm Spark is running\n",
        "\n",
        "spark"
      ],
      "metadata": {
        "colab": {
          "base_uri": "https://localhost:8080/",
          "height": 219
        },
        "id": "nyzGgB3lwPkO",
        "outputId": "2117a622-d229-4c6f-dbf8-1984ccca4400"
      },
      "execution_count": 13,
      "outputs": [
        {
          "output_type": "execute_result",
          "data": {
            "text/plain": [
              "<pyspark.sql.session.SparkSession at 0x792e2f5f0350>"
            ],
            "text/html": [
              "\n",
              "            <div>\n",
              "                <p><b>SparkSession - in-memory</b></p>\n",
              "                \n",
              "        <div>\n",
              "            <p><b>SparkContext</b></p>\n",
              "\n",
              "            <p><a href=\"http://a683afce60c5:4040\">Spark UI</a></p>\n",
              "\n",
              "            <dl>\n",
              "              <dt>Version</dt>\n",
              "                <dd><code>v3.5.1</code></dd>\n",
              "              <dt>Master</dt>\n",
              "                <dd><code>local[*]</code></dd>\n",
              "              <dt>AppName</dt>\n",
              "                <dd><code>PySparkBasics1</code></dd>\n",
              "            </dl>\n",
              "        </div>\n",
              "        \n",
              "            </div>\n",
              "        "
            ]
          },
          "metadata": {},
          "execution_count": 13
        }
      ]
    },
    {
      "cell_type": "code",
      "source": [
        "superstore_data = \"\"\"OrderID,OrderDate,Customer,Segment,Region,Product,Category,SubCategory,Quantity,UnitPrice,Discount,Profit\n",
        "CA-1001,2023-01-15,Ravi,Consumer,South,Laptop,Technology,Computers,1,55000,0.10,5000\n",
        "CA-1002,2023-02-20,Priya,Corporate,North,Printer,Technology,Peripherals,2,12000,0.15,1800\n",
        "CA-1003,2023-01-25,Amit,Consumer,East,Notebook,Office Supplies,Paper,3,200,0.05,150\n",
        "CA-1004,2023-03-01,Anita,Home Office,West,Table,Furniture,Tables,1,18000,0.20,-1500\n",
        "CA-1005,2023-02-05,Divya,Consumer,South,Phone,Technology,Phones,2,20000,0.00,3000\n",
        "\"\"\"\n",
        "\n",
        "with open(\"superstore.csv\", \"w\") as f:\n",
        "    f.write(superstore_data)\n"
      ],
      "metadata": {
        "id": "SuzvHrLqwhGN"
      },
      "execution_count": 14,
      "outputs": []
    },
    {
      "cell_type": "markdown",
      "source": [
        "2. Show schema and first 5 rows."
      ],
      "metadata": {
        "id": "IKYRLtWbwkkA"
      }
    },
    {
      "cell_type": "code",
      "source": [
        "df_spark = spark.read.csv(\"superstore.csv\", header=True, inferSchema=True)\n",
        "df_spark.printSchema()\n",
        "df_spark.show(5)\n"
      ],
      "metadata": {
        "colab": {
          "base_uri": "https://localhost:8080/"
        },
        "id": "-tUZ_O_1wlbl",
        "outputId": "37e63877-810f-4c68-aa88-2ba783175a17"
      },
      "execution_count": 15,
      "outputs": [
        {
          "output_type": "stream",
          "name": "stdout",
          "text": [
            "root\n",
            " |-- OrderID: string (nullable = true)\n",
            " |-- OrderDate: date (nullable = true)\n",
            " |-- Customer: string (nullable = true)\n",
            " |-- Segment: string (nullable = true)\n",
            " |-- Region: string (nullable = true)\n",
            " |-- Product: string (nullable = true)\n",
            " |-- Category: string (nullable = true)\n",
            " |-- SubCategory: string (nullable = true)\n",
            " |-- Quantity: integer (nullable = true)\n",
            " |-- UnitPrice: integer (nullable = true)\n",
            " |-- Discount: double (nullable = true)\n",
            " |-- Profit: integer (nullable = true)\n",
            "\n",
            "+-------+----------+--------+-----------+------+--------+---------------+-----------+--------+---------+--------+------+\n",
            "|OrderID| OrderDate|Customer|    Segment|Region| Product|       Category|SubCategory|Quantity|UnitPrice|Discount|Profit|\n",
            "+-------+----------+--------+-----------+------+--------+---------------+-----------+--------+---------+--------+------+\n",
            "|CA-1001|2023-01-15|    Ravi|   Consumer| South|  Laptop|     Technology|  Computers|       1|    55000|     0.1|  5000|\n",
            "|CA-1002|2023-02-20|   Priya|  Corporate| North| Printer|     Technology|Peripherals|       2|    12000|    0.15|  1800|\n",
            "|CA-1003|2023-01-25|    Amit|   Consumer|  East|Notebook|Office Supplies|      Paper|       3|      200|    0.05|   150|\n",
            "|CA-1004|2023-03-01|   Anita|Home Office|  West|   Table|      Furniture|     Tables|       1|    18000|     0.2| -1500|\n",
            "|CA-1005|2023-02-05|   Divya|   Consumer| South|   Phone|     Technology|     Phones|       2|    20000|     0.0|  3000|\n",
            "+-------+----------+--------+-----------+------+--------+---------------+-----------+--------+---------+--------+------+\n",
            "\n"
          ]
        }
      ]
    },
    {
      "cell_type": "markdown",
      "source": [
        "3. Select columns, Rename Customer → Client ."
      ],
      "metadata": {
        "id": "IaKINLSd0R5h"
      }
    },
    {
      "cell_type": "code",
      "source": [
        "\n",
        "from pyspark.sql.functions import col, when, year, month\n",
        "df_spark.select(col(\"Customer\").alias(\"Client\"), \"Product\", \"Profit\").show()"
      ],
      "metadata": {
        "colab": {
          "base_uri": "https://localhost:8080/"
        },
        "id": "yE6l-Hdw0Sra",
        "outputId": "cd96974d-9299-47e2-9543-9f8523cdc3be"
      },
      "execution_count": 19,
      "outputs": [
        {
          "output_type": "stream",
          "name": "stdout",
          "text": [
            "+------+--------+------+\n",
            "|Client| Product|Profit|\n",
            "+------+--------+------+\n",
            "|  Ravi|  Laptop|  5000|\n",
            "| Priya| Printer|  1800|\n",
            "|  Amit|Notebook|   150|\n",
            "| Anita|   Table| -1500|\n",
            "| Divya|   Phone|  3000|\n",
            "+------+--------+------+\n",
            "\n"
          ]
        }
      ]
    },
    {
      "cell_type": "markdown",
      "source": [
        "4. Filter Segment = 'Consumer' and Profit < 1000 ."
      ],
      "metadata": {
        "id": "qyRc0Xs00mq-"
      }
    },
    {
      "cell_type": "code",
      "source": [
        "df_spark.filter((col(\"Segment\") == \"Consumer\") & (col(\"Profit\") < 1000)).show()\n"
      ],
      "metadata": {
        "colab": {
          "base_uri": "https://localhost:8080/"
        },
        "id": "00lqvEV_0dCr",
        "outputId": "92c7a6c1-7405-4aac-c462-d0e2265a6c56"
      },
      "execution_count": 20,
      "outputs": [
        {
          "output_type": "stream",
          "name": "stdout",
          "text": [
            "+-------+----------+--------+--------+------+--------+---------------+-----------+--------+---------+--------+------+\n",
            "|OrderID| OrderDate|Customer| Segment|Region| Product|       Category|SubCategory|Quantity|UnitPrice|Discount|Profit|\n",
            "+-------+----------+--------+--------+------+--------+---------------+-----------+--------+---------+--------+------+\n",
            "|CA-1003|2023-01-25|    Amit|Consumer|  East|Notebook|Office Supplies|      Paper|       3|      200|    0.05|   150|\n",
            "+-------+----------+--------+--------+------+--------+---------------+-----------+--------+---------+--------+------+\n",
            "\n"
          ]
        }
      ]
    },
    {
      "cell_type": "markdown",
      "source": [
        "5. GroupBy Region and show average profit."
      ],
      "metadata": {
        "id": "Th-QRvOM1AoK"
      }
    },
    {
      "cell_type": "code",
      "source": [
        "df_spark.groupBy(\"Region\").avg(\"Profit\").withColumnRenamed(\"avg(Profit)\", \"AvgProfit\").show()\n"
      ],
      "metadata": {
        "colab": {
          "base_uri": "https://localhost:8080/"
        },
        "id": "nq03Tsf41DrI",
        "outputId": "e4362f28-5b63-487c-b9d9-f657608b5ef5"
      },
      "execution_count": 21,
      "outputs": [
        {
          "output_type": "stream",
          "name": "stdout",
          "text": [
            "+------+---------+\n",
            "|Region|AvgProfit|\n",
            "+------+---------+\n",
            "| South|   4000.0|\n",
            "|  East|    150.0|\n",
            "|  West|  -1500.0|\n",
            "| North|   1800.0|\n",
            "+------+---------+\n",
            "\n"
          ]
        }
      ]
    },
    {
      "cell_type": "markdown",
      "source": [
        "6. Use withColumn to create TotalPrice = Quantity * UnitPrice ."
      ],
      "metadata": {
        "id": "9H3NwikS1IWn"
      }
    },
    {
      "cell_type": "code",
      "source": [
        "df_spark = df_spark.withColumn(\"TotalPrice\", col(\"Quantity\") * col(\"UnitPrice\"))\n"
      ],
      "metadata": {
        "id": "Uo8OWWLm1LKR"
      },
      "execution_count": 22,
      "outputs": []
    },
    {
      "cell_type": "markdown",
      "source": [
        "7. Use when().otherwise() to classify Profit as:"
      ],
      "metadata": {
        "id": "ZHKRay6m1N03"
      }
    },
    {
      "cell_type": "code",
      "source": [
        "df_spark = df_spark.withColumn(\"ProfitLevel\", when(col(\"Profit\") > 2000, \"High\")\n",
        "                                .when(col(\"Profit\") <= 0, \"Loss\")\n",
        "                                .otherwise(\"Medium\"))\n",
        "df_spark.select(\"OrderID\", \"Profit\", \"ProfitLevel\").show()\n"
      ],
      "metadata": {
        "colab": {
          "base_uri": "https://localhost:8080/"
        },
        "id": "YdW6ANXy1RbV",
        "outputId": "490c53fe-0c33-41ec-cb7a-2b124c9a9da1"
      },
      "execution_count": 23,
      "outputs": [
        {
          "output_type": "stream",
          "name": "stdout",
          "text": [
            "+-------+------+-----------+\n",
            "|OrderID|Profit|ProfitLevel|\n",
            "+-------+------+-----------+\n",
            "|CA-1001|  5000|       High|\n",
            "|CA-1002|  1800|     Medium|\n",
            "|CA-1003|   150|     Medium|\n",
            "|CA-1004| -1500|       Loss|\n",
            "|CA-1005|  3000|       High|\n",
            "+-------+------+-----------+\n",
            "\n"
          ]
        }
      ]
    },
    {
      "cell_type": "markdown",
      "source": [
        "8. Use drop() to remove SubCategory ."
      ],
      "metadata": {
        "id": "vmTl7lQ91Ut9"
      }
    },
    {
      "cell_type": "code",
      "source": [
        "df_spark = df_spark.drop(\"SubCategory\")\n"
      ],
      "metadata": {
        "id": "cbhi56kN1W1W"
      },
      "execution_count": 24,
      "outputs": []
    },
    {
      "cell_type": "markdown",
      "source": [
        "9. Handle nulls in Discount using fillna(0.10) ."
      ],
      "metadata": {
        "id": "cXLvX0xb1ZZE"
      }
    },
    {
      "cell_type": "code",
      "source": [
        "df_spark = df_spark.fillna({\"Discount\": 0.10})\n"
      ],
      "metadata": {
        "id": "Ci_JYi8K1bXv"
      },
      "execution_count": 25,
      "outputs": []
    },
    {
      "cell_type": "markdown",
      "source": [
        "10. Convert OrderDate to date type and extract year , month ."
      ],
      "metadata": {
        "id": "3hHTvpS51eC_"
      }
    },
    {
      "cell_type": "code",
      "source": [
        "from pyspark.sql.functions import to_date\n",
        "\n",
        "df_spark = df_spark.withColumn(\"OrderDate\", to_date(\"OrderDate\", \"yyyy-MM-dd\"))\n",
        "df_spark = df_spark.withColumn(\"OrderYear\", year(\"OrderDate\")).withColumn(\"OrderMonth\", month(\"OrderDate\"))\n",
        "df_spark.select(\"OrderDate\", \"OrderYear\", \"OrderMonth\").show()\n"
      ],
      "metadata": {
        "colab": {
          "base_uri": "https://localhost:8080/"
        },
        "id": "j8RyiaU11gZZ",
        "outputId": "4efc5b88-9c50-4184-e9f3-fb2021e70127"
      },
      "execution_count": 26,
      "outputs": [
        {
          "output_type": "stream",
          "name": "stdout",
          "text": [
            "+----------+---------+----------+\n",
            "| OrderDate|OrderYear|OrderMonth|\n",
            "+----------+---------+----------+\n",
            "|2023-01-15|     2023|         1|\n",
            "|2023-02-20|     2023|         2|\n",
            "|2023-01-25|     2023|         1|\n",
            "|2023-03-01|     2023|         3|\n",
            "|2023-02-05|     2023|         2|\n",
            "+----------+---------+----------+\n",
            "\n"
          ]
        }
      ]
    },
    {
      "cell_type": "markdown",
      "source": [
        "# PART 3: Dask DataFrame Operations (Pandas Alternative)\n",
        "1. Install Dask:"
      ],
      "metadata": {
        "id": "kcMxc6u_1meJ"
      }
    },
    {
      "cell_type": "code",
      "source": [
        "!pip install dask\n",
        "import dask.dataframe as dd"
      ],
      "metadata": {
        "colab": {
          "base_uri": "https://localhost:8080/"
        },
        "id": "jVMgYxcd1pDJ",
        "outputId": "01f4c75b-e993-49b7-ab48-548d056a6884"
      },
      "execution_count": 27,
      "outputs": [
        {
          "output_type": "stream",
          "name": "stdout",
          "text": [
            "Requirement already satisfied: dask in /usr/local/lib/python3.11/dist-packages (2025.5.0)\n",
            "Requirement already satisfied: click>=8.1 in /usr/local/lib/python3.11/dist-packages (from dask) (8.2.1)\n",
            "Requirement already satisfied: cloudpickle>=3.0.0 in /usr/local/lib/python3.11/dist-packages (from dask) (3.1.1)\n",
            "Requirement already satisfied: fsspec>=2021.09.0 in /usr/local/lib/python3.11/dist-packages (from dask) (2025.3.0)\n",
            "Requirement already satisfied: packaging>=20.0 in /usr/local/lib/python3.11/dist-packages (from dask) (25.0)\n",
            "Requirement already satisfied: partd>=1.4.0 in /usr/local/lib/python3.11/dist-packages (from dask) (1.4.2)\n",
            "Requirement already satisfied: pyyaml>=5.3.1 in /usr/local/lib/python3.11/dist-packages (from dask) (6.0.2)\n",
            "Requirement already satisfied: toolz>=0.10.0 in /usr/local/lib/python3.11/dist-packages (from dask) (0.12.1)\n",
            "Requirement already satisfied: importlib_metadata>=4.13.0 in /usr/local/lib/python3.11/dist-packages (from dask) (8.7.0)\n",
            "Requirement already satisfied: zipp>=3.20 in /usr/local/lib/python3.11/dist-packages (from importlib_metadata>=4.13.0->dask) (3.23.0)\n",
            "Requirement already satisfied: locket in /usr/local/lib/python3.11/dist-packages (from partd>=1.4.0->dask) (1.0.0)\n"
          ]
        }
      ]
    },
    {
      "cell_type": "markdown",
      "source": [
        "2. Load the same superstore.csv :"
      ],
      "metadata": {
        "id": "Dik76D381tlp"
      }
    },
    {
      "cell_type": "code",
      "source": [
        "df_dask = dd.read_csv(\"superstore.csv\")"
      ],
      "metadata": {
        "id": "w7T2bXNW1wDP"
      },
      "execution_count": 28,
      "outputs": []
    },
    {
      "cell_type": "markdown",
      "source": [
        "3. Do the following:\n",
        "\n",
        "Compute average discount by category.\n",
        "\n",
        "Filter orders with more than 1 quantity and high profit.\n",
        "\n",
        "Save filtered data to new CSV."
      ],
      "metadata": {
        "id": "RjuPp0i81z6z"
      }
    },
    {
      "cell_type": "code",
      "source": [
        "# 1. Avg Discount by Category\n",
        "print(df_dask.groupby(\"Category\")[\"Discount\"].mean().compute())\n",
        "\n",
        "# 2. Filter orders with quantity > 1 and profit > 1000\n",
        "filtered = df_dask[(df_dask[\"Quantity\"] > 1) & (df_dask[\"Profit\"] > 1000)]\n",
        "print(filtered.compute())\n",
        "\n",
        "# 3. Save to CSV\n",
        "filtered.to_csv(\"filtered_dask_orders.csv\", index=False, single_file=True)"
      ],
      "metadata": {
        "colab": {
          "base_uri": "https://localhost:8080/"
        },
        "id": "PeKPuJEs12QD",
        "outputId": "5f98d8b4-b252-4681-d996-321fc6e8c697"
      },
      "execution_count": 29,
      "outputs": [
        {
          "output_type": "stream",
          "name": "stdout",
          "text": [
            "Category\n",
            "Furniture          0.200000\n",
            "Office Supplies    0.050000\n",
            "Technology         0.083333\n",
            "Name: Discount, dtype: float64\n",
            "   OrderID   OrderDate Customer    Segment Region  Product    Category  \\\n",
            "1  CA-1002  2023-02-20    Priya  Corporate  North  Printer  Technology   \n",
            "4  CA-1005  2023-02-05    Divya   Consumer  South    Phone  Technology   \n",
            "\n",
            "   SubCategory  Quantity  UnitPrice  Discount  Profit  \n",
            "1  Peripherals         2      12000      0.15    1800  \n",
            "4       Phones         2      20000      0.00    3000  \n"
          ]
        },
        {
          "output_type": "execute_result",
          "data": {
            "text/plain": [
              "['/content/filtered_dask_orders.csv']"
            ]
          },
          "metadata": {},
          "execution_count": 29
        }
      ]
    },
    {
      "cell_type": "markdown",
      "source": [
        "# PART 4: JSON Handling (Complex Nested)\n",
        "1. Create a nested JSON file:"
      ],
      "metadata": {
        "id": "-7wXOTeI2IqH"
      }
    },
    {
      "cell_type": "code",
      "source": [
        "import json\n",
        "\n",
        "data_json = [\n",
        "    {\n",
        "        \"OrderID\": \"CA-1001\",\n",
        "        \"Customer\": {\"Name\": \"Ravi\", \"Segment\": \"Consumer\"},\n",
        "        \"Details\": {\"Region\": \"South\", \"Profit\": 5000}\n",
        "    },\n",
        "    {\n",
        "        \"OrderID\": \"CA-1002\",\n",
        "        \"Customer\": {\"Name\": \"Priya\", \"Segment\": \"Corporate\"},\n",
        "        \"Details\": {\"Region\": \"North\", \"Profit\": 1800}\n",
        "    }\n",
        "]\n",
        "\n",
        "with open(\"orders.json\", \"w\") as f:\n",
        "    json.dump(data_json, f, indent=2)\n"
      ],
      "metadata": {
        "id": "Am2uJwpe1_Nf"
      },
      "execution_count": 30,
      "outputs": []
    },
    {
      "cell_type": "markdown",
      "source": [
        "2. Load it using PySpark:"
      ],
      "metadata": {
        "id": "muo9tZVi2Qnj"
      }
    },
    {
      "cell_type": "code",
      "source": [
        "df_json = spark.read.json(\"orders.json\", multiLine=True)\n",
        "df_json.printSchema()\n",
        "\n",
        "df_json.select(\"OrderID\", \"Customer.Name\", \"Details.Profit\").show()\n"
      ],
      "metadata": {
        "colab": {
          "base_uri": "https://localhost:8080/"
        },
        "id": "TpAT0pxm2RpH",
        "outputId": "78c4c4b5-b000-468e-b017-2b85f5c14489"
      },
      "execution_count": 31,
      "outputs": [
        {
          "output_type": "stream",
          "name": "stdout",
          "text": [
            "root\n",
            " |-- Customer: struct (nullable = true)\n",
            " |    |-- Name: string (nullable = true)\n",
            " |    |-- Segment: string (nullable = true)\n",
            " |-- Details: struct (nullable = true)\n",
            " |    |-- Profit: long (nullable = true)\n",
            " |    |-- Region: string (nullable = true)\n",
            " |-- OrderID: string (nullable = true)\n",
            "\n",
            "+-------+-----+------+\n",
            "|OrderID| Name|Profit|\n",
            "+-------+-----+------+\n",
            "|CA-1001| Ravi|  5000|\n",
            "|CA-1002|Priya|  1800|\n",
            "+-------+-----+------+\n",
            "\n"
          ]
        }
      ]
    }
  ]
}