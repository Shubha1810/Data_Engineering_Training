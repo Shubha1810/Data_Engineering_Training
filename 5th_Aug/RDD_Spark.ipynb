{
  "nbformat": 4,
  "nbformat_minor": 0,
  "metadata": {
    "colab": {
      "provenance": []
    },
    "kernelspec": {
      "name": "python3",
      "display_name": "Python 3"
    },
    "language_info": {
      "name": "python"
    }
  },
  "cells": [
    {
      "cell_type": "code",
      "execution_count": 3,
      "metadata": {
        "id": "_V5GSy2QbH4_"
      },
      "outputs": [],
      "source": [
        "from pyspark.sql import SparkSession\n",
        "\n",
        "spark = SparkSession.builder \\\n",
        "    .appName(\"RDDExamples\") \\\n",
        "    .master(\"local[*]\") \\\n",
        "    .getOrCreate()\n",
        "\n",
        "sc = spark.sparkContext"
      ]
    },
    {
      "cell_type": "code",
      "source": [
        " # From a Python list\n",
        "nums = sc.parallelize ([1, 2, 3, 4, 5])"
      ],
      "metadata": {
        "id": "F6NPwT10boKS"
      },
      "execution_count": 4,
      "outputs": []
    },
    {
      "cell_type": "code",
      "source": [
        "nums.collect()"
      ],
      "metadata": {
        "colab": {
          "base_uri": "https://localhost:8080/"
        },
        "id": "Gfqvu-BWbuAE",
        "outputId": "fd192acd-5f3f-4ee6-eb84-fc19e852601c"
      },
      "execution_count": 5,
      "outputs": [
        {
          "output_type": "execute_result",
          "data": {
            "text/plain": [
              "[1, 2, 3, 4, 5]"
            ]
          },
          "metadata": {},
          "execution_count": 5
        }
      ]
    },
    {
      "cell_type": "code",
      "source": [
        "nums.count()"
      ],
      "metadata": {
        "colab": {
          "base_uri": "https://localhost:8080/"
        },
        "id": "j_Zaoloebw4b",
        "outputId": "0abe6457-ec07-4962-afe8-6ad1b1c3eae9"
      },
      "execution_count": 6,
      "outputs": [
        {
          "output_type": "execute_result",
          "data": {
            "text/plain": [
              "5"
            ]
          },
          "metadata": {},
          "execution_count": 6
        }
      ]
    },
    {
      "cell_type": "code",
      "source": [
        "nums.take(3)"
      ],
      "metadata": {
        "colab": {
          "base_uri": "https://localhost:8080/"
        },
        "id": "5l31zyiLb0Jn",
        "outputId": "2b491f51-bed4-43a5-b4b0-2db502ca3b6b"
      },
      "execution_count": 7,
      "outputs": [
        {
          "output_type": "execute_result",
          "data": {
            "text/plain": [
              "[1, 2, 3]"
            ]
          },
          "metadata": {},
          "execution_count": 7
        }
      ]
    },
    {
      "cell_type": "code",
      "source": [
        "# it will only execute the last one\n",
        "nums.collect()\n",
        "nums.take(2)"
      ],
      "metadata": {
        "colab": {
          "base_uri": "https://localhost:8080/"
        },
        "id": "8Fx6SgFub2dW",
        "outputId": "71842244-713a-4483-f7af-2bd2c79db3ec"
      },
      "execution_count": 9,
      "outputs": [
        {
          "output_type": "execute_result",
          "data": {
            "text/plain": [
              "[1, 2]"
            ]
          },
          "metadata": {},
          "execution_count": 9
        }
      ]
    },
    {
      "cell_type": "code",
      "source": [
        "squares = nums.map( lambda x: x * x)\n",
        "even_squares = squares.filter(lambda x: x % 2 == 0)\n",
        "\n",
        "even_squares.collect()"
      ],
      "metadata": {
        "colab": {
          "base_uri": "https://localhost:8080/"
        },
        "id": "3ZTIklpfiOtZ",
        "outputId": "1085166c-02cc-4cfe-9ee1-23c836353c85"
      },
      "execution_count": 10,
      "outputs": [
        {
          "output_type": "execute_result",
          "data": {
            "text/plain": [
              "[4, 16]"
            ]
          },
          "metadata": {},
          "execution_count": 10
        }
      ]
    },
    {
      "cell_type": "code",
      "source": [
        "lines = sc.parallelize([\n",
        "    \"spark makes big data simple\",\n",
        "    \"RDDs are resilient dristributed datasets\",\n",
        "    \"Spark runs fast\"\n",
        "])\n",
        "\n",
        "word_counts = (lines\n",
        "        .flatMap(lambda line: line.split())\n",
        "        .map(lambda w: (w.lower(), 1)) #[(\"spark\", 1), (\"makes\", 1),(\"big\", 1),..........]\n",
        "        .reduceByKey(lambda a, b: a + b) #[(\"spark\", 2), (\"makes\", 1),(\"big\", 1),..........]\n",
        ")\n",
        "\n",
        "word_counts.take(10)"
      ],
      "metadata": {
        "colab": {
          "base_uri": "https://localhost:8080/"
        },
        "id": "mJNC6uCjjTU-",
        "outputId": "d6827376-14d0-439e-c8c1-941cc47afbe7"
      },
      "execution_count": 12,
      "outputs": [
        {
          "output_type": "execute_result",
          "data": {
            "text/plain": [
              "[('big', 1),\n",
              " ('are', 1),\n",
              " ('resilient', 1),\n",
              " ('datasets', 1),\n",
              " ('runs', 1),\n",
              " ('fast', 1),\n",
              " ('spark', 2),\n",
              " ('makes', 1),\n",
              " ('data', 1),\n",
              " ('simple', 1)]"
            ]
          },
          "metadata": {},
          "execution_count": 12
        }
      ]
    }
  ]
}