{
  "nbformat": 4,
  "nbformat_minor": 0,
  "metadata": {
    "colab": {
      "provenance": []
    },
    "kernelspec": {
      "name": "python3",
      "display_name": "Python 3"
    },
    "language_info": {
      "name": "python"
    }
  },
  "cells": [
    {
      "cell_type": "code",
      "execution_count": 1,
      "metadata": {
        "id": "dqphWxs54Mgg"
      },
      "outputs": [],
      "source": [
        "csv_data = \"\"\"date,category,amount,user\n",
        "2025-01-05,Food,250.50,User1\n",
        "2025-01-12,Transport,80.00,User1\n",
        "2025-01-20,Shopping,500.00,User1\n",
        "2025-02-02,Food,300.00,User1\n",
        "2025-02-15,Entertainment,200.00,User1\n",
        "2025-02-25,Transport,60.00,User1\n",
        "2025-03-03,Food,150.00,User1\n",
        "2025-03-12,Shopping,700.00,User1\n",
        "2025-03-25,Food,220.00,User1\n",
        "2025-03-28,Entertainment,400.00,User1\n",
        "\"\"\"\n",
        "\n",
        "with open(\"expenses.csv\", \"w\") as file:\n",
        "    file.write(csv_data)"
      ]
    },
    {
      "cell_type": "code",
      "source": [
        "from pyspark.sql import SparkSession\n",
        "from pyspark.sql.functions import col, to_date, month, sum as _sum, max as _max\n",
        "\n",
        "# Create Spark Session\n",
        "spark = SparkSession.builder.appName(\"ExpenseAnalysis\").getOrCreate()"
      ],
      "metadata": {
        "id": "RKP2lC-B4ltw"
      },
      "execution_count": 7,
      "outputs": []
    },
    {
      "cell_type": "code",
      "source": [
        "# Load data with PySpark\n",
        "df = spark.read.csv(\"expenses.csv\", header=True, inferSchema=True)"
      ],
      "metadata": {
        "id": "ciYVk87L4vyp"
      },
      "execution_count": 3,
      "outputs": []
    },
    {
      "cell_type": "code",
      "source": [
        "# Convert date column to proper date type\n",
        "df = df.withColumn(\"date\", to_date(col(\"date\"), \"yyyy-MM-dd\"))\n"
      ],
      "metadata": {
        "id": "94w3B-kO4z7a"
      },
      "execution_count": 4,
      "outputs": []
    },
    {
      "cell_type": "code",
      "source": [
        "# Extract month number\n",
        "df = df.withColumn(\"month\", month(col(\"date\")))\n"
      ],
      "metadata": {
        "id": "p9i_iN1z42lD"
      },
      "execution_count": 5,
      "outputs": []
    },
    {
      "cell_type": "code",
      "source": [
        "# Total monthly spend per user\n",
        "monthly_spend = df.groupBy(\"user\", \"month\").agg(_sum(\"amount\").alias(\"total_spent\"))\n",
        "monthly_spend.show()"
      ],
      "metadata": {
        "colab": {
          "base_uri": "https://localhost:8080/"
        },
        "id": "1iQy9T4C46e7",
        "outputId": "fb84efde-4db2-4a62-cc83-8873b651e7d9"
      },
      "execution_count": 8,
      "outputs": [
        {
          "output_type": "stream",
          "name": "stdout",
          "text": [
            "+-----+-----+-----------+\n",
            "| user|month|total_spent|\n",
            "+-----+-----+-----------+\n",
            "|User1|    2|      560.0|\n",
            "|User1|    3|     1470.0|\n",
            "|User1|    1|      830.5|\n",
            "+-----+-----+-----------+\n",
            "\n"
          ]
        }
      ]
    },
    {
      "cell_type": "code",
      "source": [
        "# Detect unusual spikes (expenses > 500 in one month)\n",
        "unusual_spending = monthly_spend.filter(col(\"total_spent\") > 500)\n",
        "print(\"===== Unusual Spending Detected =====\")\n",
        "unusual_spending.show()"
      ],
      "metadata": {
        "colab": {
          "base_uri": "https://localhost:8080/"
        },
        "id": "HXB-6z_75HaF",
        "outputId": "e2e2713f-a383-458e-cdf7-b07f3810ff07"
      },
      "execution_count": 9,
      "outputs": [
        {
          "output_type": "stream",
          "name": "stdout",
          "text": [
            "===== Unusual Spending Detected =====\n",
            "+-----+-----+-----------+\n",
            "| user|month|total_spent|\n",
            "+-----+-----+-----------+\n",
            "|User1|    2|      560.0|\n",
            "|User1|    3|     1470.0|\n",
            "|User1|    1|      830.5|\n",
            "+-----+-----+-----------+\n",
            "\n"
          ]
        }
      ]
    },
    {
      "cell_type": "code",
      "source": [
        "# Detect large one-time transactions (> 400)\n",
        "large_transactions = df.filter(col(\"amount\") > 400)\n",
        "print(\"===== Large One-Time Transactions =====\")\n",
        "large_transactions.show()"
      ],
      "metadata": {
        "colab": {
          "base_uri": "https://localhost:8080/"
        },
        "id": "eNById485NB1",
        "outputId": "3367df8c-6560-4909-9b84-4e18c90f1118"
      },
      "execution_count": 10,
      "outputs": [
        {
          "output_type": "stream",
          "name": "stdout",
          "text": [
            "===== Large One-Time Transactions =====\n",
            "+----------+--------+------+-----+-----+\n",
            "|      date|category|amount| user|month|\n",
            "+----------+--------+------+-----+-----+\n",
            "|2025-01-20|Shopping| 500.0|User1|    1|\n",
            "|2025-03-12|Shopping| 700.0|User1|    3|\n",
            "+----------+--------+------+-----+-----+\n",
            "\n"
          ]
        }
      ]
    }
  ]
}