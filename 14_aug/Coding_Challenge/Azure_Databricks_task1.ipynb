{
  "nbformat": 4,
  "nbformat_minor": 0,
  "metadata": {
    "colab": {
      "provenance": []
    },
    "kernelspec": {
      "name": "python3",
      "display_name": "Python 3"
    },
    "language_info": {
      "name": "python"
    }
  },
  "cells": [
    {
      "cell_type": "markdown",
      "source": [
        "**Dataset** **Creation**"
      ],
      "metadata": {
        "id": "iGUYIE71_KFU"
      }
    },
    {
      "cell_type": "code",
      "execution_count": 4,
      "metadata": {
        "colab": {
          "base_uri": "https://localhost:8080/"
        },
        "id": "KtmT4-EZ4g01",
        "outputId": "6200fb0e-c5a9-4501-ac40-f6a11061cdd4"
      },
      "outputs": [
        {
          "output_type": "stream",
          "name": "stdout",
          "text": [
            "Spark and Delta Lake are ready!\n"
          ]
        }
      ],
      "source": [
        "!pip install delta-spark==3.2.0 -q\n",
        "import pyspark\n",
        "from delta import *\n",
        "from pyspark.sql.functions import *\n",
        "\n",
        "# Create a SparkSession with Delta Lake extensions\n",
        "# The '.config(...)' lines are crucial for enabling Delta Lake's features\n",
        "builder = pyspark.sql.SparkSession.builder.appName(\"DeltaTutorial\") \\\n",
        "    .config(\"spark.sql.extensions\", \"io.delta.sql.DeltaSparkSessionExtension\") \\\n",
        "    .config(\"spark.sql.catalog.spark_catalog\", \"org.apache.spark.sql.delta.catalog.DeltaCatalog\")\n",
        "\n",
        "# Get or create the SparkSession\n",
        "spark = configure_spark_with_delta_pip(builder).getOrCreate()\n",
        "\n",
        "print(\"Spark and Delta Lake are ready!\")"
      ]
    },
    {
      "cell_type": "code",
      "source": [
        "data = [\n",
        "    (1, \"John\", \"Electronics\", 2, 300),\n",
        "    (2, \"Sara\", \"Clothing\", 1, 50),\n",
        "    (3, \"Mike\", \"Electronics\", 4, 600),\n",
        "    (4, \"Nina\", \"Clothing\", 3, 150),\n",
        "]\n",
        "columns = [\"order_id\", \"customer_name\", \"category\", \"quantity\", \"amount\"]\n",
        "\n",
        "df = spark.createDataFrame(data, columns)\n",
        "\n",
        "# Save as Delta Table\n",
        "df.write.format(\"delta\").mode(\"overwrite\").save(\"/tmp/orders_delta\")"
      ],
      "metadata": {
        "id": "AZ_iBSoe5GRL"
      },
      "execution_count": 5,
      "outputs": []
    },
    {
      "cell_type": "markdown",
      "source": [
        "**1. Managed vs Unmanaged Tables**\n",
        "\n",
        "Task:\n",
        "\n",
        "Create a managed table orders_managed from /tmp/orders_delta\n",
        "\n",
        "Create an unmanaged table orders_unmanaged pointing to the same location"
      ],
      "metadata": {
        "id": "zLU8SmXW_Sz4"
      }
    },
    {
      "cell_type": "code",
      "source": [
        "# Managed table\n",
        "spark.sql(\"\"\"\n",
        "DROP TABLE IF EXISTS orders_managed\n",
        "\"\"\")\n",
        "\n",
        "spark.sql(\"\"\"\n",
        "CREATE TABLE orders_managed\n",
        "USING DELTA\n",
        "AS SELECT * FROM delta.`/tmp/orders_delta`\n",
        "\"\"\")\n",
        "\n",
        "\n",
        "# Unmanaged table\n",
        "spark.sql(\"\"\"\n",
        "DROP TABLE IF EXISTS orders_unmanaged\n",
        "\"\"\")\n",
        "spark.sql(\"\"\"\n",
        "CREATE TABLE orders_unmanaged\n",
        "USING DELTA\n",
        "LOCATION '/tmp/orders_delta'\n",
        "\"\"\")\n",
        "\n",
        "# Verify\n",
        "spark.sql(\"SHOW TABLES\").show()\n"
      ],
      "metadata": {
        "colab": {
          "base_uri": "https://localhost:8080/"
        },
        "id": "ajqkKer75QPv",
        "outputId": "e0ba017b-f17c-4cb7-fc4a-64ae948cfa41"
      },
      "execution_count": 15,
      "outputs": [
        {
          "output_type": "stream",
          "name": "stdout",
          "text": [
            "+---------+----------------+-----------+\n",
            "|namespace|       tableName|isTemporary|\n",
            "+---------+----------------+-----------+\n",
            "|  default|  orders_managed|      false|\n",
            "|  default|orders_unmanaged|      false|\n",
            "+---------+----------------+-----------+\n",
            "\n"
          ]
        }
      ]
    },
    {
      "cell_type": "code",
      "source": [
        "spark.sql(\"DESCRIBE EXTENDED orders_managed\").show(truncate=False)\n",
        "spark.sql(\"DESCRIBE EXTENDED orders_unmanaged\").show(truncate=False)\n"
      ],
      "metadata": {
        "colab": {
          "base_uri": "https://localhost:8080/"
        },
        "id": "Oi7co69VDjkR",
        "outputId": "f2b3b608-3ab8-42cd-88a4-e0fdae009ef2"
      },
      "execution_count": 16,
      "outputs": [
        {
          "output_type": "stream",
          "name": "stdout",
          "text": [
            "+----------------------------+---------------------------------------------------+-------+\n",
            "|col_name                    |data_type                                          |comment|\n",
            "+----------------------------+---------------------------------------------------+-------+\n",
            "|order_id                    |bigint                                             |NULL   |\n",
            "|customer_name               |string                                             |NULL   |\n",
            "|category                    |string                                             |NULL   |\n",
            "|quantity                    |bigint                                             |NULL   |\n",
            "|amount                      |bigint                                             |NULL   |\n",
            "|                            |                                                   |       |\n",
            "|# Detailed Table Information|                                                   |       |\n",
            "|Name                        |spark_catalog.default.orders_managed               |       |\n",
            "|Type                        |MANAGED                                            |       |\n",
            "|Location                    |file:/content/spark-warehouse/orders_managed       |       |\n",
            "|Provider                    |delta                                              |       |\n",
            "|Table Properties            |[delta.minReaderVersion=1,delta.minWriterVersion=2]|       |\n",
            "+----------------------------+---------------------------------------------------+-------+\n",
            "\n",
            "+----------------------------+---------------------------------------------------+-------+\n",
            "|col_name                    |data_type                                          |comment|\n",
            "+----------------------------+---------------------------------------------------+-------+\n",
            "|order_id                    |bigint                                             |NULL   |\n",
            "|customer_name               |string                                             |NULL   |\n",
            "|category                    |string                                             |NULL   |\n",
            "|quantity                    |bigint                                             |NULL   |\n",
            "|amount                      |bigint                                             |NULL   |\n",
            "|                            |                                                   |       |\n",
            "|# Detailed Table Information|                                                   |       |\n",
            "|Name                        |spark_catalog.default.orders_unmanaged             |       |\n",
            "|Type                        |EXTERNAL                                           |       |\n",
            "|Location                    |file:/tmp/orders_delta                             |       |\n",
            "|Provider                    |delta                                              |       |\n",
            "|Table Properties            |[delta.minReaderVersion=1,delta.minWriterVersion=2]|       |\n",
            "+----------------------------+---------------------------------------------------+-------+\n",
            "\n"
          ]
        }
      ]
    },
    {
      "cell_type": "markdown",
      "source": [
        "**2. CRUD Operations**\n",
        "\n",
        "Task:\n",
        "\n",
        "Read from the table\n",
        "\n",
        "Update all \"Clothing\" category orders to have amount = amount + 20\n",
        "\n",
        "Delete all orders with quantity < 2\n",
        "\n",
        "Merge in a new dataset (new orders & updated orders)\n"
      ],
      "metadata": {
        "id": "40_kLvgU_dCN"
      }
    },
    {
      "cell_type": "code",
      "source": [
        "# Read table\n",
        "spark.read.format(\"delta\").load(\"/tmp/orders_delta\").show()\n",
        "\n",
        "# Update \"Clothing\" category orders -> amount + 20\n",
        "spark.sql(\"\"\"\n",
        "UPDATE delta.`/tmp/orders_delta`\n",
        "SET amount = amount + 20\n",
        "WHERE category = 'Clothing'\n",
        "\"\"\")\n",
        "\n",
        "# Delete orders with quantity < 2\n",
        "spark.sql(\"\"\"\n",
        "DELETE FROM delta.`/tmp/orders_delta`\n",
        "WHERE quantity < 2\n",
        "\"\"\")\n",
        "\n",
        "# Merge new data (new + updated)\n",
        "from delta.tables import DeltaTable\n",
        "\n",
        "deltaTable = DeltaTable.forPath(spark, \"/tmp/orders_delta\")\n",
        "\n",
        "new_data = [\n",
        "    (3, \"Mike\", \"Electronics\", 4, 650),  # updated amount\n",
        "    (5, \"Liam\", \"Clothing\", 2, 90),      # new order\n",
        "]\n",
        "new_df = spark.createDataFrame(new_data, columns)\n",
        "\n",
        "deltaTable.alias(\"old\").merge(\n",
        "    new_df.alias(\"new\"),\n",
        "    \"old.order_id = new.order_id\"\n",
        ").whenMatchedUpdateAll() \\\n",
        " .whenNotMatchedInsertAll() \\\n",
        " .execute()\n",
        "\n",
        "# Check result\n",
        "spark.read.format(\"delta\").load(\"/tmp/orders_delta\").show()\n"
      ],
      "metadata": {
        "colab": {
          "base_uri": "https://localhost:8080/"
        },
        "id": "NkJrJe4H5TR2",
        "outputId": "e034795e-aa42-4d23-b167-2bf18b21caf0"
      },
      "execution_count": 7,
      "outputs": [
        {
          "output_type": "stream",
          "name": "stdout",
          "text": [
            "+--------+-------------+-----------+--------+------+\n",
            "|order_id|customer_name|   category|quantity|amount|\n",
            "+--------+-------------+-----------+--------+------+\n",
            "|       1|         John|Electronics|       2|   300|\n",
            "|       2|         Sara|   Clothing|       1|    50|\n",
            "|       3|         Mike|Electronics|       4|   600|\n",
            "|       4|         Nina|   Clothing|       3|   150|\n",
            "+--------+-------------+-----------+--------+------+\n",
            "\n",
            "+--------+-------------+-----------+--------+------+\n",
            "|order_id|customer_name|   category|quantity|amount|\n",
            "+--------+-------------+-----------+--------+------+\n",
            "|       3|         Mike|Electronics|       4|   650|\n",
            "|       4|         Nina|   Clothing|       3|   170|\n",
            "|       5|         Liam|   Clothing|       2|    90|\n",
            "|       1|         John|Electronics|       2|   300|\n",
            "+--------+-------------+-----------+--------+------+\n",
            "\n"
          ]
        }
      ]
    },
    {
      "cell_type": "markdown",
      "source": [
        "**3. History & Time Travel**\n",
        "\n",
        "Task:\n",
        "\n",
        "Use DESCRIBE HISTORY to check previous versions\n",
        "\n",
        "Read data from version 0 and compare with the latest version\n"
      ],
      "metadata": {
        "id": "xjChftfS_lMb"
      }
    },
    {
      "cell_type": "code",
      "source": [
        "# Show history\n",
        "spark.sql(\"DESCRIBE HISTORY delta.`/tmp/orders_delta`\").show(truncate=False)\n",
        "\n",
        "# Read from version 0\n",
        "version0_df = spark.read.format(\"delta\").option(\"versionAsOf\", 0).load(\"/tmp/orders_delta\")\n",
        "print(\"Version 0:\")\n",
        "version0_df.show()\n",
        "\n",
        "# Read latest\n",
        "latest_df = spark.read.format(\"delta\").load(\"/tmp/orders_delta\")\n",
        "print(\"Latest Version:\")\n",
        "latest_df.show()\n"
      ],
      "metadata": {
        "colab": {
          "base_uri": "https://localhost:8080/"
        },
        "id": "vUCoTV-N5lB5",
        "outputId": "133ec59b-3901-482a-9368-73814e0644c9"
      },
      "execution_count": 8,
      "outputs": [
        {
          "output_type": "stream",
          "name": "stdout",
          "text": [
            "+-------+-----------------------+------+--------+---------+-------------------------------------------------------------------------------------------------------------------------------------------------------------------------------------------+----+--------+---------+-----------+--------------+-------------+----------------------------------------------------------------------------------------------------------------------------------------------------------------------------------------------------------------------------------------------------------------------------------------------------------------------------------------------------------------------------------------------------------------------------------------------------------------------------------------------------------------------------------------------------------------------------------------------------------------------------------------------------------+------------+-----------------------------------+\n",
            "|version|timestamp              |userId|userName|operation|operationParameters                                                                                                                                                                        |job |notebook|clusterId|readVersion|isolationLevel|isBlindAppend|operationMetrics                                                                                                                                                                                                                                                                                                                                                                                                                                                                                                                                                                                                                                          |userMetadata|engineInfo                         |\n",
            "+-------+-----------------------+------+--------+---------+-------------------------------------------------------------------------------------------------------------------------------------------------------------------------------------------+----+--------+---------+-----------+--------------+-------------+----------------------------------------------------------------------------------------------------------------------------------------------------------------------------------------------------------------------------------------------------------------------------------------------------------------------------------------------------------------------------------------------------------------------------------------------------------------------------------------------------------------------------------------------------------------------------------------------------------------------------------------------------------+------------+-----------------------------------+\n",
            "|3      |2025-08-14 04:45:56.003|NULL  |NULL    |MERGE    |{predicate -> [\"(order_id#2861L = order_id#2871L)\"], matchedPredicates -> [{\"actionType\":\"update\"}], notMatchedPredicates -> [{\"actionType\":\"insert\"}], notMatchedBySourcePredicates -> []}|NULL|NULL    |NULL     |2          |Serializable  |false        |{numTargetRowsCopied -> 1, numTargetRowsDeleted -> 0, numTargetFilesAdded -> 1, numTargetBytesAdded -> 1627, numTargetBytesRemoved -> 1566, numTargetDeletionVectorsAdded -> 0, numTargetRowsMatchedUpdated -> 1, executionTimeMs -> 12593, numTargetRowsInserted -> 1, numTargetRowsMatchedDeleted -> 0, numTargetDeletionVectorsUpdated -> 0, scanTimeMs -> 10166, numTargetRowsUpdated -> 1, numOutputRows -> 3, numTargetDeletionVectorsRemoved -> 0, numTargetRowsNotMatchedBySourceUpdated -> 0, numTargetChangeFilesAdded -> 0, numSourceRows -> 2, numTargetFilesRemoved -> 1, numTargetRowsNotMatchedBySourceDeleted -> 0, rewriteTimeMs -> 1911}|NULL        |Apache-Spark/3.5.1 Delta-Lake/3.2.0|\n",
            "|2      |2025-08-14 04:45:42.462|NULL  |NULL    |DELETE   |{predicate -> [\"(quantity#1696L < 2)\"]}                                                                                                                                                    |NULL|NULL    |NULL     |1          |Serializable  |false        |{numRemovedFiles -> 1, numRemovedBytes -> 1565, numCopiedRows -> 1, numDeletionVectorsAdded -> 0, numDeletionVectorsRemoved -> 0, numAddedChangeFiles -> 0, executionTimeMs -> 11561, numDeletionVectorsUpdated -> 0, numDeletedRows -> 1, scanTimeMs -> 10785, numAddedFiles -> 1, numAddedBytes -> 1567, rewriteTimeMs -> 774}                                                                                                                                                                                                                                                                                                                          |NULL        |Apache-Spark/3.5.1 Delta-Lake/3.2.0|\n",
            "|1      |2025-08-14 04:45:30.204|NULL  |NULL    |UPDATE   |{predicate -> [\"(category#1300 = Clothing)\"]}                                                                                                                                              |NULL|NULL    |NULL     |0          |Serializable  |false        |{numRemovedFiles -> 2, numRemovedBytes -> 3130, numCopiedRows -> 2, numDeletionVectorsAdded -> 0, numDeletionVectorsRemoved -> 0, numAddedChangeFiles -> 0, executionTimeMs -> 5671, numDeletionVectorsUpdated -> 0, scanTimeMs -> 4797, numAddedFiles -> 2, numUpdatedRows -> 2, numAddedBytes -> 3131, rewriteTimeMs -> 871}                                                                                                                                                                                                                                                                                                                            |NULL        |Apache-Spark/3.5.1 Delta-Lake/3.2.0|\n",
            "|0      |2025-08-14 04:44:26.577|NULL  |NULL    |WRITE    |{mode -> Overwrite, partitionBy -> []}                                                                                                                                                     |NULL|NULL    |NULL     |NULL       |Serializable  |false        |{numFiles -> 2, numOutputRows -> 4, numOutputBytes -> 3130}                                                                                                                                                                                                                                                                                                                                                                                                                                                                                                                                                                                               |NULL        |Apache-Spark/3.5.1 Delta-Lake/3.2.0|\n",
            "+-------+-----------------------+------+--------+---------+-------------------------------------------------------------------------------------------------------------------------------------------------------------------------------------------+----+--------+---------+-----------+--------------+-------------+----------------------------------------------------------------------------------------------------------------------------------------------------------------------------------------------------------------------------------------------------------------------------------------------------------------------------------------------------------------------------------------------------------------------------------------------------------------------------------------------------------------------------------------------------------------------------------------------------------------------------------------------------------+------------+-----------------------------------+\n",
            "\n",
            "Version 0:\n",
            "+--------+-------------+-----------+--------+------+\n",
            "|order_id|customer_name|   category|quantity|amount|\n",
            "+--------+-------------+-----------+--------+------+\n",
            "|       1|         John|Electronics|       2|   300|\n",
            "|       2|         Sara|   Clothing|       1|    50|\n",
            "|       3|         Mike|Electronics|       4|   600|\n",
            "|       4|         Nina|   Clothing|       3|   150|\n",
            "+--------+-------------+-----------+--------+------+\n",
            "\n",
            "Latest Version:\n",
            "+--------+-------------+-----------+--------+------+\n",
            "|order_id|customer_name|   category|quantity|amount|\n",
            "+--------+-------------+-----------+--------+------+\n",
            "|       3|         Mike|Electronics|       4|   650|\n",
            "|       4|         Nina|   Clothing|       3|   170|\n",
            "|       5|         Liam|   Clothing|       2|    90|\n",
            "|       1|         John|Electronics|       2|   300|\n",
            "+--------+-------------+-----------+--------+------+\n",
            "\n"
          ]
        }
      ]
    },
    {
      "cell_type": "markdown",
      "source": [
        "**4. Incremental Load Pattern**\n",
        "\n",
        "Task:\n",
        "\n",
        "Create a new mini-batch with only new orders (IDs 5 & 6)\n",
        "\n",
        "Append to the Delta table\n",
        "\n",
        "Show final result"
      ],
      "metadata": {
        "id": "nIPaPv60_qPp"
      }
    },
    {
      "cell_type": "code",
      "source": [
        "# New mini-batch\n",
        "new_orders = [\n",
        "    (6, \"Emma\", \"Electronics\", 1, 150),\n",
        "    (7, \"Olivia\", \"Clothing\", 5, 300),\n",
        "]\n",
        "new_orders_df = spark.createDataFrame(new_orders, columns)\n",
        "\n",
        "# Append\n",
        "new_orders_df.write.format(\"delta\").mode(\"append\").save(\"/tmp/orders_delta\")\n",
        "\n",
        "# Final table\n",
        "spark.read.format(\"delta\").load(\"/tmp/orders_delta\").show()\n"
      ],
      "metadata": {
        "colab": {
          "base_uri": "https://localhost:8080/"
        },
        "id": "wT6D6Gev7Ca1",
        "outputId": "99df72fd-5f8c-4fed-95c2-0d7a7c04a88b"
      },
      "execution_count": 9,
      "outputs": [
        {
          "output_type": "stream",
          "name": "stdout",
          "text": [
            "+--------+-------------+-----------+--------+------+\n",
            "|order_id|customer_name|   category|quantity|amount|\n",
            "+--------+-------------+-----------+--------+------+\n",
            "|       3|         Mike|Electronics|       4|   650|\n",
            "|       4|         Nina|   Clothing|       3|   170|\n",
            "|       5|         Liam|   Clothing|       2|    90|\n",
            "|       1|         John|Electronics|       2|   300|\n",
            "|       6|         Emma|Electronics|       1|   150|\n",
            "|       7|       Olivia|   Clothing|       5|   300|\n",
            "+--------+-------------+-----------+--------+------+\n",
            "\n"
          ]
        }
      ]
    },
    {
      "cell_type": "markdown",
      "source": [
        "**5. Simple Streaming Read**\n",
        "\n",
        "Task:\n",
        "\n",
        "Read the /tmp/orders_delta in streaming mode\n",
        "\n",
        "Output to console every 5 seconds"
      ],
      "metadata": {
        "id": "bzrCbV_Q_yn1"
      }
    },
    {
      "cell_type": "code",
      "source": [
        "# Streaming read (will keep printing every 5s)\n",
        "stream_df = spark.readStream.format(\"delta\").load(\"/tmp/orders_delta\")\n",
        "\n",
        "query = (\n",
        "    stream_df.writeStream\n",
        "    .format(\"console\")\n",
        "    .outputMode(\"append\")\n",
        "    .trigger(processingTime=\"5 seconds\")\n",
        "    .start()\n",
        ")\n",
        "\n",
        "# Wait for a short period to demonstrate\n",
        "import time\n",
        "time.sleep(15)\n",
        "query.stop()\n"
      ],
      "metadata": {
        "id": "cLb9uZf77OfG"
      },
      "execution_count": 14,
      "outputs": []
    },
    {
      "cell_type": "markdown",
      "source": [
        "**6. Visualization**\n",
        "\n",
        "Task:\n",
        "\n",
        "Read Delta table into Pandas\n",
        "\n",
        "Create a bar chart of category vs total amount\n"
      ],
      "metadata": {
        "id": "ehMHtRNw_4KI"
      }
    },
    {
      "cell_type": "code",
      "source": [
        "import pandas as pd\n",
        "import matplotlib.pyplot as plt\n",
        "\n",
        "# Read Delta into Pandas\n",
        "pdf = spark.read.format(\"delta\").load(\"/tmp/orders_delta\").toPandas()\n",
        "\n",
        "# Group & plot\n",
        "category_amount = pdf.groupby(\"category\")[\"amount\"].sum()\n",
        "\n",
        "plt.bar(category_amount.index, category_amount.values)\n",
        "plt.xlabel(\"Category\")\n",
        "plt.ylabel(\"Total Amount\")\n",
        "plt.title(\"Category vs Total Amount\")\n",
        "plt.show()\n"
      ],
      "metadata": {
        "colab": {
          "base_uri": "https://localhost:8080/",
          "height": 472
        },
        "id": "Ru0GmegC7XJD",
        "outputId": "0a34c04c-26f5-4dd1-ac74-886b0067c27c"
      },
      "execution_count": 11,
      "outputs": [
        {
          "output_type": "display_data",
          "data": {
            "text/plain": [
              "<Figure size 640x480 with 1 Axes>"
            ],
            "image/png": "[encoded data removed]"
          },
          "metadata": {}
        }
      ]
    }
  ]
}