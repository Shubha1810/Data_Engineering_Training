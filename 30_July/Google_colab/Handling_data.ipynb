{
  "nbformat": 4,
  "nbformat_minor": 0,
  "metadata": {
    "colab": {
      "provenance": []
    },
    "kernelspec": {
      "name": "python3",
      "display_name": "Python 3"
    },
    "language_info": {
      "name": "python"
    }
  },
  "cells": [
    {
      "cell_type": "code",
      "execution_count": null,
      "metadata": {
        "colab": {
          "base_uri": "https://localhost:8080/"
        },
        "id": "b3mMgHUA1BLp",
        "outputId": "7f1cf224-681f-4c88-ce5e-ce0df78baa47"
      },
      "outputs": [
        {
          "output_type": "stream",
          "name": "stdout",
          "text": [
            "    Name   Age    Department   Salary\n",
            "0  Aarav  28.0         Sales  50000.0\n",
            "1  Sneha   NaN   Engineering  80000.0\n",
            "2  Kabir  25.0            HR      NaN\n",
            "3  Anaya  29.0           NaN  60000.0\n",
            "4  Rohan  35.0   Engineering  85000.0\n"
          ]
        }
      ],
      "source": [
        "import pandas as pd\n",
        "#Sample data with missing values\n",
        "\n",
        "csv_data = \"\"\"Name,Age,Department,Salary\n",
        "Aarav, 28, Sales, 50000\n",
        "Sneha,, Engineering, 80000\n",
        "Kabir, 25, HR,\n",
        "Anaya, 29,, 60000\n",
        "Rohan, 35, Engineering, 85000\"\"\"\n",
        "\n",
        "with open('employees_missing.csv', 'w') as file:\n",
        "  file.write(csv_data)\n",
        "\n",
        "df = pd.read_csv('employees_missing.csv')\n",
        "print(df)"
      ]
    },
    {
      "cell_type": "code",
      "source": [
        "print(df.isnull()) # shows boolean for the result"
      ],
      "metadata": {
        "colab": {
          "base_uri": "https://localhost:8080/"
        },
        "id": "crVpm8md1bqu",
        "outputId": "33cd6aa7-060e-4b4a-c8cc-169f9f7456db"
      },
      "execution_count": null,
      "outputs": [
        {
          "output_type": "stream",
          "name": "stdout",
          "text": [
            "    Name    Age  Department  Salary\n",
            "0  False  False       False   False\n",
            "1  False   True       False   False\n",
            "2  False  False       False    True\n",
            "3  False  False        True   False\n",
            "4  False  False       False   False\n"
          ]
        }
      ]
    },
    {
      "cell_type": "code",
      "source": [
        "print(df.isnull().sum())"
      ],
      "metadata": {
        "colab": {
          "base_uri": "https://localhost:8080/"
        },
        "id": "nRb2B3QE1h-B",
        "outputId": "91b90054-5e47-4d4b-dd80-2d66c97d813b"
      },
      "execution_count": null,
      "outputs": [
        {
          "output_type": "stream",
          "name": "stdout",
          "text": [
            "Name          0\n",
            "Age           1\n",
            "Department    1\n",
            "Salary        1\n",
            "dtype: int64\n"
          ]
        }
      ]
    },
    {
      "cell_type": "code",
      "source": [
        "df_cleaned = df.dropna()\n",
        "print(df_cleaned)"
      ],
      "metadata": {
        "colab": {
          "base_uri": "https://localhost:8080/"
        },
        "id": "b5RQSBe11nCm",
        "outputId": "a6de7fe2-8e70-4091-efc6-f29366c4873b"
      },
      "execution_count": null,
      "outputs": [
        {
          "output_type": "stream",
          "name": "stdout",
          "text": [
            "    Name   Age    Department   Salary\n",
            "0  Aarav  28.0         Sales  50000.0\n",
            "4  Rohan  35.0   Engineering  85000.0\n"
          ]
        }
      ]
    },
    {
      "cell_type": "code",
      "source": [
        "df['Age'] = df['Age'].fillna(df['Age'].mean())\n",
        "print(df)"
      ],
      "metadata": {
        "colab": {
          "base_uri": "https://localhost:8080/"
        },
        "id": "XgdVVvTN1uOU",
        "outputId": "b59517e1-06c5-4e73-9d9e-620724556979"
      },
      "execution_count": null,
      "outputs": [
        {
          "output_type": "stream",
          "name": "stdout",
          "text": [
            "    Name    Age    Department   Salary\n",
            "0  Aarav  28.00         Sales  50000.0\n",
            "1  Sneha  29.25   Engineering  80000.0\n",
            "2  Kabir  25.00            HR      NaN\n",
            "3  Anaya  29.00           NaN  60000.0\n",
            "4  Rohan  35.00   Engineering  85000.0\n"
          ]
        }
      ]
    },
    {
      "cell_type": "code",
      "source": [
        "df['Department'] = df['Department'].fillna(\"Unknown\")  # ✅ Correct\n",
        "print(df)"
      ],
      "metadata": {
        "colab": {
          "base_uri": "https://localhost:8080/"
        },
        "id": "_MCLvpq92_Cj",
        "outputId": "418edb3e-c0a3-446c-f17a-66d415148c18"
      },
      "execution_count": null,
      "outputs": [
        {
          "output_type": "stream",
          "name": "stdout",
          "text": [
            "    Name    Age    Department   Salary\n",
            "0  Aarav  28.00         Sales  50000.0\n",
            "1  Sneha  29.25   Engineering  80000.0\n",
            "2  Kabir  25.00            HR      NaN\n",
            "3  Anaya  29.00       Unknown  60000.0\n",
            "4  Rohan  35.00   Engineering  85000.0\n"
          ]
        }
      ]
    },
    {
      "cell_type": "code",
      "source": [
        "df['Salary'] =df['Salary'].fillna(0)\n",
        "print(df)"
      ],
      "metadata": {
        "colab": {
          "base_uri": "https://localhost:8080/"
        },
        "id": "DGzZ3bm33mKX",
        "outputId": "8251271a-4856-4b4f-8786-e347b15ea781"
      },
      "execution_count": null,
      "outputs": [
        {
          "output_type": "stream",
          "name": "stdout",
          "text": [
            "    Name    Age    Department   Salary\n",
            "0  Aarav  28.00         Sales  50000.0\n",
            "1  Sneha  29.25   Engineering  80000.0\n",
            "2  Kabir  25.00            HR      0.0\n",
            "3  Anaya  29.00       Unknown  60000.0\n",
            "4  Rohan  35.00   Engineering  85000.0\n"
          ]
        }
      ]
    },
    {
      "cell_type": "code",
      "source": [
        "import pandas as pd\n",
        "\n",
        "# Create employees CSV\n",
        "emp_data = \"\"\"EmpID,Name,Department\n",
        "101,Amit,Sales\n",
        "102,Anita,Engineering\n",
        "103,Kabir,HR\n",
        "104,Sneha,Marketing\n",
        "105,Ravi,Engineering\n",
        "\"\"\"\n",
        "with open('employees.csv', 'w') as f:\n",
        "    f.write(emp_data)\n",
        "\n",
        "# Create departments CSV\n",
        "dept_data = \"\"\"Department,Location\n",
        "Sales,Mumbai\n",
        "Engineering,Bangalore\n",
        "HR,Delhi\n",
        "Marketing,Chennai\n",
        "\"\"\"\n",
        "with open('departments.csv', 'w') as f:\n",
        "    f.write(dept_data)\n",
        "\n",
        "# Read both\n",
        "df_emp = pd.read_csv('employees.csv')\n",
        "df_dept = pd.read_csv('departments.csv')\n",
        "\n",
        "print(df_emp)\n",
        "print(df_dept)\n"
      ],
      "metadata": {
        "id": "oxcsr9tjwTpE",
        "outputId": "410b1f80-adae-4eb3-a9d5-b368eebcd284",
        "colab": {
          "base_uri": "https://localhost:8080/"
        }
      },
      "execution_count": null,
      "outputs": [
        {
          "output_type": "stream",
          "name": "stdout",
          "text": [
            "   EmpID   Name   Department\n",
            "0    101   Amit        Sales\n",
            "1    102  Anita  Engineering\n",
            "2    103  Kabir           HR\n",
            "3    104  Sneha    Marketing\n",
            "4    105   Ravi  Engineering\n",
            "    Department   Location\n",
            "0        Sales     Mumbai\n",
            "1  Engineering  Bangalore\n",
            "2           HR      Delhi\n",
            "3    Marketing    Chennai\n"
          ]
        }
      ]
    },
    {
      "cell_type": "code",
      "source": [
        "merged_df = pd.merge(df_emp, df_dept, on='Department', how = 'inner')\n",
        "print(merged_df)"
      ],
      "metadata": {
        "id": "o1Ucr-vfwYH8",
        "outputId": "14710549-19d3-4cde-fd69-1050b6f9f012",
        "colab": {
          "base_uri": "https://localhost:8080/"
        }
      },
      "execution_count": null,
      "outputs": [
        {
          "output_type": "stream",
          "name": "stdout",
          "text": [
            "   EmpID   Name   Department   Location\n",
            "0    101   Amit        Sales     Mumbai\n",
            "1    102  Anita  Engineering  Bangalore\n",
            "2    103  Kabir           HR      Delhi\n",
            "3    104  Sneha    Marketing    Chennai\n",
            "4    105   Ravi  Engineering  Bangalore\n"
          ]
        }
      ]
    }
  ]
}