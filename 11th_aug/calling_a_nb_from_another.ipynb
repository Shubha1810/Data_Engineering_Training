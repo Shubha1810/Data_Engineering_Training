{
 "cells": [
  {
   "cell_type": "code",
   "execution_count": 0,
   "metadata": {
    "application/vnd.databricks.v1+cell": {
     "cellMetadata": {
      "byteLimit": 2048000,
      "rowLimit": 10000
     },
     "inputWidgets": {},
     "nuid": "2bd66c91-b96b-49c8-80cb-ab8c39c71e47",
     "showTitle": false,
     "tableResultSettingsMap": {},
     "title": ""
    }
   },
   "outputs": [
    {
     "output_type": "stream",
     "name": "stdout",
     "output_type": "stream",
     "text": [
      "NotebookB returned: None\n"
     ]
    }
   ],
   "source": [
    "\n",
    "\n",
    "result = dbutils.notebook.run(\n",
    "    \"/Workspace/Users/azuser4037_mml.local@techademy.com/demo\",  # Path to notebook\n",
    "    timeout_seconds=60,\n",
    "    arguments={\"param1\": \"Azure\", \"param2\": \"Databricks\"}\n",
    ")\n",
    "\n",
    "print(f\"NotebookB returned: {result}\")\n"
   ]
  }
 ],
 "metadata": {
  "application/vnd.databricks.v1+notebook": {
   "computePreferences": null,
   "dashboards": [],
   "environmentMetadata": {
    "base_environment": "",
    "environment_version": "2"
   },
   "inputWidgetPreferences": null,
   "language": "python",
   "notebookMetadata": {
    "pythonIndentUnit": 4
   },
   "notebookName": "calling_a_nb_from_another",
   "widgets": {}
  },
  "language_info": {
   "name": "python"
  }
 },
 "nbformat": 4,
 "nbformat_minor": 0
}