{
 "cells": [
  {
   "cell_type": "markdown",
   "metadata": {
    "application/vnd.databricks.v1+cell": {
     "cellMetadata": {},
     "inputWidgets": {},
     "nuid": "8c7b01ff-9d7f-4fe1-8b40-4846ca4843dc",
     "showTitle": false,
     "tableResultSettingsMap": {},
     "title": ""
    }
   },
   "source": [
    "**Task 1: Ingest and Save**\n",
    "\n",
    "Load the CSV into a PySpark DataFrame.\n",
    "\n",
    "Save it in Parquet and Delta formats (in different folders).\n",
    "\n",
    "Create and register Delta Table called sales_transaction"
   ]
  },
  {
   "cell_type": "code",
   "execution_count": 0,
   "metadata": {
    "application/vnd.databricks.v1+cell": {
     "cellMetadata": {
      "byteLimit": 2048000,
      "rowLimit": 10000
     },
     "inputWidgets": {},
     "nuid": "18862f4c-7a5e-4851-9134-0bf593a2d25e",
     "showTitle": false,
     "tableResultSettingsMap": {},
     "title": ""
    }
   },
   "outputs": [],
   "source": [
    "from pyspark.sql import SparkSession\n",
    "from pyspark.sql.functions import col, lit, when, month, date_format, round as spark_round, max as spark_max, sum as spark_sum, to_date\n",
    "from delta.tables import DeltaTable\n",
    "from datetime import datetime\n",
    "\n",
    "spark = SparkSession.builder.appName(\"SalesTransactionsETL\").getOrCreate()"
   ]
  },
  {
   "cell_type": "code",
   "execution_count": 0,
   "metadata": {
    "application/vnd.databricks.v1+cell": {
     "cellMetadata": {
      "byteLimit": 2048000,
      "rowLimit": 10000
     },
     "inputWidgets": {},
     "nuid": "c4510fe8-2c31-463b-802f-8572bf4d32ef",
     "showTitle": false,
     "tableResultSettingsMap": {},
     "title": ""
    }
   },
   "outputs": [
    {
     "output_type": "display_data",
     "data": {
      "text/html": [
       "<style scoped>\n",
       "  .table-result-container {\n",
       "    max-height: 300px;\n",
       "    overflow: auto;\n",
       "  }\n",
       "  table, th, td {\n",
       "    border: 1px solid black;\n",
       "    border-collapse: collapse;\n",
       "  }\n",
       "  th, td {\n",
       "    padding: 5px;\n",
       "  }\n",
       "  th {\n",
       "    text-align: left;\n",
       "  }\n",
       "</style><div class='table-result-container'><table class='table-result'><thead style='background-color: white'><tr><th>transaction_id</th><th>customer_name</th><th>region</th><th>product</th><th>category</th><th>quantity</th><th>unit_price</th><th>date</th></tr></thead><tbody><tr><td>1</td><td>Rajesh</td><td>North</td><td>Laptop</td><td>Electronics</td><td>1</td><td>55000</td><td>2024-01-12</td></tr><tr><td>2</td><td>Sneha</td><td>West</td><td>Refrigerator</td><td>Electronics</td><td>1</td><td>32000</td><td>2024-02-05</td></tr><tr><td>3</td><td>Anil</td><td>South</td><td>Shampoo</td><td>Personal Care</td><td>5</td><td>150</td><td>2024-01-17</td></tr><tr><td>4</td><td>Divya</td><td>North</td><td>Mobile</td><td>Electronics</td><td>2</td><td>20000</td><td>2024-03-22</td></tr><tr><td>5</td><td>Vikram</td><td>East</td><td>Washing Machine</td><td>Electronics</td><td>1</td><td>28000</td><td>2024-02-28</td></tr><tr><td>6</td><td>Preeti</td><td>West</td><td>Sneakers</td><td>Fashion</td><td>2</td><td>4000</td><td>2024-01-31</td></tr><tr><td>7</td><td>Aman</td><td>South</td><td>TV</td><td>Electronics</td><td>1</td><td>45000</td><td>2024-02-15</td></tr><tr><td>8</td><td>Isha</td><td>North</td><td>Notebook</td><td>Stationery</td><td>10</td><td>60</td><td>2024-01-10</td></tr><tr><td>9</td><td>Kunal</td><td>East</td><td>Pencil</td><td>Stationery</td><td>20</td><td>10</td><td>2024-03-05</td></tr><tr><td>10</td><td>Tanvi</td><td>West</td><td>Face Cream</td><td>Personal Care</td><td>3</td><td>200</td><td>2024-03-19</td></tr></tbody></table></div>"
      ]
     },
     "metadata": {
      "application/vnd.databricks.v1+output": {
       "addedWidgets": {},
       "aggData": [],
       "aggError": "",
       "aggOverflow": false,
       "aggSchema": [],
       "aggSeriesLimitReached": false,
       "aggType": "",
       "arguments": {},
       "columnCustomDisplayInfos": {},
       "data": [
        [
         1,
         "Rajesh",
         "North",
         "Laptop",
         "Electronics",
         1,
         55000,
         "2024-01-12"
        ],
        [
         2,
         "Sneha",
         "West",
         "Refrigerator",
         "Electronics",
         1,
         32000,
         "2024-02-05"
        ],
        [
         3,
         "Anil",
         "South",
         "Shampoo",
         "Personal Care",
         5,
         150,
         "2024-01-17"
        ],
        [
         4,
         "Divya",
         "North",
         "Mobile",
         "Electronics",
         2,
         20000,
         "2024-03-22"
        ],
        [
         5,
         "Vikram",
         "East",
         "Washing Machine",
         "Electronics",
         1,
         28000,
         "2024-02-28"
        ],
        [
         6,
         "Preeti",
         "West",
         "Sneakers",
         "Fashion",
         2,
         4000,
         "2024-01-31"
        ],
        [
         7,
         "Aman",
         "South",
         "TV",
         "Electronics",
         1,
         45000,
         "2024-02-15"
        ],
        [
         8,
         "Isha",
         "North",
         "Notebook",
         "Stationery",
         10,
         60,
         "2024-01-10"
        ],
        [
         9,
         "Kunal",
         "East",
         "Pencil",
         "Stationery",
         20,
         10,
         "2024-03-05"
        ],
        [
         10,
         "Tanvi",
         "West",
         "Face Cream",
         "Personal Care",
         3,
         200,
         "2024-03-19"
        ]
       ],
       "datasetInfos": [],
       "dbfsResultPath": null,
       "isJsonSchema": true,
       "metadata": {},
       "overflow": false,
       "plotOptions": {
        "customPlotOptions": {},
        "displayType": "table",
        "pivotAggregation": null,
        "pivotColumns": null,
        "xColumns": null,
        "yColumns": null
       },
       "removedWidgets": [],
       "schema": [
        {
         "metadata": "{}",
         "name": "transaction_id",
         "type": "\"integer\""
        },
        {
         "metadata": "{}",
         "name": "customer_name",
         "type": "\"string\""
        },
        {
         "metadata": "{}",
         "name": "region",
         "type": "\"string\""
        },
        {
         "metadata": "{}",
         "name": "product",
         "type": "\"string\""
        },
        {
         "metadata": "{}",
         "name": "category",
         "type": "\"string\""
        },
        {
         "metadata": "{}",
         "name": "quantity",
         "type": "\"integer\""
        },
        {
         "metadata": "{}",
         "name": "unit_price",
         "type": "\"integer\""
        },
        {
         "metadata": "{\"__detected_date_formats\": \"yyyy-M-d\"}",
         "name": "date",
         "type": "\"date\""
        }
       ],
       "type": "table"
      }
     },
     "output_type": "display_data"
    }
   ],
   "source": [
    "# Path of your uploaded CSV in DBFS\n",
    "csv_path = \"dbfs:/FileStore/tables/sales_transaction.csv\"\n",
    "\n",
    "# Read into DataFrame\n",
    "df = spark.read.format(\"csv\") \\\n",
    "    .option(\"header\", True) \\\n",
    "    .option(\"inferSchema\", True) \\\n",
    "    .load(csv_path)\n",
    "\n",
    "display(df)\n"
   ]
  },
  {
   "cell_type": "code",
   "execution_count": 0,
   "metadata": {
    "application/vnd.databricks.v1+cell": {
     "cellMetadata": {
      "byteLimit": 2048000,
      "rowLimit": 10000
     },
     "inputWidgets": {},
     "nuid": "54c91f31-63f3-477a-b579-aeeadbcbdda7",
     "showTitle": false,
     "tableResultSettingsMap": {},
     "title": ""
    }
   },
   "outputs": [],
   "source": [
    "#Save it in Parquet and Delta formats (in different folders\n",
    "# Output paths\n",
    "parquet_path = \"dbfs:/mnt/data/sales_transactions_parquet\"\n",
    "delta_path = \"dbfs:/mnt/data/sales_transactions_delta\"\n",
    "\n",
    "# Save as Parquet\n",
    "df.write.mode(\"overwrite\").parquet(parquet_path)\n",
    "\n",
    "# Save as Delta\n",
    "df.write.format(\"delta\").mode(\"overwrite\").save(delta_path)\n"
   ]
  },
  {
   "cell_type": "code",
   "execution_count": 0,
   "metadata": {
    "application/vnd.databricks.v1+cell": {
     "cellMetadata": {
      "byteLimit": 2048000,
      "rowLimit": 10000
     },
     "inputWidgets": {},
     "nuid": "8700b77e-fddb-4bb5-89e2-0b7c539353cc",
     "showTitle": false,
     "tableResultSettingsMap": {},
     "title": ""
    }
   },
   "outputs": [
    {
     "output_type": "execute_result",
     "data": {
      "text/plain": [
       "DataFrame[]"
      ]
     },
     "execution_count": 17,
     "metadata": {},
     "output_type": "execute_result"
    }
   ],
   "source": [
    "# Switch to local Hive metastore (not Unity Catalog)\n",
    "spark.sql(\"USE hive_metastore.default\")\n",
    "\n",
    "# Create table\n",
    "spark.sql(\"DROP TABLE IF EXISTS sales_transactions\")\n",
    "spark.sql(f\"\"\"\n",
    "    CREATE TABLE sales_transactions\n",
    "    USING DELTA\n",
    "    LOCATION '{delta_path}'\n",
    "\"\"\")\n",
    "\n"
   ]
  },
  {
   "cell_type": "markdown",
   "metadata": {
    "application/vnd.databricks.v1+cell": {
     "cellMetadata": {},
     "inputWidgets": {},
     "nuid": "e060660d-b72b-4962-ac91-61a7315145ee",
     "showTitle": false,
     "tableResultSettingsMap": {},
     "title": ""
    }
   },
   "source": [
    "**Task 2: Data Transformation**\n",
    "\n",
    "Add a new column total_amount = quantity × unit_price .\n",
    "\n",
    "Add another column month extracted from the date.\n",
    "\n",
    "Format date as dd-MMM-yyyy and display.\n",
    "\n",
    "Create a column is_high_value (TRUE if total_amount > 30,000 , else FALSE)."
   ]
  },
  {
   "cell_type": "code",
   "execution_count": 0,
   "metadata": {
    "application/vnd.databricks.v1+cell": {
     "cellMetadata": {
      "byteLimit": 2048000,
      "rowLimit": 10000
     },
     "inputWidgets": {},
     "nuid": "cd860597-f595-4138-a635-e0ce53bb610f",
     "showTitle": false,
     "tableResultSettingsMap": {},
     "title": ""
    }
   },
   "outputs": [
    {
     "output_type": "display_data",
     "data": {
      "text/html": [
       "<style scoped>\n",
       "  .table-result-container {\n",
       "    max-height: 300px;\n",
       "    overflow: auto;\n",
       "  }\n",
       "  table, th, td {\n",
       "    border: 1px solid black;\n",
       "    border-collapse: collapse;\n",
       "  }\n",
       "  th, td {\n",
       "    padding: 5px;\n",
       "  }\n",
       "  th {\n",
       "    text-align: left;\n",
       "  }\n",
       "</style><div class='table-result-container'><table class='table-result'><thead style='background-color: white'><tr><th>transaction_id</th><th>customer_name</th><th>region</th><th>product</th><th>category</th><th>quantity</th><th>unit_price</th><th>date</th><th>total_amount</th><th>month</th><th>date_formatted</th><th>is_high_value</th></tr></thead><tbody><tr><td>1</td><td>Rajesh</td><td>North</td><td>Laptop</td><td>Electronics</td><td>1</td><td>55000</td><td>2024-01-12</td><td>55000</td><td>1</td><td>12-Jan-2024</td><td>true</td></tr><tr><td>2</td><td>Sneha</td><td>West</td><td>Refrigerator</td><td>Electronics</td><td>1</td><td>32000</td><td>2024-02-05</td><td>32000</td><td>2</td><td>05-Feb-2024</td><td>true</td></tr><tr><td>3</td><td>Anil</td><td>South</td><td>Shampoo</td><td>Personal Care</td><td>5</td><td>150</td><td>2024-01-17</td><td>750</td><td>1</td><td>17-Jan-2024</td><td>false</td></tr><tr><td>4</td><td>Divya</td><td>North</td><td>Mobile</td><td>Electronics</td><td>2</td><td>20000</td><td>2024-03-22</td><td>40000</td><td>3</td><td>22-Mar-2024</td><td>true</td></tr><tr><td>5</td><td>Vikram</td><td>East</td><td>Washing Machine</td><td>Electronics</td><td>1</td><td>28000</td><td>2024-02-28</td><td>28000</td><td>2</td><td>28-Feb-2024</td><td>false</td></tr><tr><td>6</td><td>Preeti</td><td>West</td><td>Sneakers</td><td>Fashion</td><td>2</td><td>4000</td><td>2024-01-31</td><td>8000</td><td>1</td><td>31-Jan-2024</td><td>false</td></tr><tr><td>7</td><td>Aman</td><td>South</td><td>TV</td><td>Electronics</td><td>1</td><td>45000</td><td>2024-02-15</td><td>45000</td><td>2</td><td>15-Feb-2024</td><td>true</td></tr><tr><td>8</td><td>Isha</td><td>North</td><td>Notebook</td><td>Stationery</td><td>10</td><td>60</td><td>2024-01-10</td><td>600</td><td>1</td><td>10-Jan-2024</td><td>false</td></tr><tr><td>9</td><td>Kunal</td><td>East</td><td>Pencil</td><td>Stationery</td><td>20</td><td>10</td><td>2024-03-05</td><td>200</td><td>3</td><td>05-Mar-2024</td><td>false</td></tr><tr><td>10</td><td>Tanvi</td><td>West</td><td>Face Cream</td><td>Personal Care</td><td>3</td><td>200</td><td>2024-03-19</td><td>600</td><td>3</td><td>19-Mar-2024</td><td>false</td></tr></tbody></table></div>"
      ]
     },
     "metadata": {
      "application/vnd.databricks.v1+output": {
       "addedWidgets": {},
       "aggData": [],
       "aggError": "",
       "aggOverflow": false,
       "aggSchema": [],
       "aggSeriesLimitReached": false,
       "aggType": "",
       "arguments": {},
       "columnCustomDisplayInfos": {},
       "data": [
        [
         1,
         "Rajesh",
         "North",
         "Laptop",
         "Electronics",
         1,
         55000,
         "2024-01-12",
         55000,
         1,
         "12-Jan-2024",
         true
        ],
        [
         2,
         "Sneha",
         "West",
         "Refrigerator",
         "Electronics",
         1,
         32000,
         "2024-02-05",
         32000,
         2,
         "05-Feb-2024",
         true
        ],
        [
         3,
         "Anil",
         "South",
         "Shampoo",
         "Personal Care",
         5,
         150,
         "2024-01-17",
         750,
         1,
         "17-Jan-2024",
         false
        ],
        [
         4,
         "Divya",
         "North",
         "Mobile",
         "Electronics",
         2,
         20000,
         "2024-03-22",
         40000,
         3,
         "22-Mar-2024",
         true
        ],
        [
         5,
         "Vikram",
         "East",
         "Washing Machine",
         "Electronics",
         1,
         28000,
         "2024-02-28",
         28000,
         2,
         "28-Feb-2024",
         false
        ],
        [
         6,
         "Preeti",
         "West",
         "Sneakers",
         "Fashion",
         2,
         4000,
         "2024-01-31",
         8000,
         1,
         "31-Jan-2024",
         false
        ],
        [
         7,
         "Aman",
         "South",
         "TV",
         "Electronics",
         1,
         45000,
         "2024-02-15",
         45000,
         2,
         "15-Feb-2024",
         true
        ],
        [
         8,
         "Isha",
         "North",
         "Notebook",
         "Stationery",
         10,
         60,
         "2024-01-10",
         600,
         1,
         "10-Jan-2024",
         false
        ],
        [
         9,
         "Kunal",
         "East",
         "Pencil",
         "Stationery",
         20,
         10,
         "2024-03-05",
         200,
         3,
         "05-Mar-2024",
         false
        ],
        [
         10,
         "Tanvi",
         "West",
         "Face Cream",
         "Personal Care",
         3,
         200,
         "2024-03-19",
         600,
         3,
         "19-Mar-2024",
         false
        ]
       ],
       "datasetInfos": [],
       "dbfsResultPath": null,
       "isJsonSchema": true,
       "metadata": {},
       "overflow": false,
       "plotOptions": {
        "customPlotOptions": {},
        "displayType": "table",
        "pivotAggregation": null,
        "pivotColumns": null,
        "xColumns": null,
        "yColumns": null
       },
       "removedWidgets": [],
       "schema": [
        {
         "metadata": "{}",
         "name": "transaction_id",
         "type": "\"integer\""
        },
        {
         "metadata": "{}",
         "name": "customer_name",
         "type": "\"string\""
        },
        {
         "metadata": "{}",
         "name": "region",
         "type": "\"string\""
        },
        {
         "metadata": "{}",
         "name": "product",
         "type": "\"string\""
        },
        {
         "metadata": "{}",
         "name": "category",
         "type": "\"string\""
        },
        {
         "metadata": "{}",
         "name": "quantity",
         "type": "\"integer\""
        },
        {
         "metadata": "{}",
         "name": "unit_price",
         "type": "\"integer\""
        },
        {
         "metadata": "{\"__detected_date_formats\": \"yyyy-M-d\"}",
         "name": "date",
         "type": "\"date\""
        },
        {
         "metadata": "{}",
         "name": "total_amount",
         "type": "\"integer\""
        },
        {
         "metadata": "{}",
         "name": "month",
         "type": "\"integer\""
        },
        {
         "metadata": "{}",
         "name": "date_formatted",
         "type": "\"string\""
        },
        {
         "metadata": "{}",
         "name": "is_high_value",
         "type": "\"boolean\""
        }
       ],
       "type": "table"
      }
     },
     "output_type": "display_data"
    }
   ],
   "source": [
    "df = spark.read.format(\"delta\").load(delta_path)\n",
    "\n",
    "df = df.withColumn(\"total_amount\", col(\"quantity\") * col(\"unit_price\")) \\\n",
    "       .withColumn(\"month\", month(col(\"date\"))) \\\n",
    "       .withColumn(\"date_formatted\", date_format(col(\"date\"), \"dd-MMM-yyyy\")) \\\n",
    "       .withColumn(\"is_high_value\", when(col(\"total_amount\") > 30000, True).otherwise(False))\n",
    "\n",
    "display(df)"
   ]
  },
  {
   "cell_type": "markdown",
   "metadata": {
    "application/vnd.databricks.v1+cell": {
     "cellMetadata": {},
     "inputWidgets": {},
     "nuid": "d54f9938-6d72-46f8-9941-9e742551d374",
     "showTitle": false,
     "tableResultSettingsMap": {},
     "title": ""
    }
   },
   "source": [
    "**Task 3: Aggregations & Insights**\n",
    "\n",
    "Count transactions per region.\n",
    "\n",
    "Get top 3 categories by total sales amount.\n",
    "\n",
    "Find month-wise revenue trend.\n",
    "\n",
    "Show customer(s) who made the highest purchase in one transaction.\n",
    "\n",
    "Calculate total sales done in Q1 (Jan–Mar)"
   ]
  },
  {
   "cell_type": "code",
   "execution_count": 0,
   "metadata": {
    "application/vnd.databricks.v1+cell": {
     "cellMetadata": {
      "byteLimit": 2048000,
      "rowLimit": 10000
     },
     "inputWidgets": {},
     "nuid": "4be785ca-8b0a-4865-ba3e-6dcd880ab604",
     "showTitle": false,
     "tableResultSettingsMap": {},
     "title": ""
    }
   },
   "outputs": [
    {
     "output_type": "display_data",
     "data": {
      "text/html": [
       "<style scoped>\n",
       "  .table-result-container {\n",
       "    max-height: 300px;\n",
       "    overflow: auto;\n",
       "  }\n",
       "  table, th, td {\n",
       "    border: 1px solid black;\n",
       "    border-collapse: collapse;\n",
       "  }\n",
       "  th, td {\n",
       "    padding: 5px;\n",
       "  }\n",
       "  th {\n",
       "    text-align: left;\n",
       "  }\n",
       "</style><div class='table-result-container'><table class='table-result'><thead style='background-color: white'><tr><th>region</th><th>count</th></tr></thead><tbody><tr><td>West</td><td>3</td></tr><tr><td>East</td><td>2</td></tr><tr><td>North</td><td>3</td></tr><tr><td>South</td><td>2</td></tr></tbody></table></div>"
      ]
     },
     "metadata": {
      "application/vnd.databricks.v1+output": {
       "addedWidgets": {},
       "aggData": [],
       "aggError": "",
       "aggOverflow": false,
       "aggSchema": [],
       "aggSeriesLimitReached": false,
       "aggType": "",
       "arguments": {},
       "columnCustomDisplayInfos": {},
       "data": [
        [
         "West",
         3
        ],
        [
         "East",
         2
        ],
        [
         "North",
         3
        ],
        [
         "South",
         2
        ]
       ],
       "datasetInfos": [],
       "dbfsResultPath": null,
       "isJsonSchema": true,
       "metadata": {},
       "overflow": false,
       "plotOptions": {
        "customPlotOptions": {},
        "displayType": "table",
        "pivotAggregation": null,
        "pivotColumns": null,
        "xColumns": null,
        "yColumns": null
       },
       "removedWidgets": [],
       "schema": [
        {
         "metadata": "{}",
         "name": "region",
         "type": "\"string\""
        },
        {
         "metadata": "{}",
         "name": "count",
         "type": "\"long\""
        }
       ],
       "type": "table"
      }
     },
     "output_type": "display_data"
    }
   ],
   "source": [
    "# 3.1 Count transactions per region\n",
    "display(df.groupBy(\"region\").count())"
   ]
  },
  {
   "cell_type": "code",
   "execution_count": 0,
   "metadata": {
    "application/vnd.databricks.v1+cell": {
     "cellMetadata": {
      "byteLimit": 2048000,
      "rowLimit": 10000
     },
     "inputWidgets": {},
     "nuid": "0fe91365-1d7c-4111-ac79-6f7d553e1536",
     "showTitle": false,
     "tableResultSettingsMap": {},
     "title": ""
    }
   },
   "outputs": [
    {
     "output_type": "display_data",
     "data": {
      "text/html": [
       "<style scoped>\n",
       "  .table-result-container {\n",
       "    max-height: 300px;\n",
       "    overflow: auto;\n",
       "  }\n",
       "  table, th, td {\n",
       "    border: 1px solid black;\n",
       "    border-collapse: collapse;\n",
       "  }\n",
       "  th, td {\n",
       "    padding: 5px;\n",
       "  }\n",
       "  th {\n",
       "    text-align: left;\n",
       "  }\n",
       "</style><div class='table-result-container'><table class='table-result'><thead style='background-color: white'><tr><th>category</th><th>total_sales</th></tr></thead><tbody><tr><td>Electronics</td><td>200000</td></tr><tr><td>Fashion</td><td>8000</td></tr><tr><td>Personal Care</td><td>1350</td></tr></tbody></table></div>"
      ]
     },
     "metadata": {
      "application/vnd.databricks.v1+output": {
       "addedWidgets": {},
       "aggData": [],
       "aggError": "",
       "aggOverflow": false,
       "aggSchema": [],
       "aggSeriesLimitReached": false,
       "aggType": "",
       "arguments": {},
       "columnCustomDisplayInfos": {},
       "data": [
        [
         "Electronics",
         200000
        ],
        [
         "Fashion",
         8000
        ],
        [
         "Personal Care",
         1350
        ]
       ],
       "datasetInfos": [],
       "dbfsResultPath": null,
       "isJsonSchema": true,
       "metadata": {},
       "overflow": false,
       "plotOptions": {
        "customPlotOptions": {},
        "displayType": "table",
        "pivotAggregation": null,
        "pivotColumns": null,
        "xColumns": null,
        "yColumns": null
       },
       "removedWidgets": [],
       "schema": [
        {
         "metadata": "{}",
         "name": "category",
         "type": "\"string\""
        },
        {
         "metadata": "{}",
         "name": "total_sales",
         "type": "\"long\""
        }
       ],
       "type": "table"
      }
     },
     "output_type": "display_data"
    }
   ],
   "source": [
    "# 3.2 Top 3 categories by total sales\n",
    "display(df.groupBy(\"category\")\n",
    "          .agg(spark_sum(\"total_amount\").alias(\"total_sales\"))\n",
    "          .orderBy(col(\"total_sales\").desc())\n",
    "          .limit(3))"
   ]
  },
  {
   "cell_type": "code",
   "execution_count": 0,
   "metadata": {
    "application/vnd.databricks.v1+cell": {
     "cellMetadata": {
      "byteLimit": 2048000,
      "rowLimit": 10000
     },
     "inputWidgets": {},
     "nuid": "396fcd4a-83a9-4c6d-92f6-1c14352942ad",
     "showTitle": false,
     "tableResultSettingsMap": {},
     "title": ""
    }
   },
   "outputs": [
    {
     "output_type": "display_data",
     "data": {
      "text/html": [
       "<style scoped>\n",
       "  .table-result-container {\n",
       "    max-height: 300px;\n",
       "    overflow: auto;\n",
       "  }\n",
       "  table, th, td {\n",
       "    border: 1px solid black;\n",
       "    border-collapse: collapse;\n",
       "  }\n",
       "  th, td {\n",
       "    padding: 5px;\n",
       "  }\n",
       "  th {\n",
       "    text-align: left;\n",
       "  }\n",
       "</style><div class='table-result-container'><table class='table-result'><thead style='background-color: white'><tr><th>month</th><th>monthly_revenue</th></tr></thead><tbody><tr><td>1</td><td>64350</td></tr><tr><td>2</td><td>105000</td></tr><tr><td>3</td><td>40800</td></tr></tbody></table></div>"
      ]
     },
     "metadata": {
      "application/vnd.databricks.v1+output": {
       "addedWidgets": {},
       "aggData": [],
       "aggError": "",
       "aggOverflow": false,
       "aggSchema": [],
       "aggSeriesLimitReached": false,
       "aggType": "",
       "arguments": {},
       "columnCustomDisplayInfos": {},
       "data": [
        [
         1,
         64350
        ],
        [
         2,
         105000
        ],
        [
         3,
         40800
        ]
       ],
       "datasetInfos": [],
       "dbfsResultPath": null,
       "isJsonSchema": true,
       "metadata": {},
       "overflow": false,
       "plotOptions": {
        "customPlotOptions": {},
        "displayType": "table",
        "pivotAggregation": null,
        "pivotColumns": null,
        "xColumns": null,
        "yColumns": null
       },
       "removedWidgets": [],
       "schema": [
        {
         "metadata": "{}",
         "name": "month",
         "type": "\"integer\""
        },
        {
         "metadata": "{}",
         "name": "monthly_revenue",
         "type": "\"long\""
        }
       ],
       "type": "table"
      }
     },
     "output_type": "display_data"
    }
   ],
   "source": [
    "# 3.3 Month-wise revenue trend\n",
    "display(df.groupBy(\"month\")\n",
    "          .agg(spark_sum(\"total_amount\").alias(\"monthly_revenue\"))\n",
    "          .orderBy(\"month\"))"
   ]
  },
  {
   "cell_type": "code",
   "execution_count": 0,
   "metadata": {
    "application/vnd.databricks.v1+cell": {
     "cellMetadata": {
      "byteLimit": 2048000,
      "rowLimit": 10000
     },
     "inputWidgets": {},
     "nuid": "40128844-7873-4fa9-b48c-561a45f3ee59",
     "showTitle": false,
     "tableResultSettingsMap": {},
     "title": ""
    }
   },
   "outputs": [
    {
     "output_type": "display_data",
     "data": {
      "text/html": [
       "<style scoped>\n",
       "  .table-result-container {\n",
       "    max-height: 300px;\n",
       "    overflow: auto;\n",
       "  }\n",
       "  table, th, td {\n",
       "    border: 1px solid black;\n",
       "    border-collapse: collapse;\n",
       "  }\n",
       "  th, td {\n",
       "    padding: 5px;\n",
       "  }\n",
       "  th {\n",
       "    text-align: left;\n",
       "  }\n",
       "</style><div class='table-result-container'><table class='table-result'><thead style='background-color: white'><tr><th>transaction_id</th><th>customer_name</th><th>region</th><th>product</th><th>category</th><th>quantity</th><th>unit_price</th><th>date</th><th>total_amount</th><th>month</th><th>date_formatted</th><th>is_high_value</th></tr></thead><tbody><tr><td>1</td><td>Rajesh</td><td>North</td><td>Laptop</td><td>Electronics</td><td>1</td><td>55000</td><td>2024-01-12</td><td>55000</td><td>1</td><td>12-Jan-2024</td><td>true</td></tr></tbody></table></div>"
      ]
     },
     "metadata": {
      "application/vnd.databricks.v1+output": {
       "addedWidgets": {},
       "aggData": [],
       "aggError": "",
       "aggOverflow": false,
       "aggSchema": [],
       "aggSeriesLimitReached": false,
       "aggType": "",
       "arguments": {},
       "columnCustomDisplayInfos": {},
       "data": [
        [
         1,
         "Rajesh",
         "North",
         "Laptop",
         "Electronics",
         1,
         55000,
         "2024-01-12",
         55000,
         1,
         "12-Jan-2024",
         true
        ]
       ],
       "datasetInfos": [],
       "dbfsResultPath": null,
       "isJsonSchema": true,
       "metadata": {},
       "overflow": false,
       "plotOptions": {
        "customPlotOptions": {},
        "displayType": "table",
        "pivotAggregation": null,
        "pivotColumns": null,
        "xColumns": null,
        "yColumns": null
       },
       "removedWidgets": [],
       "schema": [
        {
         "metadata": "{}",
         "name": "transaction_id",
         "type": "\"integer\""
        },
        {
         "metadata": "{}",
         "name": "customer_name",
         "type": "\"string\""
        },
        {
         "metadata": "{}",
         "name": "region",
         "type": "\"string\""
        },
        {
         "metadata": "{}",
         "name": "product",
         "type": "\"string\""
        },
        {
         "metadata": "{}",
         "name": "category",
         "type": "\"string\""
        },
        {
         "metadata": "{}",
         "name": "quantity",
         "type": "\"integer\""
        },
        {
         "metadata": "{}",
         "name": "unit_price",
         "type": "\"integer\""
        },
        {
         "metadata": "{\"__detected_date_formats\": \"yyyy-M-d\"}",
         "name": "date",
         "type": "\"date\""
        },
        {
         "metadata": "{}",
         "name": "total_amount",
         "type": "\"integer\""
        },
        {
         "metadata": "{}",
         "name": "month",
         "type": "\"integer\""
        },
        {
         "metadata": "{}",
         "name": "date_formatted",
         "type": "\"string\""
        },
        {
         "metadata": "{}",
         "name": "is_high_value",
         "type": "\"boolean\""
        }
       ],
       "type": "table"
      }
     },
     "output_type": "display_data"
    }
   ],
   "source": [
    "# 3.4 Customer(s) with highest single transaction\n",
    "max_amt = df.agg(spark_max(\"total_amount\").alias(\"max_purchase\")).collect()[0][\"max_purchase\"]\n",
    "display(df.filter(col(\"total_amount\") == max_amt))\n"
   ]
  },
  {
   "cell_type": "code",
   "execution_count": 0,
   "metadata": {
    "application/vnd.databricks.v1+cell": {
     "cellMetadata": {
      "byteLimit": 2048000,
      "rowLimit": 10000
     },
     "inputWidgets": {},
     "nuid": "00b77655-693f-455f-9bc3-9770fb3dd28d",
     "showTitle": false,
     "tableResultSettingsMap": {},
     "title": ""
    }
   },
   "outputs": [
    {
     "output_type": "display_data",
     "data": {
      "text/html": [
       "<style scoped>\n",
       "  .table-result-container {\n",
       "    max-height: 300px;\n",
       "    overflow: auto;\n",
       "  }\n",
       "  table, th, td {\n",
       "    border: 1px solid black;\n",
       "    border-collapse: collapse;\n",
       "  }\n",
       "  th, td {\n",
       "    padding: 5px;\n",
       "  }\n",
       "  th {\n",
       "    text-align: left;\n",
       "  }\n",
       "</style><div class='table-result-container'><table class='table-result'><thead style='background-color: white'><tr><th>Q1_sales</th></tr></thead><tbody><tr><td>210150</td></tr></tbody></table></div>"
      ]
     },
     "metadata": {
      "application/vnd.databricks.v1+output": {
       "addedWidgets": {},
       "aggData": [],
       "aggError": "",
       "aggOverflow": false,
       "aggSchema": [],
       "aggSeriesLimitReached": false,
       "aggType": "",
       "arguments": {},
       "columnCustomDisplayInfos": {},
       "data": [
        [
         210150
        ]
       ],
       "datasetInfos": [],
       "dbfsResultPath": null,
       "isJsonSchema": true,
       "metadata": {},
       "overflow": false,
       "plotOptions": {
        "customPlotOptions": {},
        "displayType": "table",
        "pivotAggregation": null,
        "pivotColumns": null,
        "xColumns": null,
        "yColumns": null
       },
       "removedWidgets": [],
       "schema": [
        {
         "metadata": "{}",
         "name": "Q1_sales",
         "type": "\"long\""
        }
       ],
       "type": "table"
      }
     },
     "output_type": "display_data"
    }
   ],
   "source": [
    "# 3.5 Total sales in Q1\n",
    "display(df.filter(col(\"month\").between(1, 3))\n",
    "          .agg(spark_sum(\"total_amount\").alias(\"Q1_sales\")))"
   ]
  },
  {
   "cell_type": "markdown",
   "metadata": {
    "application/vnd.databricks.v1+cell": {
     "cellMetadata": {},
     "inputWidgets": {},
     "nuid": "fd00123d-a3c2-4230-bc2d-aef595aacc7e",
     "showTitle": false,
     "tableResultSettingsMap": {},
     "title": ""
    }
   },
   "source": [
    "**Task 4: Update & Delete Scenarios**\n",
    "\n",
    "Update price of all Stationery items to increase by 10%.\n",
    "\n",
    "Delete all records with quantity < 3 .\n",
    "\n",
    "Add a new row into the Delta Table with today's transaction"
   ]
  },
  {
   "cell_type": "code",
   "execution_count": 0,
   "metadata": {
    "application/vnd.databricks.v1+cell": {
     "cellMetadata": {
      "byteLimit": 2048000,
      "rowLimit": 10000
     },
     "inputWidgets": {},
     "nuid": "96d4fb1a-1f13-4b26-82f4-73d5c432a1c2",
     "showTitle": false,
     "tableResultSettingsMap": {},
     "title": ""
    }
   },
   "outputs": [
    {
     "output_type": "display_data",
     "data": {
      "text/html": [
       "<style scoped>\n",
       "  .table-result-container {\n",
       "    max-height: 300px;\n",
       "    overflow: auto;\n",
       "  }\n",
       "  table, th, td {\n",
       "    border: 1px solid black;\n",
       "    border-collapse: collapse;\n",
       "  }\n",
       "  th, td {\n",
       "    padding: 5px;\n",
       "  }\n",
       "  th {\n",
       "    text-align: left;\n",
       "  }\n",
       "</style><div class='table-result-container'><table class='table-result'><thead style='background-color: white'><tr><th>transaction_id</th><th>customer_name</th><th>region</th><th>product</th><th>category</th><th>quantity</th><th>unit_price</th><th>date</th></tr></thead><tbody><tr><td>1</td><td>Rajesh</td><td>North</td><td>Laptop</td><td>Electronics</td><td>1</td><td>55000</td><td>2024-01-12</td></tr><tr><td>2</td><td>Sneha</td><td>West</td><td>Refrigerator</td><td>Electronics</td><td>1</td><td>32000</td><td>2024-02-05</td></tr><tr><td>3</td><td>Anil</td><td>South</td><td>Shampoo</td><td>Personal Care</td><td>5</td><td>150</td><td>2024-01-17</td></tr><tr><td>4</td><td>Divya</td><td>North</td><td>Mobile</td><td>Electronics</td><td>2</td><td>20000</td><td>2024-03-22</td></tr><tr><td>5</td><td>Vikram</td><td>East</td><td>Washing Machine</td><td>Electronics</td><td>1</td><td>28000</td><td>2024-02-28</td></tr><tr><td>6</td><td>Preeti</td><td>West</td><td>Sneakers</td><td>Fashion</td><td>2</td><td>4000</td><td>2024-01-31</td></tr><tr><td>7</td><td>Aman</td><td>South</td><td>TV</td><td>Electronics</td><td>1</td><td>45000</td><td>2024-02-15</td></tr><tr><td>10</td><td>Tanvi</td><td>West</td><td>Face Cream</td><td>Personal Care</td><td>3</td><td>200</td><td>2024-03-19</td></tr><tr><td>8</td><td>Isha</td><td>North</td><td>Notebook</td><td>Stationery</td><td>10</td><td>72</td><td>2024-01-10</td></tr><tr><td>9</td><td>Kunal</td><td>East</td><td>Pencil</td><td>Stationery</td><td>20</td><td>12</td><td>2024-03-05</td></tr></tbody></table></div>"
      ]
     },
     "metadata": {
      "application/vnd.databricks.v1+output": {
       "addedWidgets": {},
       "aggData": [],
       "aggError": "",
       "aggOverflow": false,
       "aggSchema": [],
       "aggSeriesLimitReached": false,
       "aggType": "",
       "arguments": {},
       "columnCustomDisplayInfos": {},
       "data": [
        [
         1,
         "Rajesh",
         "North",
         "Laptop",
         "Electronics",
         1,
         55000,
         "2024-01-12"
        ],
        [
         2,
         "Sneha",
         "West",
         "Refrigerator",
         "Electronics",
         1,
         32000,
         "2024-02-05"
        ],
        [
         3,
         "Anil",
         "South",
         "Shampoo",
         "Personal Care",
         5,
         150,
         "2024-01-17"
        ],
        [
         4,
         "Divya",
         "North",
         "Mobile",
         "Electronics",
         2,
         20000,
         "2024-03-22"
        ],
        [
         5,
         "Vikram",
         "East",
         "Washing Machine",
         "Electronics",
         1,
         28000,
         "2024-02-28"
        ],
        [
         6,
         "Preeti",
         "West",
         "Sneakers",
         "Fashion",
         2,
         4000,
         "2024-01-31"
        ],
        [
         7,
         "Aman",
         "South",
         "TV",
         "Electronics",
         1,
         45000,
         "2024-02-15"
        ],
        [
         10,
         "Tanvi",
         "West",
         "Face Cream",
         "Personal Care",
         3,
         200,
         "2024-03-19"
        ],
        [
         8,
         "Isha",
         "North",
         "Notebook",
         "Stationery",
         10,
         72,
         "2024-01-10"
        ],
        [
         9,
         "Kunal",
         "East",
         "Pencil",
         "Stationery",
         20,
         12,
         "2024-03-05"
        ]
       ],
       "datasetInfos": [],
       "dbfsResultPath": null,
       "isJsonSchema": true,
       "metadata": {},
       "overflow": false,
       "plotOptions": {
        "customPlotOptions": {},
        "displayType": "table",
        "pivotAggregation": null,
        "pivotColumns": null,
        "xColumns": null,
        "yColumns": null
       },
       "removedWidgets": [],
       "schema": [
        {
         "metadata": "{}",
         "name": "transaction_id",
         "type": "\"integer\""
        },
        {
         "metadata": "{}",
         "name": "customer_name",
         "type": "\"string\""
        },
        {
         "metadata": "{}",
         "name": "region",
         "type": "\"string\""
        },
        {
         "metadata": "{}",
         "name": "product",
         "type": "\"string\""
        },
        {
         "metadata": "{}",
         "name": "category",
         "type": "\"string\""
        },
        {
         "metadata": "{}",
         "name": "quantity",
         "type": "\"integer\""
        },
        {
         "metadata": "{}",
         "name": "unit_price",
         "type": "\"integer\""
        },
        {
         "metadata": "{\"__detected_date_formats\": \"yyyy-M-d\"}",
         "name": "date",
         "type": "\"date\""
        }
       ],
       "type": "table"
      }
     },
     "output_type": "display_data"
    }
   ],
   "source": [
    "deltaTable = DeltaTable.forPath(spark, delta_path)\n",
    "\n",
    "# 4.1 Update price of Stationery items (+10%)\n",
    "deltaTable.update(\n",
    "    condition=col(\"category\") == \"Stationery\",\n",
    "    set={\"unit_price\": col(\"unit_price\") * 1.10}\n",
    ")\n",
    "display(deltaTable.toDF())\n"
   ]
  },
  {
   "cell_type": "code",
   "execution_count": 0,
   "metadata": {
    "application/vnd.databricks.v1+cell": {
     "cellMetadata": {
      "byteLimit": 2048000,
      "rowLimit": 10000
     },
     "inputWidgets": {},
     "nuid": "fca8e9c7-c715-43fb-a64c-773cfe8598e6",
     "showTitle": false,
     "tableResultSettingsMap": {},
     "title": ""
    }
   },
   "outputs": [
    {
     "output_type": "display_data",
     "data": {
      "text/html": [
       "<style scoped>\n",
       "  .table-result-container {\n",
       "    max-height: 300px;\n",
       "    overflow: auto;\n",
       "  }\n",
       "  table, th, td {\n",
       "    border: 1px solid black;\n",
       "    border-collapse: collapse;\n",
       "  }\n",
       "  th, td {\n",
       "    padding: 5px;\n",
       "  }\n",
       "  th {\n",
       "    text-align: left;\n",
       "  }\n",
       "</style><div class='table-result-container'><table class='table-result'><thead style='background-color: white'><tr><th>transaction_id</th><th>customer_name</th><th>region</th><th>product</th><th>category</th><th>quantity</th><th>unit_price</th><th>date</th></tr></thead><tbody><tr><td>8</td><td>Isha</td><td>North</td><td>Notebook</td><td>Stationery</td><td>10</td><td>72</td><td>2024-01-10</td></tr><tr><td>9</td><td>Kunal</td><td>East</td><td>Pencil</td><td>Stationery</td><td>20</td><td>12</td><td>2024-03-05</td></tr><tr><td>3</td><td>Anil</td><td>South</td><td>Shampoo</td><td>Personal Care</td><td>5</td><td>150</td><td>2024-01-17</td></tr><tr><td>10</td><td>Tanvi</td><td>West</td><td>Face Cream</td><td>Personal Care</td><td>3</td><td>200</td><td>2024-03-19</td></tr></tbody></table></div>"
      ]
     },
     "metadata": {
      "application/vnd.databricks.v1+output": {
       "addedWidgets": {},
       "aggData": [],
       "aggError": "",
       "aggOverflow": false,
       "aggSchema": [],
       "aggSeriesLimitReached": false,
       "aggType": "",
       "arguments": {},
       "columnCustomDisplayInfos": {},
       "data": [
        [
         8,
         "Isha",
         "North",
         "Notebook",
         "Stationery",
         10,
         72,
         "2024-01-10"
        ],
        [
         9,
         "Kunal",
         "East",
         "Pencil",
         "Stationery",
         20,
         12,
         "2024-03-05"
        ],
        [
         3,
         "Anil",
         "South",
         "Shampoo",
         "Personal Care",
         5,
         150,
         "2024-01-17"
        ],
        [
         10,
         "Tanvi",
         "West",
         "Face Cream",
         "Personal Care",
         3,
         200,
         "2024-03-19"
        ]
       ],
       "datasetInfos": [],
       "dbfsResultPath": null,
       "isJsonSchema": true,
       "metadata": {},
       "overflow": false,
       "plotOptions": {
        "customPlotOptions": {},
        "displayType": "table",
        "pivotAggregation": null,
        "pivotColumns": null,
        "xColumns": null,
        "yColumns": null
       },
       "removedWidgets": [],
       "schema": [
        {
         "metadata": "{}",
         "name": "transaction_id",
         "type": "\"integer\""
        },
        {
         "metadata": "{}",
         "name": "customer_name",
         "type": "\"string\""
        },
        {
         "metadata": "{}",
         "name": "region",
         "type": "\"string\""
        },
        {
         "metadata": "{}",
         "name": "product",
         "type": "\"string\""
        },
        {
         "metadata": "{}",
         "name": "category",
         "type": "\"string\""
        },
        {
         "metadata": "{}",
         "name": "quantity",
         "type": "\"integer\""
        },
        {
         "metadata": "{}",
         "name": "unit_price",
         "type": "\"integer\""
        },
        {
         "metadata": "{\"__detected_date_formats\": \"yyyy-M-d\"}",
         "name": "date",
         "type": "\"date\""
        }
       ],
       "type": "table"
      }
     },
     "output_type": "display_data"
    }
   ],
   "source": [
    "# 4.2 Delete records with quantity < 3\n",
    "deltaTable.delete(condition=col(\"quantity\") < 3)\n",
    "display(deltaTable.toDF())"
   ]
  },
  {
   "cell_type": "code",
   "execution_count": 0,
   "metadata": {
    "application/vnd.databricks.v1+cell": {
     "cellMetadata": {
      "byteLimit": 2048000,
      "rowLimit": 10000
     },
     "inputWidgets": {},
     "nuid": "4a57e33a-a432-4db0-af5b-5fdabcf03f2e",
     "showTitle": false,
     "tableResultSettingsMap": {},
     "title": ""
    }
   },
   "outputs": [
    {
     "output_type": "display_data",
     "data": {
      "text/html": [
       "<style scoped>\n",
       "  .table-result-container {\n",
       "    max-height: 300px;\n",
       "    overflow: auto;\n",
       "  }\n",
       "  table, th, td {\n",
       "    border: 1px solid black;\n",
       "    border-collapse: collapse;\n",
       "  }\n",
       "  th, td {\n",
       "    padding: 5px;\n",
       "  }\n",
       "  th {\n",
       "    text-align: left;\n",
       "  }\n",
       "</style><div class='table-result-container'><table class='table-result'><thead style='background-color: white'><tr><th>transaction_id</th><th>customer_name</th><th>region</th><th>product</th><th>category</th><th>quantity</th><th>unit_price</th><th>date</th></tr></thead><tbody><tr><td>8</td><td>Isha</td><td>North</td><td>Notebook</td><td>Stationery</td><td>10</td><td>72</td><td>2024-01-10</td></tr><tr><td>9</td><td>Kunal</td><td>East</td><td>Pencil</td><td>Stationery</td><td>20</td><td>12</td><td>2024-03-05</td></tr><tr><td>3</td><td>Anil</td><td>South</td><td>Shampoo</td><td>Personal Care</td><td>5</td><td>150</td><td>2024-01-17</td></tr><tr><td>10</td><td>Tanvi</td><td>West</td><td>Face Cream</td><td>Personal Care</td><td>3</td><td>200</td><td>2024-03-19</td></tr><tr><td>11</td><td>Satej</td><td>South</td><td>Smartwatch</td><td>Electronics</td><td>1</td><td>15000</td><td>2025-08-08</td></tr></tbody></table></div>"
      ]
     },
     "metadata": {
      "application/vnd.databricks.v1+output": {
       "addedWidgets": {},
       "aggData": [],
       "aggError": "",
       "aggOverflow": false,
       "aggSchema": [],
       "aggSeriesLimitReached": false,
       "aggType": "",
       "arguments": {},
       "columnCustomDisplayInfos": {},
       "data": [
        [
         8,
         "Isha",
         "North",
         "Notebook",
         "Stationery",
         10,
         72,
         "2024-01-10"
        ],
        [
         9,
         "Kunal",
         "East",
         "Pencil",
         "Stationery",
         20,
         12,
         "2024-03-05"
        ],
        [
         3,
         "Anil",
         "South",
         "Shampoo",
         "Personal Care",
         5,
         150,
         "2024-01-17"
        ],
        [
         10,
         "Tanvi",
         "West",
         "Face Cream",
         "Personal Care",
         3,
         200,
         "2024-03-19"
        ],
        [
         11,
         "Satej",
         "South",
         "Smartwatch",
         "Electronics",
         1,
         15000,
         "2025-08-08"
        ]
       ],
       "datasetInfos": [],
       "dbfsResultPath": null,
       "isJsonSchema": true,
       "metadata": {},
       "overflow": false,
       "plotOptions": {
        "customPlotOptions": {},
        "displayType": "table",
        "pivotAggregation": null,
        "pivotColumns": null,
        "xColumns": null,
        "yColumns": null
       },
       "removedWidgets": [],
       "schema": [
        {
         "metadata": "{}",
         "name": "transaction_id",
         "type": "\"integer\""
        },
        {
         "metadata": "{}",
         "name": "customer_name",
         "type": "\"string\""
        },
        {
         "metadata": "{}",
         "name": "region",
         "type": "\"string\""
        },
        {
         "metadata": "{}",
         "name": "product",
         "type": "\"string\""
        },
        {
         "metadata": "{}",
         "name": "category",
         "type": "\"string\""
        },
        {
         "metadata": "{}",
         "name": "quantity",
         "type": "\"integer\""
        },
        {
         "metadata": "{}",
         "name": "unit_price",
         "type": "\"integer\""
        },
        {
         "metadata": "{\"__detected_date_formats\": \"yyyy-M-d\"}",
         "name": "date",
         "type": "\"date\""
        }
       ],
       "type": "table"
      }
     },
     "output_type": "display_data"
    }
   ],
   "source": [
    "# Load existing Delta table\n",
    "delta_table = DeltaTable.forPath(spark, delta_path)\n",
    "\n",
    "# New transaction row\n",
    "new_data = [\n",
    "    (11, \"Satej\", \"South\", \"Smartwatch\", \"Electronics\", 1, 15000, datetime.today().strftime(\"%Y-%m-%d\"))\n",
    "]\n",
    "\n",
    "# Create DataFrame with matching columns\n",
    "update_df = spark.createDataFrame(new_data, [\n",
    "    \"transaction_id\", \"customer_name\", \"region\", \"product\", \"category\", \"quantity\", \"unit_price\", \"date\"\n",
    "])\n",
    "\n",
    "# Perform merge (update if transaction_id exists, else insert)\n",
    "delta_table.alias(\"target\").merge(\n",
    "    update_df.alias(\"source\"),\n",
    "    \"target.transaction_id = source.transaction_id\"\n",
    ").whenMatchedUpdateAll(\n",
    ").whenNotMatchedInsertAll(\n",
    ").execute()\n",
    "\n",
    "# Display final table\n",
    "delta_table.toDF().display()"
   ]
  },
  {
   "cell_type": "markdown",
   "metadata": {
    "application/vnd.databricks.v1+cell": {
     "cellMetadata": {},
     "inputWidgets": {},
     "nuid": "b3e36ba8-de05-4299-b554-0e4bff4425ef",
     "showTitle": false,
     "tableResultSettingsMap": {},
     "title": ""
    }
   },
   "source": [
    "** Task 5: Partitioning & Optimization (Bonus)**\n",
    "\n",
    "Re-write the Delta table partitioned by region .\n",
    "\n",
    "Create a second Delta table partitioned by month .\n",
    "\n",
    "Optimize using Z-Ordering (if Databricks)"
   ]
  },
  {
   "cell_type": "code",
   "execution_count": 0,
   "metadata": {
    "application/vnd.databricks.v1+cell": {
     "cellMetadata": {
      "byteLimit": 2048000,
      "rowLimit": 10000
     },
     "inputWidgets": {},
     "nuid": "a7b6720c-dfc9-4419-974a-163915eff5d0",
     "showTitle": false,
     "tableResultSettingsMap": {},
     "title": ""
    }
   },
   "outputs": [
    {
     "output_type": "stream",
     "name": "stdout",
     "output_type": "stream",
     "text": [
      "Partitioned by region table created.\n"
     ]
    },
    {
     "output_type": "display_data",
     "data": {
      "text/html": [
       "<style scoped>\n",
       "  .table-result-container {\n",
       "    max-height: 300px;\n",
       "    overflow: auto;\n",
       "  }\n",
       "  table, th, td {\n",
       "    border: 1px solid black;\n",
       "    border-collapse: collapse;\n",
       "  }\n",
       "  th, td {\n",
       "    padding: 5px;\n",
       "  }\n",
       "  th {\n",
       "    text-align: left;\n",
       "  }\n",
       "</style><div class='table-result-container'><table class='table-result'><thead style='background-color: white'><tr><th>transaction_id</th><th>customer_name</th><th>region</th><th>product</th><th>category</th><th>quantity</th><th>unit_price</th><th>date</th><th>month</th></tr></thead><tbody><tr><td>3</td><td>Anil</td><td>South</td><td>Shampoo</td><td>Personal Care</td><td>5</td><td>150</td><td>2024-01-17</td><td>1</td></tr><tr><td>11</td><td>Satej</td><td>South</td><td>Smartwatch</td><td>Electronics</td><td>1</td><td>15000</td><td>2025-08-08</td><td>8</td></tr><tr><td>10</td><td>Tanvi</td><td>West</td><td>Face Cream</td><td>Personal Care</td><td>3</td><td>200</td><td>2024-03-19</td><td>3</td></tr><tr><td>8</td><td>Isha</td><td>North</td><td>Notebook</td><td>Stationery</td><td>10</td><td>72</td><td>2024-01-10</td><td>1</td></tr><tr><td>9</td><td>Kunal</td><td>East</td><td>Pencil</td><td>Stationery</td><td>20</td><td>12</td><td>2024-03-05</td><td>3</td></tr></tbody></table></div>"
      ]
     },
     "metadata": {
      "application/vnd.databricks.v1+output": {
       "addedWidgets": {},
       "aggData": [],
       "aggError": "",
       "aggOverflow": false,
       "aggSchema": [],
       "aggSeriesLimitReached": false,
       "aggType": "",
       "arguments": {},
       "columnCustomDisplayInfos": {},
       "data": [
        [
         3,
         "Anil",
         "South",
         "Shampoo",
         "Personal Care",
         5,
         150,
         "2024-01-17",
         1
        ],
        [
         11,
         "Satej",
         "South",
         "Smartwatch",
         "Electronics",
         1,
         15000,
         "2025-08-08",
         8
        ],
        [
         10,
         "Tanvi",
         "West",
         "Face Cream",
         "Personal Care",
         3,
         200,
         "2024-03-19",
         3
        ],
        [
         8,
         "Isha",
         "North",
         "Notebook",
         "Stationery",
         10,
         72,
         "2024-01-10",
         1
        ],
        [
         9,
         "Kunal",
         "East",
         "Pencil",
         "Stationery",
         20,
         12,
         "2024-03-05",
         3
        ]
       ],
       "datasetInfos": [],
       "dbfsResultPath": null,
       "isJsonSchema": true,
       "metadata": {},
       "overflow": false,
       "plotOptions": {
        "customPlotOptions": {},
        "displayType": "table",
        "pivotAggregation": null,
        "pivotColumns": null,
        "xColumns": null,
        "yColumns": null
       },
       "removedWidgets": [],
       "schema": [
        {
         "metadata": "{}",
         "name": "transaction_id",
         "type": "\"integer\""
        },
        {
         "metadata": "{}",
         "name": "customer_name",
         "type": "\"string\""
        },
        {
         "metadata": "{}",
         "name": "region",
         "type": "\"string\""
        },
        {
         "metadata": "{}",
         "name": "product",
         "type": "\"string\""
        },
        {
         "metadata": "{}",
         "name": "category",
         "type": "\"string\""
        },
        {
         "metadata": "{}",
         "name": "quantity",
         "type": "\"integer\""
        },
        {
         "metadata": "{}",
         "name": "unit_price",
         "type": "\"integer\""
        },
        {
         "metadata": "{\"__detected_date_formats\": \"yyyy-M-d\"}",
         "name": "date",
         "type": "\"date\""
        },
        {
         "metadata": "{}",
         "name": "month",
         "type": "\"integer\""
        }
       ],
       "type": "table"
      }
     },
     "output_type": "display_data"
    },
    {
     "output_type": "stream",
     "name": "stdout",
     "output_type": "stream",
     "text": [
      "Partitioned by month table created.\n"
     ]
    },
    {
     "output_type": "display_data",
     "data": {
      "text/html": [
       "<style scoped>\n",
       "  .table-result-container {\n",
       "    max-height: 300px;\n",
       "    overflow: auto;\n",
       "  }\n",
       "  table, th, td {\n",
       "    border: 1px solid black;\n",
       "    border-collapse: collapse;\n",
       "  }\n",
       "  th, td {\n",
       "    padding: 5px;\n",
       "  }\n",
       "  th {\n",
       "    text-align: left;\n",
       "  }\n",
       "</style><div class='table-result-container'><table class='table-result'><thead style='background-color: white'><tr><th>transaction_id</th><th>customer_name</th><th>region</th><th>product</th><th>category</th><th>quantity</th><th>unit_price</th><th>date</th><th>month</th></tr></thead><tbody><tr><td>9</td><td>Kunal</td><td>East</td><td>Pencil</td><td>Stationery</td><td>20</td><td>12</td><td>2024-03-05</td><td>3</td></tr><tr><td>10</td><td>Tanvi</td><td>West</td><td>Face Cream</td><td>Personal Care</td><td>3</td><td>200</td><td>2024-03-19</td><td>3</td></tr><tr><td>8</td><td>Isha</td><td>North</td><td>Notebook</td><td>Stationery</td><td>10</td><td>72</td><td>2024-01-10</td><td>1</td></tr><tr><td>3</td><td>Anil</td><td>South</td><td>Shampoo</td><td>Personal Care</td><td>5</td><td>150</td><td>2024-01-17</td><td>1</td></tr><tr><td>11</td><td>Satej</td><td>South</td><td>Smartwatch</td><td>Electronics</td><td>1</td><td>15000</td><td>2025-08-08</td><td>8</td></tr></tbody></table></div>"
      ]
     },
     "metadata": {
      "application/vnd.databricks.v1+output": {
       "addedWidgets": {},
       "aggData": [],
       "aggError": "",
       "aggOverflow": false,
       "aggSchema": [],
       "aggSeriesLimitReached": false,
       "aggType": "",
       "arguments": {},
       "columnCustomDisplayInfos": {},
       "data": [
        [
         9,
         "Kunal",
         "East",
         "Pencil",
         "Stationery",
         20,
         12,
         "2024-03-05",
         3
        ],
        [
         10,
         "Tanvi",
         "West",
         "Face Cream",
         "Personal Care",
         3,
         200,
         "2024-03-19",
         3
        ],
        [
         8,
         "Isha",
         "North",
         "Notebook",
         "Stationery",
         10,
         72,
         "2024-01-10",
         1
        ],
        [
         3,
         "Anil",
         "South",
         "Shampoo",
         "Personal Care",
         5,
         150,
         "2024-01-17",
         1
        ],
        [
         11,
         "Satej",
         "South",
         "Smartwatch",
         "Electronics",
         1,
         15000,
         "2025-08-08",
         8
        ]
       ],
       "datasetInfos": [],
       "dbfsResultPath": null,
       "isJsonSchema": true,
       "metadata": {},
       "overflow": false,
       "plotOptions": {
        "customPlotOptions": {},
        "displayType": "table",
        "pivotAggregation": null,
        "pivotColumns": null,
        "xColumns": null,
        "yColumns": null
       },
       "removedWidgets": [],
       "schema": [
        {
         "metadata": "{}",
         "name": "transaction_id",
         "type": "\"integer\""
        },
        {
         "metadata": "{}",
         "name": "customer_name",
         "type": "\"string\""
        },
        {
         "metadata": "{}",
         "name": "region",
         "type": "\"string\""
        },
        {
         "metadata": "{}",
         "name": "product",
         "type": "\"string\""
        },
        {
         "metadata": "{}",
         "name": "category",
         "type": "\"string\""
        },
        {
         "metadata": "{}",
         "name": "quantity",
         "type": "\"integer\""
        },
        {
         "metadata": "{}",
         "name": "unit_price",
         "type": "\"integer\""
        },
        {
         "metadata": "{\"__detected_date_formats\": \"yyyy-M-d\"}",
         "name": "date",
         "type": "\"date\""
        },
        {
         "metadata": "{}",
         "name": "month",
         "type": "\"integer\""
        }
       ],
       "type": "table"
      }
     },
     "output_type": "display_data"
    },
    {
     "output_type": "stream",
     "name": "stdout",
     "output_type": "stream",
     "text": [
      "Running Z-Ordering on region-partitioned table...\n"
     ]
    },
    {
     "output_type": "execute_result",
     "data": {
      "text/plain": [
       "DataFrame[path: string, metrics: struct<numFilesAdded:bigint,numFilesRemoved:bigint,filesAdded:struct<min:bigint,max:bigint,avg:double,totalFiles:bigint,totalSize:bigint>,filesRemoved:struct<min:bigint,max:bigint,avg:double,totalFiles:bigint,totalSize:bigint>,partitionsOptimized:bigint,zOrderStats:struct<strategyName:string,inputCubeFiles:struct<num:bigint,size:bigint>,inputOtherFiles:struct<num:bigint,size:bigint>,inputNumCubes:bigint,mergedFiles:struct<num:bigint,size:bigint>,numOutputCubes:bigint,mergedNumCubes:bigint>,clusteringStats:struct<inputZCubeFiles:struct<numFiles:bigint,size:bigint>,inputOtherFiles:struct<numFiles:bigint,size:bigint>,inputNumZCubes:bigint,mergedFiles:struct<numFiles:bigint,size:bigint>,numOutputZCubes:bigint>,numBins:bigint,numBatches:bigint,totalConsideredFiles:bigint,totalFilesSkipped:bigint,preserveInsertionOrder:boolean,numFilesSkippedToReduceWriteAmplification:bigint,numBytesSkippedToReduceWriteAmplification:bigint,startTimeMs:bigint,endTimeMs:bigint,totalClusterParallelism:bigint,totalScheduledTasks:bigint,autoCompactParallelismStats:struct<maxClusterActiveParallelism:bigint,minClusterActiveParallelism:bigint,maxSessionActiveParallelism:bigint,minSessionActiveParallelism:bigint>,deletionVectorStats:struct<numDeletionVectorsRemoved:bigint,numDeletionVectorRowsRemoved:bigint>,recompressionCodec:string,numTableColumns:bigint,numTableColumnsWithStats:bigint,totalTaskExecutionTimeMs:bigint,skippedArchivedFiles:bigint,clusteringMetrics:struct<sizeOfTableInBytesBeforeLazyClustering:bigint,isNewMetadataCreated:boolean,isPOTriggered:boolean,isFull:boolean,approxClusteringQuality:double,approxClusteringQualityPerColumn:array<double>,approxClusteringCoverage:double,compactionType:string,numFilesSkippedWithoutStats:bigint,numFilesClassifiedToIntermediateNodes:bigint,sizeOfFilesClassifiedToIntermediateNodesInBytes:bigint,logicalSizeOfFilesClassifiedToIntermediateNodesInBytes:bigint,numFilesClassifiedToLeafNodes:bigint,sizeOfFilesClassifiedToLeafNodesInBytes:bigint,logicalSizeOfFilesClassifiedToLeafNodesInBytes:bigint,numThreadsForClassifier:int,clusterThresholdStrategy:string,minFileSize:bigint,maxFileSize:bigint,nodeMinNumFilesToCompact:bigint,numIdealFiles:bigint,numIdealFilesWithTrimmedStringMaxValue:bigint,numAddedFilesWithSameMinMaxOnClusteringColumns:array<bigint>,numClusteringTasksPlanned:int,numClusteringTasksNotPlannedDueToPO:int,numCompactionTasksPlanned:int,numCompactionTasksPlannedUndoneDueToPO:int,numOptimizeBatchesPlanned:int,numLeafNodesExpanded:bigint,numLeafNodesClustered:bigint,numGetFilesForNodeCalls:bigint,numSamplingJobs:bigint,numLeafNodesCompacted:bigint,numLeafNodesCompactedUndoneDueToPO:bigint,numIntermediateNodesCompacted:bigint,numIntermediateNodesCompactedUndoneDueToPO:bigint,totalSizeOfDataToCompactInBytes:bigint,totalSizeOfDataToCompactInBytesUndoneDueToPO:bigint,totalLogicalSizeOfDataToCompactInBytes:bigint,totalLogicalSizeOfDataToCompactInBytesUndoneDueToPO:bigint,numIntermediateNodesClustered:bigint,numFilesSkippedAfterExpansion:bigint,totalSizeOfFilesSkippedAfterExpansionInBytes:bigint,totalLogicalSizeOfFilesSkippedAfterExpansionInBytes:bigint,totalSizeOfDataToRewriteInBytes:bigint,totalLogicalSizeOfDataToRewriteInBytes:bigint,timeMetrics:struct<classifierTimeMs:bigint,optimizerTimeMs:bigint,metadataLoadTimeMs:bigint,totalGetFilesForNodeCallsTimeMs:bigint,totalSamplingTimeMs:bigint,metadataCreationTimeMs:bigint>,maxOptimizeBatchesInParallel:bigint,currentIteration:int,maxIterations:int,clusteringStrategy:string>>]"
      ]
     },
     "execution_count": 98,
     "metadata": {},
     "output_type": "execute_result"
    }
   ],
   "source": [
    "from pyspark.sql.functions import month\n",
    "\n",
    "# Paths for partitioned tables\n",
    "delta_partitioned_region = \"/tmp/delta_sales_partitioned_region\"\n",
    "delta_partitioned_month = \"/tmp/delta_sales_partitioned_month\"\n",
    "\n",
    "# Load Delta table and add month column\n",
    "df = spark.read.format(\"delta\").load(delta_path) \\\n",
    "        .withColumn(\"month\", month(col(\"date\")))\n",
    "\n",
    "# 1. Partitioned by region\n",
    "df.write.format(\"delta\").mode(\"overwrite\").partitionBy(\"region\").save(delta_partitioned_region)\n",
    "print(\"Partitioned by region table created.\")\n",
    "display(spark.read.format(\"delta\").load(delta_partitioned_region))\n",
    "\n",
    "# 2. Partitioned by month\n",
    "df.write.format(\"delta\").mode(\"overwrite\").partitionBy(\"month\").save(delta_partitioned_month)\n",
    "print(\"Partitioned by month table created.\")\n",
    "display(spark.read.format(\"delta\").load(delta_partitioned_month))\n",
    "\n",
    "# 3. Z-Ordering (Databricks Premium only) – This will output optimization stats\n",
    "print(\"Running Z-Ordering on region-partitioned table...\")\n",
    "spark.sql(f\"OPTIMIZE delta.`{delta_partitioned_region}` ZORDER BY (category)\")"
   ]
  },
  {
   "cell_type": "markdown",
   "metadata": {
    "application/vnd.databricks.v1+cell": {
     "cellMetadata": {},
     "inputWidgets": {},
     "nuid": "3c7758fe-9a40-4944-a6b4-d12ea0be14f6",
     "showTitle": false,
     "tableResultSettingsMap": {},
     "title": ""
    }
   },
   "source": []
  }
 ],
 "metadata": {
  "application/vnd.databricks.v1+notebook": {
   "computePreferences": null,
   "dashboards": [],
   "environmentMetadata": {
    "base_environment": "",
    "environment_version": "2"
   },
   "inputWidgetPreferences": null,
   "language": "python",
   "notebookMetadata": {
    "mostRecentlyExecutedCommandWithImplicitDF": {
     "commandId": -1,
     "dataframes": [
      "_sqldf"
     ]
    },
    "pythonIndentUnit": 4
   },
   "notebookName": "Sales_Transaction_Task1",
   "widgets": {}
  },
  "language_info": {
   "name": "python"
  }
 },
 "nbformat": 4,
 "nbformat_minor": 0
}