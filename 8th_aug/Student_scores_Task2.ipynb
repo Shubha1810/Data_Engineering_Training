{
 "cells": [
  {
   "cell_type": "code",
   "execution_count": 0,
   "metadata": {
    "application/vnd.databricks.v1+cell": {
     "cellMetadata": {
      "byteLimit": 2048000,
      "rowLimit": 10000
     },
     "inputWidgets": {},
     "nuid": "daa0f0be-ffaa-48b2-900b-b462172737ca",
     "showTitle": false,
     "tableResultSettingsMap": {},
     "title": ""
    }
   },
   "outputs": [],
   "source": [
    "spark.sql(\"USE CATALOG hive_metastore\")\n",
    "spark.sql(\"USE SCHEMA default\")\n",
    "\n",
    "# Imports used throughout\n",
    "from pyspark.sql.functions import col, when, avg, max as spark_max, count as spark_count, desc, dense_rank, row_number\n",
    "from pyspark.sql.window import Window\n",
    "from delta.tables import DeltaTable\n",
    "from datetime import datetime"
   ]
  },
  {
   "cell_type": "code",
   "execution_count": 0,
   "metadata": {
    "application/vnd.databricks.v1+cell": {
     "cellMetadata": {
      "byteLimit": 2048000,
      "rowLimit": 10000
     },
     "inputWidgets": {},
     "nuid": "7d9a7f76-656d-44a7-831c-3070fa258754",
     "showTitle": false,
     "tableResultSettingsMap": {},
     "title": ""
    }
   },
   "outputs": [
    {
     "output_type": "display_data",
     "data": {
      "text/html": [
       "<style scoped>\n",
       "  .table-result-container {\n",
       "    max-height: 300px;\n",
       "    overflow: auto;\n",
       "  }\n",
       "  table, th, td {\n",
       "    border: 1px solid black;\n",
       "    border-collapse: collapse;\n",
       "  }\n",
       "  th, td {\n",
       "    padding: 5px;\n",
       "  }\n",
       "  th {\n",
       "    text-align: left;\n",
       "  }\n",
       "</style><div class='table-result-container'><table class='table-result'><thead style='background-color: white'><tr><th>student_id</th><th>name</th><th>subject</th><th>score</th><th>grade</th></tr></thead><tbody><tr><td>1</td><td>Ankit</td><td>Math</td><td>85</td><td>A</td></tr><tr><td>2</td><td>Divya</td><td>Science</td><td>92</td><td>A</td></tr><tr><td>3</td><td>Rahul</td><td>English</td><td>78</td><td>B</td></tr><tr><td>4</td><td>Sneha</td><td>Math</td><td>65</td><td>C</td></tr><tr><td>5</td><td>Aryan</td><td>Science</td><td>55</td><td>D</td></tr><tr><td>6</td><td>Isha</td><td>English</td><td>88</td><td>A</td></tr><tr><td>7</td><td>Tanvi</td><td>Math</td><td>91</td><td>A</td></tr><tr><td>8</td><td>Kunal</td><td>Science</td><td>72</td><td>B</td></tr><tr><td>9</td><td>Megha</td><td>English</td><td>60</td><td>C</td></tr><tr><td>10</td><td>Rohan</td><td>Math</td><td>40</td><td>F</td></tr></tbody></table></div>"
      ]
     },
     "metadata": {
      "application/vnd.databricks.v1+output": {
       "addedWidgets": {},
       "aggData": [],
       "aggError": "",
       "aggOverflow": false,
       "aggSchema": [],
       "aggSeriesLimitReached": false,
       "aggType": "",
       "arguments": {},
       "columnCustomDisplayInfos": {},
       "data": [
        [
         1,
         "Ankit",
         "Math",
         85,
         "A"
        ],
        [
         2,
         "Divya",
         "Science",
         92,
         "A"
        ],
        [
         3,
         "Rahul",
         "English",
         78,
         "B"
        ],
        [
         4,
         "Sneha",
         "Math",
         65,
         "C"
        ],
        [
         5,
         "Aryan",
         "Science",
         55,
         "D"
        ],
        [
         6,
         "Isha",
         "English",
         88,
         "A"
        ],
        [
         7,
         "Tanvi",
         "Math",
         91,
         "A"
        ],
        [
         8,
         "Kunal",
         "Science",
         72,
         "B"
        ],
        [
         9,
         "Megha",
         "English",
         60,
         "C"
        ],
        [
         10,
         "Rohan",
         "Math",
         40,
         "F"
        ]
       ],
       "datasetInfos": [],
       "dbfsResultPath": null,
       "isJsonSchema": true,
       "metadata": {},
       "overflow": false,
       "plotOptions": {
        "customPlotOptions": {},
        "displayType": "table",
        "pivotAggregation": null,
        "pivotColumns": null,
        "xColumns": null,
        "yColumns": null
       },
       "removedWidgets": [],
       "schema": [
        {
         "metadata": "{}",
         "name": "student_id",
         "type": "\"integer\""
        },
        {
         "metadata": "{}",
         "name": "name",
         "type": "\"string\""
        },
        {
         "metadata": "{}",
         "name": "subject",
         "type": "\"string\""
        },
        {
         "metadata": "{}",
         "name": "score",
         "type": "\"integer\""
        },
        {
         "metadata": "{}",
         "name": "grade",
         "type": "\"string\""
        }
       ],
       "type": "table"
      }
     },
     "output_type": "display_data"
    }
   ],
   "source": [
    "# Read CSV from DBFS\n",
    "df = spark.read.option(\"header\", True).option(\"inferSchema\", True) \\\n",
    "    .csv(\"/FileStore/tables/students_scores.csv\")\n",
    "\n",
    "df.display()\n"
   ]
  },
  {
   "cell_type": "code",
   "execution_count": 0,
   "metadata": {
    "application/vnd.databricks.v1+cell": {
     "cellMetadata": {
      "byteLimit": 2048000,
      "rowLimit": 10000
     },
     "inputWidgets": {},
     "nuid": "bbbf1507-0adf-458a-b328-4d680ec7e615",
     "showTitle": false,
     "tableResultSettingsMap": {},
     "title": ""
    }
   },
   "outputs": [],
   "source": [
    "df.write.format(\"delta\").mode(\"overwrite\").save(\"/tmp/delta/student_scores\")\n"
   ]
  },
  {
   "cell_type": "code",
   "execution_count": 0,
   "metadata": {
    "application/vnd.databricks.v1+cell": {
     "cellMetadata": {
      "byteLimit": 2048000,
      "rowLimit": 10000
     },
     "inputWidgets": {},
     "nuid": "1ffb1d1b-cf8b-40e5-a193-3483a07b2557",
     "showTitle": false,
     "tableResultSettingsMap": {},
     "title": ""
    }
   },
   "outputs": [
    {
     "output_type": "execute_result",
     "data": {
      "text/plain": [
       "DataFrame[]"
      ]
     },
     "execution_count": 11,
     "metadata": {},
     "output_type": "execute_result"
    }
   ],
   "source": [
    "spark.sql(\"DROP TABLE IF EXISTS student_scores\")\n",
    "spark.sql(\"\"\"\n",
    "    CREATE TABLE student_scores\n",
    "    USING DELTA\n",
    "    LOCATION '/tmp/delta/student_scores'\n",
    "\"\"\")\n"
   ]
  },
  {
   "cell_type": "markdown",
   "metadata": {
    "application/vnd.databricks.v1+cell": {
     "cellMetadata": {},
     "inputWidgets": {},
     "nuid": "112804db-c0bb-4e39-8c8c-53e43d3c6db8",
     "showTitle": false,
     "tableResultSettingsMap": {},
     "title": ""
    }
   },
   "source": [
    "**Basic Tasks**\n",
    "1. Show all students and their scores.\n",
    "2. Count number of students in each subject.\n",
    "3. Find average score per subject.\n",
    "4. List all students who scored more than 80"
   ]
  },
  {
   "cell_type": "code",
   "execution_count": 0,
   "metadata": {
    "application/vnd.databricks.v1+cell": {
     "cellMetadata": {
      "byteLimit": 2048000,
      "rowLimit": 10000
     },
     "inputWidgets": {},
     "nuid": "00a3a59d-d111-4bdb-9c26-cab9fea30015",
     "showTitle": false,
     "tableResultSettingsMap": {},
     "title": ""
    }
   },
   "outputs": [
    {
     "output_type": "display_data",
     "data": {
      "text/html": [
       "<style scoped>\n",
       "  .table-result-container {\n",
       "    max-height: 300px;\n",
       "    overflow: auto;\n",
       "  }\n",
       "  table, th, td {\n",
       "    border: 1px solid black;\n",
       "    border-collapse: collapse;\n",
       "  }\n",
       "  th, td {\n",
       "    padding: 5px;\n",
       "  }\n",
       "  th {\n",
       "    text-align: left;\n",
       "  }\n",
       "</style><div class='table-result-container'><table class='table-result'><thead style='background-color: white'><tr><th>student_id</th><th>name</th><th>subject</th><th>score</th></tr></thead><tbody><tr><td>1</td><td>Ankit</td><td>Math</td><td>85</td></tr><tr><td>2</td><td>Divya</td><td>Science</td><td>92</td></tr><tr><td>3</td><td>Rahul</td><td>English</td><td>78</td></tr><tr><td>4</td><td>Sneha</td><td>Math</td><td>65</td></tr><tr><td>5</td><td>Aryan</td><td>Science</td><td>55</td></tr><tr><td>6</td><td>Isha</td><td>English</td><td>88</td></tr><tr><td>7</td><td>Tanvi</td><td>Math</td><td>91</td></tr><tr><td>8</td><td>Kunal</td><td>Science</td><td>72</td></tr><tr><td>9</td><td>Megha</td><td>English</td><td>60</td></tr><tr><td>10</td><td>Rohan</td><td>Math</td><td>40</td></tr></tbody></table></div>"
      ]
     },
     "metadata": {
      "application/vnd.databricks.v1+output": {
       "addedWidgets": {},
       "aggData": [],
       "aggError": "",
       "aggOverflow": false,
       "aggSchema": [],
       "aggSeriesLimitReached": false,
       "aggType": "",
       "arguments": {},
       "columnCustomDisplayInfos": {},
       "data": [
        [
         1,
         "Ankit",
         "Math",
         85
        ],
        [
         2,
         "Divya",
         "Science",
         92
        ],
        [
         3,
         "Rahul",
         "English",
         78
        ],
        [
         4,
         "Sneha",
         "Math",
         65
        ],
        [
         5,
         "Aryan",
         "Science",
         55
        ],
        [
         6,
         "Isha",
         "English",
         88
        ],
        [
         7,
         "Tanvi",
         "Math",
         91
        ],
        [
         8,
         "Kunal",
         "Science",
         72
        ],
        [
         9,
         "Megha",
         "English",
         60
        ],
        [
         10,
         "Rohan",
         "Math",
         40
        ]
       ],
       "datasetInfos": [],
       "dbfsResultPath": null,
       "isJsonSchema": true,
       "metadata": {},
       "overflow": false,
       "plotOptions": {
        "customPlotOptions": {},
        "displayType": "table",
        "pivotAggregation": null,
        "pivotColumns": null,
        "xColumns": null,
        "yColumns": null
       },
       "removedWidgets": [],
       "schema": [
        {
         "metadata": "{}",
         "name": "student_id",
         "type": "\"integer\""
        },
        {
         "metadata": "{}",
         "name": "name",
         "type": "\"string\""
        },
        {
         "metadata": "{}",
         "name": "subject",
         "type": "\"string\""
        },
        {
         "metadata": "{}",
         "name": "score",
         "type": "\"integer\""
        }
       ],
       "type": "table"
      }
     },
     "output_type": "display_data"
    },
    {
     "output_type": "display_data",
     "data": {
      "text/html": [
       "<style scoped>\n",
       "  .table-result-container {\n",
       "    max-height: 300px;\n",
       "    overflow: auto;\n",
       "  }\n",
       "  table, th, td {\n",
       "    border: 1px solid black;\n",
       "    border-collapse: collapse;\n",
       "  }\n",
       "  th, td {\n",
       "    padding: 5px;\n",
       "  }\n",
       "  th {\n",
       "    text-align: left;\n",
       "  }\n",
       "</style><div class='table-result-container'><table class='table-result'><thead style='background-color: white'><tr><th>student_id</th><th>name</th><th>subject</th><th>score</th></tr></thead><tbody><tr><td>1</td><td>Ankit</td><td>Math</td><td>85</td></tr><tr><td>2</td><td>Divya</td><td>Science</td><td>92</td></tr><tr><td>3</td><td>Rahul</td><td>English</td><td>78</td></tr><tr><td>4</td><td>Sneha</td><td>Math</td><td>65</td></tr><tr><td>5</td><td>Aryan</td><td>Science</td><td>55</td></tr><tr><td>6</td><td>Isha</td><td>English</td><td>88</td></tr><tr><td>7</td><td>Tanvi</td><td>Math</td><td>91</td></tr><tr><td>8</td><td>Kunal</td><td>Science</td><td>72</td></tr><tr><td>9</td><td>Megha</td><td>English</td><td>60</td></tr><tr><td>10</td><td>Rohan</td><td>Math</td><td>40</td></tr></tbody></table></div>"
      ]
     },
     "metadata": {
      "application/vnd.databricks.v1+output": {
       "addedWidgets": {},
       "aggData": [],
       "aggError": "",
       "aggOverflow": false,
       "aggSchema": [],
       "aggSeriesLimitReached": false,
       "aggType": "",
       "arguments": {},
       "columnCustomDisplayInfos": {},
       "data": [
        [
         1,
         "Ankit",
         "Math",
         85
        ],
        [
         2,
         "Divya",
         "Science",
         92
        ],
        [
         3,
         "Rahul",
         "English",
         78
        ],
        [
         4,
         "Sneha",
         "Math",
         65
        ],
        [
         5,
         "Aryan",
         "Science",
         55
        ],
        [
         6,
         "Isha",
         "English",
         88
        ],
        [
         7,
         "Tanvi",
         "Math",
         91
        ],
        [
         8,
         "Kunal",
         "Science",
         72
        ],
        [
         9,
         "Megha",
         "English",
         60
        ],
        [
         10,
         "Rohan",
         "Math",
         40
        ]
       ],
       "datasetInfos": [],
       "dbfsResultPath": null,
       "isJsonSchema": true,
       "metadata": {},
       "overflow": false,
       "plotOptions": {
        "customPlotOptions": {},
        "displayType": "table",
        "pivotAggregation": null,
        "pivotColumns": null,
        "xColumns": null,
        "yColumns": null
       },
       "removedWidgets": [],
       "schema": [
        {
         "metadata": "{}",
         "name": "student_id",
         "type": "\"integer\""
        },
        {
         "metadata": "{}",
         "name": "name",
         "type": "\"string\""
        },
        {
         "metadata": "{}",
         "name": "subject",
         "type": "\"string\""
        },
        {
         "metadata": "{}",
         "name": "score",
         "type": "\"integer\""
        }
       ],
       "type": "table"
      }
     },
     "output_type": "display_data"
    }
   ],
   "source": [
    "# DataFrame API\n",
    "display(df.select(\"student_id\",\"name\",\"subject\",\"score\").orderBy(\"student_id\"))\n",
    "\n",
    "# SQL\n",
    "display(spark.sql(\"SELECT student_id, name, subject, score FROM student_scores ORDER BY student_id\"))\n"
   ]
  },
  {
   "cell_type": "code",
   "execution_count": 0,
   "metadata": {
    "application/vnd.databricks.v1+cell": {
     "cellMetadata": {
      "byteLimit": 2048000,
      "rowLimit": 10000
     },
     "inputWidgets": {},
     "nuid": "d30ba0a2-5ac1-4ab8-a3c3-92dbf29f7c0e",
     "showTitle": false,
     "tableResultSettingsMap": {},
     "title": ""
    }
   },
   "outputs": [
    {
     "output_type": "display_data",
     "data": {
      "text/html": [
       "<style scoped>\n",
       "  .table-result-container {\n",
       "    max-height: 300px;\n",
       "    overflow: auto;\n",
       "  }\n",
       "  table, th, td {\n",
       "    border: 1px solid black;\n",
       "    border-collapse: collapse;\n",
       "  }\n",
       "  th, td {\n",
       "    padding: 5px;\n",
       "  }\n",
       "  th {\n",
       "    text-align: left;\n",
       "  }\n",
       "</style><div class='table-result-container'><table class='table-result'><thead style='background-color: white'><tr><th>subject</th><th>student_count</th></tr></thead><tbody><tr><td>English</td><td>3</td></tr><tr><td>Math</td><td>4</td></tr><tr><td>Science</td><td>3</td></tr></tbody></table></div>"
      ]
     },
     "metadata": {
      "application/vnd.databricks.v1+output": {
       "addedWidgets": {},
       "aggData": [],
       "aggError": "",
       "aggOverflow": false,
       "aggSchema": [],
       "aggSeriesLimitReached": false,
       "aggType": "",
       "arguments": {},
       "columnCustomDisplayInfos": {},
       "data": [
        [
         "English",
         3
        ],
        [
         "Math",
         4
        ],
        [
         "Science",
         3
        ]
       ],
       "datasetInfos": [],
       "dbfsResultPath": null,
       "isJsonSchema": true,
       "metadata": {},
       "overflow": false,
       "plotOptions": {
        "customPlotOptions": {},
        "displayType": "table",
        "pivotAggregation": null,
        "pivotColumns": null,
        "xColumns": null,
        "yColumns": null
       },
       "removedWidgets": [],
       "schema": [
        {
         "metadata": "{}",
         "name": "subject",
         "type": "\"string\""
        },
        {
         "metadata": "{}",
         "name": "student_count",
         "type": "\"long\""
        }
       ],
       "type": "table"
      }
     },
     "output_type": "display_data"
    },
    {
     "output_type": "display_data",
     "data": {
      "text/html": [
       "<style scoped>\n",
       "  .table-result-container {\n",
       "    max-height: 300px;\n",
       "    overflow: auto;\n",
       "  }\n",
       "  table, th, td {\n",
       "    border: 1px solid black;\n",
       "    border-collapse: collapse;\n",
       "  }\n",
       "  th, td {\n",
       "    padding: 5px;\n",
       "  }\n",
       "  th {\n",
       "    text-align: left;\n",
       "  }\n",
       "</style><div class='table-result-container'><table class='table-result'><thead style='background-color: white'><tr><th>subject</th><th>student_count</th></tr></thead><tbody><tr><td>English</td><td>3</td></tr><tr><td>Math</td><td>4</td></tr><tr><td>Science</td><td>3</td></tr></tbody></table></div>"
      ]
     },
     "metadata": {
      "application/vnd.databricks.v1+output": {
       "addedWidgets": {},
       "aggData": [],
       "aggError": "",
       "aggOverflow": false,
       "aggSchema": [],
       "aggSeriesLimitReached": false,
       "aggType": "",
       "arguments": {},
       "columnCustomDisplayInfos": {},
       "data": [
        [
         "English",
         3
        ],
        [
         "Math",
         4
        ],
        [
         "Science",
         3
        ]
       ],
       "datasetInfos": [],
       "dbfsResultPath": null,
       "isJsonSchema": true,
       "metadata": {},
       "overflow": false,
       "plotOptions": {
        "customPlotOptions": {},
        "displayType": "table",
        "pivotAggregation": null,
        "pivotColumns": null,
        "xColumns": null,
        "yColumns": null
       },
       "removedWidgets": [],
       "schema": [
        {
         "metadata": "{}",
         "name": "subject",
         "type": "\"string\""
        },
        {
         "metadata": "{}",
         "name": "student_count",
         "type": "\"long\""
        }
       ],
       "type": "table"
      }
     },
     "output_type": "display_data"
    },
    {
     "output_type": "display_data",
     "data": {
      "text/html": [
       "<style scoped>\n",
       "  .table-result-container {\n",
       "    max-height: 300px;\n",
       "    overflow: auto;\n",
       "  }\n",
       "  table, th, td {\n",
       "    border: 1px solid black;\n",
       "    border-collapse: collapse;\n",
       "  }\n",
       "  th, td {\n",
       "    padding: 5px;\n",
       "  }\n",
       "  th {\n",
       "    text-align: left;\n",
       "  }\n",
       "</style><div class='table-result-container'><table class='table-result'><thead style='background-color: white'><tr><th>subject</th><th>avg_score</th></tr></thead><tbody><tr><td>English</td><td>75.33333333333333</td></tr><tr><td>Math</td><td>70.25</td></tr><tr><td>Science</td><td>73.0</td></tr></tbody></table></div>"
      ]
     },
     "metadata": {
      "application/vnd.databricks.v1+output": {
       "addedWidgets": {},
       "aggData": [],
       "aggError": "",
       "aggOverflow": false,
       "aggSchema": [],
       "aggSeriesLimitReached": false,
       "aggType": "",
       "arguments": {},
       "columnCustomDisplayInfos": {},
       "data": [
        [
         "English",
         75.33333333333333
        ],
        [
         "Math",
         70.25
        ],
        [
         "Science",
         73.0
        ]
       ],
       "datasetInfos": [],
       "dbfsResultPath": null,
       "isJsonSchema": true,
       "metadata": {},
       "overflow": false,
       "plotOptions": {
        "customPlotOptions": {},
        "displayType": "table",
        "pivotAggregation": null,
        "pivotColumns": null,
        "xColumns": null,
        "yColumns": null
       },
       "removedWidgets": [],
       "schema": [
        {
         "metadata": "{}",
         "name": "subject",
         "type": "\"string\""
        },
        {
         "metadata": "{}",
         "name": "avg_score",
         "type": "\"double\""
        }
       ],
       "type": "table"
      }
     },
     "output_type": "display_data"
    },
    {
     "output_type": "display_data",
     "data": {
      "text/html": [
       "<style scoped>\n",
       "  .table-result-container {\n",
       "    max-height: 300px;\n",
       "    overflow: auto;\n",
       "  }\n",
       "  table, th, td {\n",
       "    border: 1px solid black;\n",
       "    border-collapse: collapse;\n",
       "  }\n",
       "  th, td {\n",
       "    padding: 5px;\n",
       "  }\n",
       "  th {\n",
       "    text-align: left;\n",
       "  }\n",
       "</style><div class='table-result-container'><table class='table-result'><thead style='background-color: white'><tr><th>subject</th><th>avg_score</th></tr></thead><tbody><tr><td>English</td><td>75.33333333333333</td></tr><tr><td>Math</td><td>70.25</td></tr><tr><td>Science</td><td>73.0</td></tr></tbody></table></div>"
      ]
     },
     "metadata": {
      "application/vnd.databricks.v1+output": {
       "addedWidgets": {},
       "aggData": [],
       "aggError": "",
       "aggOverflow": false,
       "aggSchema": [],
       "aggSeriesLimitReached": false,
       "aggType": "",
       "arguments": {},
       "columnCustomDisplayInfos": {},
       "data": [
        [
         "English",
         75.33333333333333
        ],
        [
         "Math",
         70.25
        ],
        [
         "Science",
         73.0
        ]
       ],
       "datasetInfos": [],
       "dbfsResultPath": null,
       "isJsonSchema": true,
       "metadata": {},
       "overflow": false,
       "plotOptions": {
        "customPlotOptions": {},
        "displayType": "table",
        "pivotAggregation": null,
        "pivotColumns": null,
        "xColumns": null,
        "yColumns": null
       },
       "removedWidgets": [],
       "schema": [
        {
         "metadata": "{}",
         "name": "subject",
         "type": "\"string\""
        },
        {
         "metadata": "{}",
         "name": "avg_score",
         "type": "\"double\""
        }
       ],
       "type": "table"
      }
     },
     "output_type": "display_data"
    },
    {
     "output_type": "display_data",
     "data": {
      "text/html": [
       "<style scoped>\n",
       "  .table-result-container {\n",
       "    max-height: 300px;\n",
       "    overflow: auto;\n",
       "  }\n",
       "  table, th, td {\n",
       "    border: 1px solid black;\n",
       "    border-collapse: collapse;\n",
       "  }\n",
       "  th, td {\n",
       "    padding: 5px;\n",
       "  }\n",
       "  th {\n",
       "    text-align: left;\n",
       "  }\n",
       "</style><div class='table-result-container'><table class='table-result'><thead style='background-color: white'><tr><th>student_id</th><th>name</th><th>subject</th><th>score</th></tr></thead><tbody><tr><td>2</td><td>Divya</td><td>Science</td><td>92</td></tr><tr><td>7</td><td>Tanvi</td><td>Math</td><td>91</td></tr><tr><td>6</td><td>Isha</td><td>English</td><td>88</td></tr><tr><td>1</td><td>Ankit</td><td>Math</td><td>85</td></tr></tbody></table></div>"
      ]
     },
     "metadata": {
      "application/vnd.databricks.v1+output": {
       "addedWidgets": {},
       "aggData": [],
       "aggError": "",
       "aggOverflow": false,
       "aggSchema": [],
       "aggSeriesLimitReached": false,
       "aggType": "",
       "arguments": {},
       "columnCustomDisplayInfos": {},
       "data": [
        [
         2,
         "Divya",
         "Science",
         92
        ],
        [
         7,
         "Tanvi",
         "Math",
         91
        ],
        [
         6,
         "Isha",
         "English",
         88
        ],
        [
         1,
         "Ankit",
         "Math",
         85
        ]
       ],
       "datasetInfos": [],
       "dbfsResultPath": null,
       "isJsonSchema": true,
       "metadata": {},
       "overflow": false,
       "plotOptions": {
        "customPlotOptions": {},
        "displayType": "table",
        "pivotAggregation": null,
        "pivotColumns": null,
        "xColumns": null,
        "yColumns": null
       },
       "removedWidgets": [],
       "schema": [
        {
         "metadata": "{}",
         "name": "student_id",
         "type": "\"integer\""
        },
        {
         "metadata": "{}",
         "name": "name",
         "type": "\"string\""
        },
        {
         "metadata": "{}",
         "name": "subject",
         "type": "\"string\""
        },
        {
         "metadata": "{}",
         "name": "score",
         "type": "\"integer\""
        }
       ],
       "type": "table"
      }
     },
     "output_type": "display_data"
    },
    {
     "output_type": "display_data",
     "data": {
      "text/html": [
       "<style scoped>\n",
       "  .table-result-container {\n",
       "    max-height: 300px;\n",
       "    overflow: auto;\n",
       "  }\n",
       "  table, th, td {\n",
       "    border: 1px solid black;\n",
       "    border-collapse: collapse;\n",
       "  }\n",
       "  th, td {\n",
       "    padding: 5px;\n",
       "  }\n",
       "  th {\n",
       "    text-align: left;\n",
       "  }\n",
       "</style><div class='table-result-container'><table class='table-result'><thead style='background-color: white'><tr><th>student_id</th><th>name</th><th>subject</th><th>score</th><th>grade</th></tr></thead><tbody><tr><td>1</td><td>Ankit</td><td>Math</td><td>85</td><td>A</td></tr><tr><td>2</td><td>Divya</td><td>Science</td><td>92</td><td>A</td></tr><tr><td>6</td><td>Isha</td><td>English</td><td>88</td><td>A</td></tr><tr><td>7</td><td>Tanvi</td><td>Math</td><td>91</td><td>A</td></tr></tbody></table></div>"
      ]
     },
     "metadata": {
      "application/vnd.databricks.v1+output": {
       "addedWidgets": {},
       "aggData": [],
       "aggError": "",
       "aggOverflow": false,
       "aggSchema": [],
       "aggSeriesLimitReached": false,
       "aggType": "",
       "arguments": {},
       "columnCustomDisplayInfos": {},
       "data": [
        [
         1,
         "Ankit",
         "Math",
         85,
         "A"
        ],
        [
         2,
         "Divya",
         "Science",
         92,
         "A"
        ],
        [
         6,
         "Isha",
         "English",
         88,
         "A"
        ],
        [
         7,
         "Tanvi",
         "Math",
         91,
         "A"
        ]
       ],
       "datasetInfos": [],
       "dbfsResultPath": null,
       "isJsonSchema": true,
       "metadata": {},
       "overflow": false,
       "plotOptions": {
        "customPlotOptions": {},
        "displayType": "table",
        "pivotAggregation": null,
        "pivotColumns": null,
        "xColumns": null,
        "yColumns": null
       },
       "removedWidgets": [],
       "schema": [
        {
         "metadata": "{}",
         "name": "student_id",
         "type": "\"integer\""
        },
        {
         "metadata": "{}",
         "name": "name",
         "type": "\"string\""
        },
        {
         "metadata": "{}",
         "name": "subject",
         "type": "\"string\""
        },
        {
         "metadata": "{}",
         "name": "score",
         "type": "\"integer\""
        },
        {
         "metadata": "{}",
         "name": "grade",
         "type": "\"string\""
        }
       ],
       "type": "table"
      }
     },
     "output_type": "display_data"
    }
   ],
   "source": [
    "# 2. Count number of students in each subject\n",
    "display(df.groupBy(\"subject\").agg(spark_count(\"*\").alias(\"student_count\")).orderBy(\"subject\"))\n",
    "display(spark.sql(\"SELECT subject, COUNT(*) AS student_count FROM student_scores GROUP BY subject\"))\n",
    "\n",
    "# 3. Find average score per subject\n",
    "display(df.groupBy(\"subject\").agg(avg(\"score\").alias(\"avg_score\")).orderBy(\"subject\"))\n",
    "display(spark.sql(\"SELECT subject, AVG(score) AS avg_score FROM student_scores GROUP BY subject\"))\n",
    "\n",
    "# 4. List all students who scored more than 80\n",
    "display(df.filter(col(\"score\") > 80).select(\"student_id\",\"name\",\"subject\",\"score\").orderBy(desc(\"score\")))\n",
    "display(spark.sql(\"SELECT * FROM student_scores WHERE score > 80\"))"
   ]
  },
  {
   "cell_type": "markdown",
   "metadata": {
    "application/vnd.databricks.v1+cell": {
     "cellMetadata": {},
     "inputWidgets": {},
     "nuid": "9fafa9fd-e869-4c45-9aff-94341bb90985",
     "showTitle": false,
     "tableResultSettingsMap": {},
     "title": ""
    }
   },
   "source": [
    "**Advanced Queries**\n",
    "\n",
    "5. Show student(s) with the highest score in each subject.\n",
    "\n",
    "6. Display grades with count of students in each.\n",
    "\n",
    "7. Show names of students who failed (grade F).\n",
    "\n",
    "8. List students with score between 60 and 80.\n",
    "\n",
    "9. Rank students within each subject based on scores."
   ]
  },
  {
   "cell_type": "code",
   "execution_count": 0,
   "metadata": {
    "application/vnd.databricks.v1+cell": {
     "cellMetadata": {
      "byteLimit": 2048000,
      "rowLimit": 10000
     },
     "inputWidgets": {},
     "nuid": "a59bd04f-fcf6-4e30-af6f-9c0526bd88e2",
     "showTitle": false,
     "tableResultSettingsMap": {},
     "title": ""
    }
   },
   "outputs": [
    {
     "output_type": "stream",
     "name": "stdout",
     "output_type": "stream",
     "text": [
      "+-------+-----+-----+\n|subject| name|score|\n+-------+-----+-----+\n|Science|Divya|   92|\n|English| Isha|   88|\n|   Math|Tanvi|   91|\n+-------+-----+-----+\n\n+-----+-----+\n|grade|count|\n+-----+-----+\n|    A|    4|\n|    C|    2|\n|    B|    2|\n|    F|    1|\n|    D|    1|\n+-----+-----+\n\n+-----+\n| name|\n+-----+\n|Rohan|\n+-----+\n\n+----------+-----+-------+-----+-----+\n|student_id| name|subject|score|grade|\n+----------+-----+-------+-----+-----+\n|         3|Rahul|English|   78|    B|\n|         4|Sneha|   Math|   65|    C|\n|         8|Kunal|Science|   72|    B|\n|         9|Megha|English|   60|    C|\n+----------+-----+-------+-----+-----+\n\n+-----+-------+-----+----+\n| name|subject|score|rank|\n+-----+-------+-----+----+\n| Isha|English|   88|   1|\n|Rahul|English|   78|   2|\n|Megha|English|   60|   3|\n|Tanvi|   Math|   91|   1|\n|Ankit|   Math|   85|   2|\n|Sneha|   Math|   65|   3|\n|Rohan|   Math|   40|   4|\n|Divya|Science|   92|   1|\n|Kunal|Science|   72|   2|\n|Aryan|Science|   55|   3|\n+-----+-------+-----+----+\n\n"
     ]
    }
   ],
   "source": [
    "# 5. Student(s) with highest score in each subject\n",
    "spark.sql(\"\"\"\n",
    "    SELECT subject, name, score\n",
    "    FROM student_scores\n",
    "    WHERE score IN (\n",
    "        SELECT MAX(score) FROM student_scores GROUP BY subject\n",
    "    )\n",
    "\"\"\").show()\n",
    "\n",
    "# 6. Grades with count of students\n",
    "spark.sql(\"SELECT grade, COUNT(*) AS count FROM student_scores GROUP BY grade\").show()\n",
    "\n",
    "# 7. Students who failed\n",
    "spark.sql(\"SELECT name FROM student_scores WHERE grade = 'F'\").show()\n",
    "\n",
    "# 8. Students with score between 60 and 80\n",
    "spark.sql(\"SELECT * FROM student_scores WHERE score BETWEEN 60 AND 80\").show()\n",
    "\n",
    "# 9. Rank students in each subject\n",
    "spark.sql(\"\"\"\n",
    "    SELECT name, subject, score,\n",
    "           RANK() OVER (PARTITION BY subject ORDER BY score DESC) AS rank\n",
    "    FROM student_scores\n",
    "\"\"\").show()\n"
   ]
  },
  {
   "cell_type": "markdown",
   "metadata": {
    "application/vnd.databricks.v1+cell": {
     "cellMetadata": {},
     "inputWidgets": {},
     "nuid": "ed304309-73f2-4420-ae80-628357944527",
     "showTitle": false,
     "tableResultSettingsMap": {},
     "title": ""
    }
   },
   "source": [
    "** Update & Delete Tasks**\n",
    "\n",
    "10.  Increase score of all English subject students by 5.\n",
    "\n",
    "11.  Delete all records where score is less than 50.\n",
    "\n",
    "12.  Add a new column pass_status (PASS if score >= 50 else FAIL)"
   ]
  },
  {
   "cell_type": "code",
   "execution_count": 0,
   "metadata": {
    "application/vnd.databricks.v1+cell": {
     "cellMetadata": {
      "byteLimit": 2048000,
      "rowLimit": 10000
     },
     "inputWidgets": {},
     "nuid": "f9a8cc48-25e1-40c0-854b-12b7b725aca2",
     "showTitle": false,
     "tableResultSettingsMap": {},
     "title": ""
    }
   },
   "outputs": [
    {
     "output_type": "display_data",
     "data": {
      "text/html": [
       "<style scoped>\n",
       "  .table-result-container {\n",
       "    max-height: 300px;\n",
       "    overflow: auto;\n",
       "  }\n",
       "  table, th, td {\n",
       "    border: 1px solid black;\n",
       "    border-collapse: collapse;\n",
       "  }\n",
       "  th, td {\n",
       "    padding: 5px;\n",
       "  }\n",
       "  th {\n",
       "    text-align: left;\n",
       "  }\n",
       "</style><div class='table-result-container'><table class='table-result'><thead style='background-color: white'><tr><th>student_id</th><th>name</th><th>subject</th><th>score</th><th>grade</th></tr></thead><tbody><tr><td>3</td><td>Rahul</td><td>English</td><td>93</td><td>B</td></tr><tr><td>6</td><td>Isha</td><td>English</td><td>103</td><td>A</td></tr><tr><td>9</td><td>Megha</td><td>English</td><td>75</td><td>C</td></tr><tr><td>1</td><td>Ankit</td><td>Math</td><td>85</td><td>A</td></tr><tr><td>2</td><td>Divya</td><td>Science</td><td>92</td><td>A</td></tr><tr><td>4</td><td>Sneha</td><td>Math</td><td>65</td><td>C</td></tr><tr><td>5</td><td>Aryan</td><td>Science</td><td>55</td><td>D</td></tr><tr><td>7</td><td>Tanvi</td><td>Math</td><td>91</td><td>A</td></tr><tr><td>8</td><td>Kunal</td><td>Science</td><td>72</td><td>B</td></tr></tbody></table></div>"
      ]
     },
     "metadata": {
      "application/vnd.databricks.v1+output": {
       "addedWidgets": {},
       "aggData": [],
       "aggError": "",
       "aggOverflow": false,
       "aggSchema": [],
       "aggSeriesLimitReached": false,
       "aggType": "",
       "arguments": {},
       "columnCustomDisplayInfos": {},
       "data": [
        [
         3,
         "Rahul",
         "English",
         93,
         "B"
        ],
        [
         6,
         "Isha",
         "English",
         103,
         "A"
        ],
        [
         9,
         "Megha",
         "English",
         75,
         "C"
        ],
        [
         1,
         "Ankit",
         "Math",
         85,
         "A"
        ],
        [
         2,
         "Divya",
         "Science",
         92,
         "A"
        ],
        [
         4,
         "Sneha",
         "Math",
         65,
         "C"
        ],
        [
         5,
         "Aryan",
         "Science",
         55,
         "D"
        ],
        [
         7,
         "Tanvi",
         "Math",
         91,
         "A"
        ],
        [
         8,
         "Kunal",
         "Science",
         72,
         "B"
        ]
       ],
       "datasetInfos": [],
       "dbfsResultPath": null,
       "isJsonSchema": true,
       "metadata": {},
       "overflow": false,
       "plotOptions": {
        "customPlotOptions": {},
        "displayType": "table",
        "pivotAggregation": null,
        "pivotColumns": null,
        "xColumns": null,
        "yColumns": null
       },
       "removedWidgets": [],
       "schema": [
        {
         "metadata": "{}",
         "name": "student_id",
         "type": "\"integer\""
        },
        {
         "metadata": "{}",
         "name": "name",
         "type": "\"string\""
        },
        {
         "metadata": "{}",
         "name": "subject",
         "type": "\"string\""
        },
        {
         "metadata": "{}",
         "name": "score",
         "type": "\"integer\""
        },
        {
         "metadata": "{}",
         "name": "grade",
         "type": "\"string\""
        }
       ],
       "type": "table"
      }
     },
     "output_type": "display_data"
    },
    {
     "output_type": "display_data",
     "data": {
      "text/html": [
       "<style scoped>\n",
       "  .table-result-container {\n",
       "    max-height: 300px;\n",
       "    overflow: auto;\n",
       "  }\n",
       "  table, th, td {\n",
       "    border: 1px solid black;\n",
       "    border-collapse: collapse;\n",
       "  }\n",
       "  th, td {\n",
       "    padding: 5px;\n",
       "  }\n",
       "  th {\n",
       "    text-align: left;\n",
       "  }\n",
       "</style><div class='table-result-container'><table class='table-result'><thead style='background-color: white'><tr><th>student_id</th><th>name</th><th>subject</th><th>score</th><th>grade</th></tr></thead><tbody><tr><td>3</td><td>Rahul</td><td>English</td><td>93</td><td>B</td></tr><tr><td>6</td><td>Isha</td><td>English</td><td>103</td><td>A</td></tr><tr><td>9</td><td>Megha</td><td>English</td><td>75</td><td>C</td></tr><tr><td>1</td><td>Ankit</td><td>Math</td><td>85</td><td>A</td></tr><tr><td>2</td><td>Divya</td><td>Science</td><td>92</td><td>A</td></tr><tr><td>4</td><td>Sneha</td><td>Math</td><td>65</td><td>C</td></tr><tr><td>5</td><td>Aryan</td><td>Science</td><td>55</td><td>D</td></tr><tr><td>7</td><td>Tanvi</td><td>Math</td><td>91</td><td>A</td></tr><tr><td>8</td><td>Kunal</td><td>Science</td><td>72</td><td>B</td></tr></tbody></table></div>"
      ]
     },
     "metadata": {
      "application/vnd.databricks.v1+output": {
       "addedWidgets": {},
       "aggData": [],
       "aggError": "",
       "aggOverflow": false,
       "aggSchema": [],
       "aggSeriesLimitReached": false,
       "aggType": "",
       "arguments": {},
       "columnCustomDisplayInfos": {},
       "data": [
        [
         3,
         "Rahul",
         "English",
         93,
         "B"
        ],
        [
         6,
         "Isha",
         "English",
         103,
         "A"
        ],
        [
         9,
         "Megha",
         "English",
         75,
         "C"
        ],
        [
         1,
         "Ankit",
         "Math",
         85,
         "A"
        ],
        [
         2,
         "Divya",
         "Science",
         92,
         "A"
        ],
        [
         4,
         "Sneha",
         "Math",
         65,
         "C"
        ],
        [
         5,
         "Aryan",
         "Science",
         55,
         "D"
        ],
        [
         7,
         "Tanvi",
         "Math",
         91,
         "A"
        ],
        [
         8,
         "Kunal",
         "Science",
         72,
         "B"
        ]
       ],
       "datasetInfos": [],
       "dbfsResultPath": null,
       "isJsonSchema": true,
       "metadata": {},
       "overflow": false,
       "plotOptions": {
        "customPlotOptions": {},
        "displayType": "table",
        "pivotAggregation": null,
        "pivotColumns": null,
        "xColumns": null,
        "yColumns": null
       },
       "removedWidgets": [],
       "schema": [
        {
         "metadata": "{}",
         "name": "student_id",
         "type": "\"integer\""
        },
        {
         "metadata": "{}",
         "name": "name",
         "type": "\"string\""
        },
        {
         "metadata": "{}",
         "name": "subject",
         "type": "\"string\""
        },
        {
         "metadata": "{}",
         "name": "score",
         "type": "\"integer\""
        },
        {
         "metadata": "{}",
         "name": "grade",
         "type": "\"string\""
        }
       ],
       "type": "table"
      }
     },
     "output_type": "display_data"
    }
   ],
   "source": [
    "from delta.tables import DeltaTable\n",
    "\n",
    "# Load delta table\n",
    "delta_table = DeltaTable.forPath(spark, \"/tmp/delta/student_scores\")\n",
    "\n",
    "# 10. Increase score of English students by 5\n",
    "delta_table.update(\n",
    "    condition=\"subject = 'English'\",\n",
    "    set={\"score\": \"score + 5\"}\n",
    ")\n",
    "display(delta_table.toDF())\n",
    "\n",
    "# 11. Delete students with score less than 50\n",
    "delta_table.delete(\"score < 50\")\n",
    "display(delta_table.toDF())\n",
    "\n",
    "\n"
   ]
  },
  {
   "cell_type": "code",
   "execution_count": 0,
   "metadata": {
    "application/vnd.databricks.v1+cell": {
     "cellMetadata": {
      "byteLimit": 2048000,
      "rowLimit": 10000
     },
     "inputWidgets": {},
     "nuid": "1c43be60-2af2-4666-bfd0-bbc29b52154d",
     "showTitle": false,
     "tableResultSettingsMap": {},
     "title": ""
    }
   },
   "outputs": [
    {
     "output_type": "display_data",
     "data": {
      "text/html": [
       "<style scoped>\n",
       "  .table-result-container {\n",
       "    max-height: 300px;\n",
       "    overflow: auto;\n",
       "  }\n",
       "  table, th, td {\n",
       "    border: 1px solid black;\n",
       "    border-collapse: collapse;\n",
       "  }\n",
       "  th, td {\n",
       "    padding: 5px;\n",
       "  }\n",
       "  th {\n",
       "    text-align: left;\n",
       "  }\n",
       "</style><div class='table-result-container'><table class='table-result'><thead style='background-color: white'><tr><th>student_id</th><th>name</th><th>subject</th><th>score</th><th>grade</th><th>pass_status</th></tr></thead><tbody><tr><td>3</td><td>Rahul</td><td>English</td><td>93</td><td>B</td><td>PASS</td></tr><tr><td>6</td><td>Isha</td><td>English</td><td>103</td><td>A</td><td>PASS</td></tr><tr><td>9</td><td>Megha</td><td>English</td><td>75</td><td>C</td><td>PASS</td></tr><tr><td>1</td><td>Ankit</td><td>Math</td><td>85</td><td>A</td><td>PASS</td></tr><tr><td>2</td><td>Divya</td><td>Science</td><td>92</td><td>A</td><td>PASS</td></tr><tr><td>4</td><td>Sneha</td><td>Math</td><td>65</td><td>C</td><td>PASS</td></tr><tr><td>5</td><td>Aryan</td><td>Science</td><td>55</td><td>D</td><td>PASS</td></tr><tr><td>7</td><td>Tanvi</td><td>Math</td><td>91</td><td>A</td><td>PASS</td></tr><tr><td>8</td><td>Kunal</td><td>Science</td><td>72</td><td>B</td><td>PASS</td></tr></tbody></table></div>"
      ]
     },
     "metadata": {
      "application/vnd.databricks.v1+output": {
       "addedWidgets": {},
       "aggData": [],
       "aggError": "",
       "aggOverflow": false,
       "aggSchema": [],
       "aggSeriesLimitReached": false,
       "aggType": "",
       "arguments": {},
       "columnCustomDisplayInfos": {},
       "data": [
        [
         3,
         "Rahul",
         "English",
         93,
         "B",
         "PASS"
        ],
        [
         6,
         "Isha",
         "English",
         103,
         "A",
         "PASS"
        ],
        [
         9,
         "Megha",
         "English",
         75,
         "C",
         "PASS"
        ],
        [
         1,
         "Ankit",
         "Math",
         85,
         "A",
         "PASS"
        ],
        [
         2,
         "Divya",
         "Science",
         92,
         "A",
         "PASS"
        ],
        [
         4,
         "Sneha",
         "Math",
         65,
         "C",
         "PASS"
        ],
        [
         5,
         "Aryan",
         "Science",
         55,
         "D",
         "PASS"
        ],
        [
         7,
         "Tanvi",
         "Math",
         91,
         "A",
         "PASS"
        ],
        [
         8,
         "Kunal",
         "Science",
         72,
         "B",
         "PASS"
        ]
       ],
       "datasetInfos": [],
       "dbfsResultPath": null,
       "isJsonSchema": true,
       "metadata": {},
       "overflow": false,
       "plotOptions": {
        "customPlotOptions": {},
        "displayType": "table",
        "pivotAggregation": null,
        "pivotColumns": null,
        "xColumns": null,
        "yColumns": null
       },
       "removedWidgets": [],
       "schema": [
        {
         "metadata": "{}",
         "name": "student_id",
         "type": "\"integer\""
        },
        {
         "metadata": "{}",
         "name": "name",
         "type": "\"string\""
        },
        {
         "metadata": "{}",
         "name": "subject",
         "type": "\"string\""
        },
        {
         "metadata": "{}",
         "name": "score",
         "type": "\"integer\""
        },
        {
         "metadata": "{}",
         "name": "grade",
         "type": "\"string\""
        },
        {
         "metadata": "{}",
         "name": "pass_status",
         "type": "\"string\""
        }
       ],
       "type": "table"
      }
     },
     "output_type": "display_data"
    }
   ],
   "source": [
    "from pyspark.sql.functions import when, col\n",
    "\n",
    "# Load delta table into DataFrame\n",
    "df_delta = delta_table.toDF()\n",
    "\n",
    "# Add new column\n",
    "df_delta = df_delta.withColumn(\n",
    "    \"pass_status\",\n",
    "    when(col(\"score\") >= 50, \"PASS\").otherwise(\"FAIL\")\n",
    ")\n",
    "display(df_delta)\n"
   ]
  },
  {
   "cell_type": "markdown",
   "metadata": {
    "application/vnd.databricks.v1+cell": {
     "cellMetadata": {},
     "inputWidgets": {},
     "nuid": "c439deb9-7548-40d7-b3db-8b29efc040e0",
     "showTitle": false,
     "tableResultSettingsMap": {},
     "title": ""
    }
   },
   "source": [
    "**Data Transformation & Views**\n",
    "\n",
    "13. Create a temporary view and run SQL to get average scores.\n",
    "\n",
    "14. Convert updated DataFrame into a new Delta table called student_scores_v2 .\n",
    "\n",
    "15. Write the final data to Parquet and JSON format."
   ]
  },
  {
   "cell_type": "code",
   "execution_count": 0,
   "metadata": {
    "application/vnd.databricks.v1+cell": {
     "cellMetadata": {
      "byteLimit": 2048000,
      "rowLimit": 10000
     },
     "inputWidgets": {},
     "nuid": "bc35d3c6-fd56-423a-9378-9f9a9b0fe837",
     "showTitle": false,
     "tableResultSettingsMap": {},
     "title": ""
    }
   },
   "outputs": [
    {
     "output_type": "stream",
     "name": "stdout",
     "output_type": "stream",
     "text": [
      "+-------+-----------------+\n|subject|        avg_score|\n+-------+-----------------+\n|English|75.33333333333333|\n|   Math|            70.25|\n|Science|             73.0|\n+-------+-----------------+\n\n"
     ]
    }
   ],
   "source": [
    "# 13. Temporary view for SQL queries\n",
    "df.createOrReplaceTempView(\"student_scores_view\")\n",
    "spark.sql(\"SELECT subject, AVG(score) AS avg_score FROM student_scores_view GROUP BY subject\").show()\n",
    "\n",
    "# 14. Save updated data as a new Delta table\n",
    "delta_table.toDF().write.format(\"delta\").mode(\"overwrite\").save(\"/tmp/delta/student_scores_v2\")\n",
    "\n",
    "# 15. Write final data to Parquet and JSON\n",
    "delta_table.toDF().write.mode(\"overwrite\").parquet(\"/tmp/parquet/student_scores\")\n",
    "delta_table.toDF().write.mode(\"overwrite\").json(\"/tmp/json/student_scores\")\n"
   ]
  }
 ],
 "metadata": {
  "application/vnd.databricks.v1+notebook": {
   "computePreferences": null,
   "dashboards": [],
   "environmentMetadata": {
    "base_environment": "",
    "environment_version": "2"
   },
   "inputWidgetPreferences": null,
   "language": "python",
   "notebookMetadata": {
    "pythonIndentUnit": 4
   },
   "notebookName": "Student_scores_Task2",
   "widgets": {}
  },
  "language_info": {
   "name": "python"
  }
 },
 "nbformat": 4,
 "nbformat_minor": 0
}